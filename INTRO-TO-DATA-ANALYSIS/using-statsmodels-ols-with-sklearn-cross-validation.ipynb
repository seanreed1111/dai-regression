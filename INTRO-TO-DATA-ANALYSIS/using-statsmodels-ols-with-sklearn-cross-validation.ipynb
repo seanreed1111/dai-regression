{
 "cells": [
  {
   "cell_type": "markdown",
   "metadata": {},
   "source": [
    "Using statsmodel estimations with scikit-learn cross validation, is it possible?\n",
    "\n",
    "source: https://stackoverflow.com/questions/41045752/using-statsmodel-estimations-with-scikit-learn-cross-validation-is-it-possible/48949667#48949667"
   ]
  },
  {
   "cell_type": "code",
   "execution_count": 1,
   "metadata": {},
   "outputs": [],
   "source": [
    "import statsmodels.api as sm\n",
    "from sklearn.base import BaseEstimator, RegressorMixin\n",
    "from src.wrapper import SMWrapper"
   ]
  },
  {
   "cell_type": "code",
   "execution_count": 2,
   "metadata": {},
   "outputs": [
    {
     "name": "stdout",
     "output_type": "stream",
     "text": [
      "[0.363997   0.28253087 0.3445757  0.50863318 0.6248952 ]\n",
      "[0.363997   0.28253087 0.3445757  0.50863318 0.6248952 ]\n"
     ]
    }
   ],
   "source": [
    "from sklearn.datasets import make_regression\n",
    "from sklearn.model_selection import cross_val_score\n",
    "from sklearn.linear_model import LinearRegression\n",
    "\n",
    "X, y = make_regression(random_state=1, n_samples=300, noise=100)\n",
    "\n",
    "print(cross_val_score(SMWrapper(sm.OLS), X, y, scoring='r2')) #output should be identical\n",
    "print(cross_val_score(LinearRegression(), X, y, scoring='r2')) #output should be identical"
   ]
  },
  {
   "cell_type": "code",
   "execution_count": 3,
   "metadata": {},
   "outputs": [
    {
     "data": {
      "text/plain": [
       "'/Users/seanreed1/DEVELOPMENT/DAI/regression/INTRO-TO-DATA-ANALYSIS'"
      ]
     },
     "execution_count": 3,
     "metadata": {},
     "output_type": "execute_result"
    }
   ],
   "source": [
    "pwd"
   ]
  },
  {
   "cell_type": "code",
   "execution_count": null,
   "metadata": {},
   "outputs": [],
   "source": []
  }
 ],
 "metadata": {
  "kernelspec": {
   "display_name": "Python 3",
   "language": "python",
   "name": "python3"
  },
  "language_info": {
   "codemirror_mode": {
    "name": "ipython",
    "version": 3
   },
   "file_extension": ".py",
   "mimetype": "text/x-python",
   "name": "python",
   "nbconvert_exporter": "python",
   "pygments_lexer": "ipython3",
   "version": "3.9.2"
  }
 },
 "nbformat": 4,
 "nbformat_minor": 4
}
