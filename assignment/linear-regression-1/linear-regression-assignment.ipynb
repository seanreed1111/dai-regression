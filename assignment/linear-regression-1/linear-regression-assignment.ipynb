{
 "cells": [
  {
   "cell_type": "code",
   "execution_count": 1,
   "metadata": {},
   "outputs": [],
   "source": [
    "import pandas as pd\n",
    "import numpy as np\n",
    "import statsmodels.formula.api as smf\n",
    "import matplotlib.pyplot as plt\n",
    "import seaborn as sns\n",
    "from sklearn.metrics import r2_score, mean_squared_error\n",
    "%matplotlib inline"
   ]
  },
  {
   "cell_type": "code",
   "execution_count": null,
   "metadata": {},
   "outputs": [],
   "source": [
    "import pandas as pd\n",
    "from sklearn.model_selection import train_test_split\n",
    "def statmodels_split(df, stratify=None, **kwargs):\n",
    "    \"\"\"\n",
    "    Inputs\n",
    "        df: pandas dataframe.\n",
    "            if stratify is None, target column MUST be the first column in the dataframe\n",
    "        \n",
    "        stratify: target, as pandas Series or None\n",
    "    \n",
    "    Returns: \n",
    "        Tuple of dataframes (df_train, df_test) \n",
    "    \"\"\"\n",
    "\n",
    "    if stratify is None:\n",
    "        y, X = df.iloc[:,0], df.drop(columns=df.columns[0])\n",
    "        X_train, X_test, y_train, y_test = train_test_split(X,y, **kwargs)\n",
    "    else:\n",
    "        y, X = stratify, df.drop(columns = stratify.name)\n",
    "        X_train, X_test, y_train, y_test = train_test_split(X,y,stratify=y, **kwargs)\n",
    "    \n",
    "    return pd.concat([X_train, y_train], axis=1), pd.concat([X_test, y_test], axis=1)"
   ]
  },
  {
   "cell_type": "code",
   "execution_count": null,
   "metadata": {},
   "outputs": [],
   "source": [
    "filename = 'dataset_Facebook.csv'\n",
    "path = os.path.join('..','data') \n",
    "filepath = os.path.join(path, filename)"
   ]
  },
  {
   "cell_type": "markdown",
   "metadata": {},
   "source": [
    "### Problem: Using data1.csv\n",
    "1. Do a train-test split of the data\n",
    "1. Make a linear regression model of Y vs X\n",
    "1. Compute the mean_squared_error and r2_score using the *test data* for your model"
   ]
  },
  {
   "cell_type": "markdown",
   "metadata": {},
   "source": [
    "### Problem: Using data3.csv\n",
    "1. Do a train-test split of the data\n",
    "1. Make a linear regression model of Y vs X\n",
    "1. Compute the mean_squared_error and r2_score using the *test data* for your model"
   ]
  },
  {
   "cell_type": "markdown",
   "metadata": {},
   "source": [
    "### Problem: The iris dataset\n",
    "\n",
    "1. do a train-test split of the data\n",
    "1. do EDA on the training data\n",
    "1. Make a linear regression model from the training data of sepal_length based on the other four variables\n",
    "1. Make a linear regression model from the training data of petal_width based on the other four variables\n",
    "1. Compute the mean_squared_error and r2_score using the *test data* for your two models above.\n"
   ]
  },
  {
   "cell_type": "markdown",
   "metadata": {},
   "source": [
    "### Problem: The penguin dataset\n",
    "\n",
    "1. do a train-test split of the data. stratify by species\n",
    "1. do EDA on the training data\n",
    "1. Make a linear regression model from the training data of flipper length based on the other variables\n",
    "1. Compute the mean_squared_error and r2_score using the *test data* for your models"
   ]
  },
  {
   "cell_type": "code",
   "execution_count": 2,
   "metadata": {},
   "outputs": [
    {
     "name": "stdout",
     "output_type": "stream",
     "text": [
      "/Users/seanreed1/DEVELOPMENT/DAI/linear-regression/assignment\n"
     ]
    }
   ],
   "source": [
    "\n",
    "pd.read_csv('')"
   ]
  },
  {
   "cell_type": "code",
   "execution_count": null,
   "metadata": {},
   "outputs": [],
   "source": []
  }
 ],
 "metadata": {
  "kernelspec": {
   "display_name": "Python 3",
   "language": "python",
   "name": "python3"
  },
  "language_info": {
   "codemirror_mode": {
    "name": "ipython",
    "version": 3
   },
   "file_extension": ".py",
   "mimetype": "text/x-python",
   "name": "python",
   "nbconvert_exporter": "python",
   "pygments_lexer": "ipython3",
   "version": "3.9.2"
  }
 },
 "nbformat": 4,
 "nbformat_minor": 4
}
