{
 "cells": [
  {
   "cell_type": "code",
   "execution_count": 20,
   "metadata": {},
   "outputs": [],
   "source": [
    "import pandas as pd\n",
    "import numpy as np\n",
    "import statsmodels.formula.api as smf\n",
    "import seaborn as sns\n",
    "from sklearn.metrics import r2_score, mean_squared_error"
   ]
  },
  {
   "cell_type": "markdown",
   "metadata": {},
   "source": [
    "### Problem 1: The iris dataset\n",
    "\n",
    "A) do a train-test split of the data\n",
    "B) do EDA on the training data\n",
    "C) Make a linear regression model from the training data of sepal_length based on the other four variables\n",
    "D) Make a linear regression model from the training data of petal_width based on the other four variables\n",
    "E) Compute the mean_squared_error and r2_score using the *test data* for your models from C) and  D) above .\n"
   ]
  },
  {
   "cell_type": "code",
   "execution_count": null,
   "metadata": {},
   "outputs": [],
   "source": []
  },
  {
   "cell_type": "markdown",
   "metadata": {},
   "source": [
    "### Problem 2: The penguin dataset DATA\n",
    "\n",
    "A) do a train-test split of the data\n",
    "B) do EDA on the training data\n",
    "C) Make a linear regression model from the training data of flipper length based on the other variables\n",
    "D) Compute the mean_squared_error and r2_score using the *test data* for your model"
   ]
  },
  {
   "cell_type": "code",
   "execution_count": null,
   "metadata": {},
   "outputs": [],
   "source": []
  },
  {
   "cell_type": "markdown",
   "metadata": {},
   "source": [
    "### Problem 3: Using data1.csv\n",
    "A) do a train-test split of the data\n",
    "B) Make a linear regression model of Y vs X\n",
    "C) Compute the mean_squared_error and r2_score using the *test data* for your model"
   ]
  },
  {
   "cell_type": "code",
   "execution_count": null,
   "metadata": {},
   "outputs": [],
   "source": []
  },
  {
   "cell_type": "markdown",
   "metadata": {},
   "source": [
    "### Problem 4: Using data3.csv\n",
    "A) do a train-test split of the data\n",
    "B) Make a linear regression model of Y vs X\n",
    "C) Compute the mean_squared_error and r2_score using the *test data* for your model"
   ]
  },
  {
   "cell_type": "code",
   "execution_count": null,
   "metadata": {},
   "outputs": [],
   "source": []
  },
  {
   "cell_type": "markdown",
   "metadata": {},
   "source": [
    "### Problem 5: Using data4.csv\n",
    "A) do a train-test split of the data\n",
    "B) Make a linear regression model of Y vs X\n",
    "C) Compute the mean_squared_error and r2_score using the *test data* for your model"
   ]
  },
  {
   "cell_type": "code",
   "execution_count": null,
   "metadata": {},
   "outputs": [],
   "source": []
  }
 ],
 "metadata": {
  "kernelspec": {
   "display_name": "Python 3",
   "language": "python",
   "name": "python3"
  },
  "language_info": {
   "codemirror_mode": {
    "name": "ipython",
    "version": 3
   },
   "file_extension": ".py",
   "mimetype": "text/x-python",
   "name": "python",
   "nbconvert_exporter": "python",
   "pygments_lexer": "ipython3",
   "version": "3.7.7"
  }
 },
 "nbformat": 4,
 "nbformat_minor": 4
}
