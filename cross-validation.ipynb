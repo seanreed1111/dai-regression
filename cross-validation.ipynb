{
 "cells": [
  {
   "cell_type": "markdown",
   "id": "d36d5efc",
   "metadata": {},
   "source": [
    "## Learning Objective\n",
    "- Define a train/test split and its importance in evaluating models "
   ]
  },
  {
   "cell_type": "markdown",
   "id": "768ba996",
   "metadata": {},
   "source": [
    "(Cross-validation: evaluating estimator performance)[https://scikit-learn.org/stable/modules/cross_validation.html#cross-validation]"
   ]
  },
  {
   "cell_type": "code",
   "execution_count": 92,
   "id": "5e9f4996",
   "metadata": {},
   "outputs": [],
   "source": [
    "import os\n",
    "import numpy as np\n",
    "import pandas as pd\n",
    "from sklearn.datasets import make_regression\n",
    "from sklearn.model_selection import cross_val_score\n",
    "from sklearn.linear_model import LinearRegression\n",
    "from sklearn.base import BaseEstimator, RegressorMixin\n",
    "from sklearn.metrics import r2_score, mean_squared_error\n",
    "import statsmodels.api as sm\n",
    "import statsmodels.formula.api as smf\n",
    "import patsy"
   ]
  },
  {
   "cell_type": "markdown",
   "id": "9899f191",
   "metadata": {},
   "source": [
    "Learning the parameters of a prediction function and testing it on the same data is a methodological mistake: a model that would just repeat the labels of the samples that it has just seen would have a perfect score but would fail to predict anything useful on yet-unseen data. \n",
    "\n",
    "This situation is called overfitting. \n",
    "To avoid it, it is common practice when performing a (supervised) machine learning experiment to:\n",
    "1. Build your model only using part of the available data as a train set: `(X_train, y_train)`\n",
    "1. Use the rest of the available data as a test set: `(X_test, y_test)`. "
   ]
  },
  {
   "cell_type": "markdown",
   "id": "7872517e",
   "metadata": {},
   "source": [
    "In scikit-learn a random split into training and test sets can be quickly computed with the `train_test_split` helper function.\n",
    "\n",
    "Statsmodels does not have equivalent splitting functionality.  However, we can use a special wrapper class from the internet to use sklearn's function directly. But, we have to l"
   ]
  },
  {
   "cell_type": "code",
   "execution_count": null,
   "id": "f688112d",
   "metadata": {},
   "outputs": [],
   "source": []
  },
  {
   "cell_type": "code",
   "execution_count": null,
   "id": "9890153e",
   "metadata": {},
   "outputs": [],
   "source": []
  },
  {
   "cell_type": "markdown",
   "id": "28a1949f",
   "metadata": {},
   "source": [
    "# This doesn't work with categorical data. Will need to use patsy.dmatrices to get a proper function\n"
   ]
  },
  {
   "cell_type": "markdown",
   "id": "e62d2fb8",
   "metadata": {},
   "source": [
    "# Show students how to run models with categorical data without smf! "
   ]
  },
  {
   "cell_type": "code",
   "execution_count": 26,
   "id": "8d9ddbc7",
   "metadata": {},
   "outputs": [
    {
     "name": "stdout",
     "output_type": "stream",
     "text": [
      "[0.92239242 0.93036625 0.72960812 0.91261743 0.90798736]\n",
      "[0.92239242 0.93036625 0.72960812 0.91261743 0.90798736]\n"
     ]
    }
   ],
   "source": [
    "# Original\n",
    "from sklearn.base import BaseEstimator, RegressorMixin\n",
    "import statsmodels.api as sm\n",
    "class SMWrapper(BaseEstimator, RegressorMixin):\n",
    "    \"\"\" A universal sklearn-style wrapper for statsmodels regressors \"\"\"\n",
    "    def __init__(self, model_class, fit_intercept=True):\n",
    "        self.model_class = model_class\n",
    "        self.fit_intercept = fit_intercept\n",
    "        \n",
    "    def fit(self, X, y):\n",
    "        if self.fit_intercept:\n",
    "            X = sm.add_constant(X)\n",
    "        self.model_ = self.model_class(y, X)\n",
    "        self.results_ = self.model_.fit()\n",
    "\n",
    "    def predict(self, X):\n",
    "        if self.fit_intercept:\n",
    "            X = sm.add_constant(X)\n",
    "\n",
    "        return self.results_.predict(X)\n",
    "    \n",
    "X, y = make_regression(random_state=1,  n_features=5, n_samples=100, n_informative=3, noise=20)\n",
    "\n",
    "print(cross_val_score(SMWrapper(sm.OLS), X, y, scoring='r2')) #output should be identical\n",
    "print(cross_val_score(LinearRegression(), X, y, scoring='r2')) #output should be identical"
   ]
  },
  {
   "cell_type": "code",
   "execution_count": null,
   "id": "d12592b8",
   "metadata": {},
   "outputs": [],
   "source": []
  },
  {
   "cell_type": "code",
   "execution_count": 72,
   "id": "9fb9c21e",
   "metadata": {},
   "outputs": [
    {
     "name": "stdout",
     "output_type": "stream",
     "text": [
      "<class 'pandas.core.frame.DataFrame'>\n",
      "RangeIndex: 42 entries, 0 to 41\n",
      "Data columns (total 4 columns):\n",
      " #   Column     Non-Null Count  Dtype  \n",
      "---  ------     --------------  -----  \n",
      " 0   continent  42 non-null     int64  \n",
      " 1   latitude   42 non-null     float64\n",
      " 2   wingsize   42 non-null     int64  \n",
      " 3   sex        42 non-null     int64  \n",
      "dtypes: float64(1), int64(3)\n",
      "memory usage: 1.4 KB\n"
     ]
    }
   ],
   "source": [
    "filename = 'insects.csv'\n",
    "\n",
    "filepath = os.path.join(path, filename)\n",
    "df = pd.read_csv(filepath, header=1, sep='\\s+')\n",
    "df.info()"
   ]
  },
  {
   "cell_type": "code",
   "execution_count": 73,
   "id": "a90ed157",
   "metadata": {},
   "outputs": [],
   "source": [
    "formula = 'wingsize ~ latitude'\n",
    "y = patsy.dmatrices(formula, df)[0]"
   ]
  },
  {
   "cell_type": "code",
   "execution_count": 74,
   "id": "53802ff0",
   "metadata": {},
   "outputs": [],
   "source": [
    "X = patsy.dmatrices(formula, df)[1]"
   ]
  },
  {
   "cell_type": "code",
   "execution_count": 75,
   "id": "61d05c40",
   "metadata": {},
   "outputs": [
    {
     "name": "stdout",
     "output_type": "stream",
     "text": [
      "[-43.46712516  -0.29025087 -26.02432009]\n",
      "[-43.46712516  -0.29025087 -26.02432009]\n"
     ]
    }
   ],
   "source": [
    "print(cross_val_score(SMWrapper(sm.OLS), X, y, scoring='r2', cv=3))\n",
    "print(cross_val_score(LinearRegression(), X, y, scoring='r2', cv=3))"
   ]
  },
  {
   "cell_type": "code",
   "execution_count": null,
   "id": "429750e6",
   "metadata": {},
   "outputs": [],
   "source": []
  },
  {
   "cell_type": "code",
   "execution_count": null,
   "id": "7f4ed077",
   "metadata": {},
   "outputs": [],
   "source": []
  },
  {
   "cell_type": "code",
   "execution_count": 76,
   "id": "7d618799",
   "metadata": {},
   "outputs": [],
   "source": [
    "formula = 'wingsize ~ latitude + C(sex)'\n",
    "\n",
    "y, X = patsy.dmatrices(formula, df)"
   ]
  },
  {
   "cell_type": "code",
   "execution_count": 77,
   "id": "a4296fa4",
   "metadata": {},
   "outputs": [
    {
     "data": {
      "text/plain": [
       "DesignMatrix with shape (42, 1)\n",
       "  wingsize\n",
       "       901\n",
       "       896\n",
       "       906\n",
       "       907\n",
       "       898\n",
       "       893\n",
       "       913\n",
       "       915\n",
       "       927\n",
       "       924\n",
       "       930\n",
       "       905\n",
       "       889\n",
       "       915\n",
       "       930\n",
       "       895\n",
       "       926\n",
       "       944\n",
       "       925\n",
       "       920\n",
       "       934\n",
       "       797\n",
       "       806\n",
       "       812\n",
       "       807\n",
       "       818\n",
       "       809\n",
       "       810\n",
       "       819\n",
       "       800\n",
       "  [12 rows omitted]\n",
       "  Terms:\n",
       "    'wingsize' (column 0)\n",
       "  (to view full data, use np.asarray(this_obj))"
      ]
     },
     "execution_count": 77,
     "metadata": {},
     "output_type": "execute_result"
    }
   ],
   "source": [
    "y"
   ]
  },
  {
   "cell_type": "code",
   "execution_count": 78,
   "id": "4613e0e7",
   "metadata": {},
   "outputs": [
    {
     "data": {
      "text/plain": [
       "DesignMatrix with shape (42, 3)\n",
       "  Intercept  C(sex)[T.1]  latitude\n",
       "          1            0      35.5\n",
       "          1            0      37.0\n",
       "          1            0      38.6\n",
       "          1            0      40.7\n",
       "          1            0      40.9\n",
       "          1            0      42.4\n",
       "          1            0      45.0\n",
       "          1            0      46.8\n",
       "          1            0      48.8\n",
       "          1            0      49.8\n",
       "          1            0      50.8\n",
       "          1            0      36.4\n",
       "          1            0      39.3\n",
       "          1            0      41.3\n",
       "          1            0      43.4\n",
       "          1            0      45.5\n",
       "          1            0      47.3\n",
       "          1            0      48.5\n",
       "          1            0      50.4\n",
       "          1            0      52.1\n",
       "          1            0      56.1\n",
       "          1            1      35.5\n",
       "          1            1      37.0\n",
       "          1            1      38.6\n",
       "          1            1      40.7\n",
       "          1            1      40.9\n",
       "          1            1      42.4\n",
       "          1            1      45.0\n",
       "          1            1      46.8\n",
       "          1            1      48.8\n",
       "  [12 rows omitted]\n",
       "  Terms:\n",
       "    'Intercept' (column 0)\n",
       "    'C(sex)' (column 1)\n",
       "    'latitude' (column 2)\n",
       "  (to view full data, use np.asarray(this_obj))"
      ]
     },
     "execution_count": 78,
     "metadata": {},
     "output_type": "execute_result"
    }
   ],
   "source": [
    "X"
   ]
  },
  {
   "cell_type": "code",
   "execution_count": 79,
   "id": "03f47603",
   "metadata": {},
   "outputs": [
    {
     "name": "stdout",
     "output_type": "stream",
     "text": [
      "-0.6267024079010886\n",
      "-0.6267024079010539\n"
     ]
    }
   ],
   "source": [
    "print(np.mean(cross_val_score(SMWrapper(sm.OLS), X, y, scoring='r2', cv=10)))\n",
    "print(np.mean(cross_val_score(LinearRegression(), X, y, scoring='r2', cv=10)))"
   ]
  },
  {
   "cell_type": "code",
   "execution_count": null,
   "id": "4fbe7bc5",
   "metadata": {},
   "outputs": [],
   "source": []
  },
  {
   "cell_type": "code",
   "execution_count": 61,
   "id": "22d9d494",
   "metadata": {},
   "outputs": [],
   "source": [
    "import os\n",
    "filename = 'cars_multivariate.csv'\n",
    "path = os.path.join('.','data')\n",
    "\n",
    "filepath = os.path.join(path, filename)\n",
    "df = pd.read_csv(filepath)\n",
    "df['horsepower'] = pd.to_numeric(df['horsepower'], errors='coerce').dropna()"
   ]
  },
  {
   "cell_type": "code",
   "execution_count": 67,
   "id": "cb5082a9",
   "metadata": {},
   "outputs": [],
   "source": [
    "formula = 'mpg ~ horsepower+ weight+ acceleration'\n",
    "y, X = patsy.dmatrices(formula, df)"
   ]
  },
  {
   "cell_type": "code",
   "execution_count": 68,
   "id": "ff532075",
   "metadata": {},
   "outputs": [
    {
     "data": {
      "text/plain": [
       "DesignMatrix with shape (392, 1)\n",
       "  mpg\n",
       "   18\n",
       "   15\n",
       "   18\n",
       "   16\n",
       "   17\n",
       "   15\n",
       "   14\n",
       "   14\n",
       "   14\n",
       "   15\n",
       "   15\n",
       "   14\n",
       "   15\n",
       "   14\n",
       "   24\n",
       "   22\n",
       "   18\n",
       "   21\n",
       "   27\n",
       "   26\n",
       "   25\n",
       "   24\n",
       "   25\n",
       "   26\n",
       "   21\n",
       "   10\n",
       "   10\n",
       "   11\n",
       "    9\n",
       "   27\n",
       "  [362 rows omitted]\n",
       "  Terms:\n",
       "    'mpg' (column 0)\n",
       "  (to view full data, use np.asarray(this_obj))"
      ]
     },
     "execution_count": 68,
     "metadata": {},
     "output_type": "execute_result"
    }
   ],
   "source": [
    "y"
   ]
  },
  {
   "cell_type": "code",
   "execution_count": 69,
   "id": "b1f5eb4b",
   "metadata": {},
   "outputs": [
    {
     "data": {
      "text/plain": [
       "DesignMatrix with shape (392, 4)\n",
       "  Intercept  horsepower  weight  acceleration\n",
       "          1         130    3504          12.0\n",
       "          1         165    3693          11.5\n",
       "          1         150    3436          11.0\n",
       "          1         150    3433          12.0\n",
       "          1         140    3449          10.5\n",
       "          1         198    4341          10.0\n",
       "          1         220    4354           9.0\n",
       "          1         215    4312           8.5\n",
       "          1         225    4425          10.0\n",
       "          1         190    3850           8.5\n",
       "          1         170    3563          10.0\n",
       "          1         160    3609           8.0\n",
       "          1         150    3761           9.5\n",
       "          1         225    3086          10.0\n",
       "          1          95    2372          15.0\n",
       "          1          95    2833          15.5\n",
       "          1          97    2774          15.5\n",
       "          1          85    2587          16.0\n",
       "          1          88    2130          14.5\n",
       "          1          46    1835          20.5\n",
       "          1          87    2672          17.5\n",
       "          1          90    2430          14.5\n",
       "          1          95    2375          17.5\n",
       "          1         113    2234          12.5\n",
       "          1          90    2648          15.0\n",
       "          1         215    4615          14.0\n",
       "          1         200    4376          15.0\n",
       "          1         210    4382          13.5\n",
       "          1         193    4732          18.5\n",
       "          1          88    2130          14.5\n",
       "  [362 rows omitted]\n",
       "  Terms:\n",
       "    'Intercept' (column 0)\n",
       "    'horsepower' (column 1)\n",
       "    'weight' (column 2)\n",
       "    'acceleration' (column 3)\n",
       "  (to view full data, use np.asarray(this_obj))"
      ]
     },
     "execution_count": 69,
     "metadata": {},
     "output_type": "execute_result"
    }
   ],
   "source": [
    "X"
   ]
  },
  {
   "cell_type": "code",
   "execution_count": 70,
   "id": "221dbc81",
   "metadata": {},
   "outputs": [
    {
     "name": "stdout",
     "output_type": "stream",
     "text": [
      "0.3915526731610508\n"
     ]
    }
   ],
   "source": [
    "print(np.mean(cross_val_score(LinearRegression(), X, y, scoring='r2', cv=10)))"
   ]
  },
  {
   "cell_type": "code",
   "execution_count": null,
   "id": "ba22ab90",
   "metadata": {},
   "outputs": [],
   "source": []
  },
  {
   "cell_type": "code",
   "execution_count": null,
   "id": "78e38095",
   "metadata": {},
   "outputs": [],
   "source": [
    "formula = 'wingsize ~ latitude + C(sex)'"
   ]
  },
  {
   "cell_type": "code",
   "execution_count": null,
   "id": "b96c6791",
   "metadata": {},
   "outputs": [],
   "source": []
  },
  {
   "cell_type": "code",
   "execution_count": 80,
   "id": "e9b3e614",
   "metadata": {},
   "outputs": [],
   "source": [
    "import pandas as pd\n",
    "from sklearn.model_selection import train_test_split\n",
    "def statmodels_split(df, stratify=None, **kwargs):\n",
    "    \"\"\"\n",
    "    Inputs\n",
    "    df: pandas dataframe.\n",
    "        if stratify is None, target column MUST be the first column in the dataframe\n",
    "        \n",
    "    stratify: target column or None\n",
    "    \n",
    "    Returns: \n",
    "    Tuple of dataframes (df_train, df_test) \n",
    "    \"\"\"\n",
    "\n",
    "    if stratify is None:\n",
    "        y, X = df.iloc[:,0], df.drop(columns=df.columns[0])\n",
    "        X_train, X_test, y_train, y_test = train_test_split(X,y, **kwargs)\n",
    "    else:\n",
    "        y, X = stratify, df.drop(columns = stratify.name)\n",
    "        X_train, X_test, y_train, y_test = train_test_split(X,y,stratify=y, **kwargs)\n",
    "    \n",
    "    return pd.concat([X_train, y_train], axis=1), pd.concat([X_test, y_test], axis=1)"
   ]
  },
  {
   "cell_type": "code",
   "execution_count": 81,
   "id": "5014a141",
   "metadata": {},
   "outputs": [
    {
     "name": "stdout",
     "output_type": "stream",
     "text": [
      "<class 'pandas.core.frame.DataFrame'>\n",
      "RangeIndex: 42 entries, 0 to 41\n",
      "Data columns (total 4 columns):\n",
      " #   Column     Non-Null Count  Dtype  \n",
      "---  ------     --------------  -----  \n",
      " 0   continent  42 non-null     int64  \n",
      " 1   latitude   42 non-null     float64\n",
      " 2   wingsize   42 non-null     int64  \n",
      " 3   sex        42 non-null     int64  \n",
      "dtypes: float64(1), int64(3)\n",
      "memory usage: 1.4 KB\n"
     ]
    }
   ],
   "source": [
    "filename = 'insects.csv'\n",
    "path = './data'\n",
    "filepath = os.path.join(path, filename)\n",
    "df = pd.read_csv(filepath, header=1, sep='\\s+')\n",
    "df.info()"
   ]
  },
  {
   "cell_type": "code",
   "execution_count": 94,
   "id": "9c15eb9d",
   "metadata": {},
   "outputs": [],
   "source": [
    "# train, test = statmodels_split(df, stratify = df['sex'])\n",
    "train, test = statmodels_split(df)"
   ]
  },
  {
   "cell_type": "code",
   "execution_count": null,
   "id": "8832bde5",
   "metadata": {},
   "outputs": [],
   "source": []
  },
  {
   "cell_type": "code",
   "execution_count": 95,
   "id": "2d472dbe",
   "metadata": {},
   "outputs": [],
   "source": [
    "formula = 'wingsize ~ latitude + C(sex)'\n",
    "insect_model = smf.ols(formula=formula, data=train).fit()"
   ]
  },
  {
   "cell_type": "code",
   "execution_count": 96,
   "id": "d44e2d16",
   "metadata": {},
   "outputs": [
    {
     "data": {
      "text/html": [
       "<table class=\"simpletable\">\n",
       "<caption>OLS Regression Results</caption>\n",
       "<tr>\n",
       "  <th>Dep. Variable:</th>        <td>wingsize</td>     <th>  R-squared:         </th> <td>   0.946</td>\n",
       "</tr>\n",
       "<tr>\n",
       "  <th>Model:</th>                   <td>OLS</td>       <th>  Adj. R-squared:    </th> <td>   0.942</td>\n",
       "</tr>\n",
       "<tr>\n",
       "  <th>Method:</th>             <td>Least Squares</td>  <th>  F-statistic:       </th> <td>   246.4</td>\n",
       "</tr>\n",
       "<tr>\n",
       "  <th>Date:</th>             <td>Fri, 09 Jul 2021</td> <th>  Prob (F-statistic):</th> <td>1.68e-18</td>\n",
       "</tr>\n",
       "<tr>\n",
       "  <th>Time:</th>                 <td>23:54:03</td>     <th>  Log-Likelihood:    </th> <td> -121.14</td>\n",
       "</tr>\n",
       "<tr>\n",
       "  <th>No. Observations:</th>      <td>    31</td>      <th>  AIC:               </th> <td>   248.3</td>\n",
       "</tr>\n",
       "<tr>\n",
       "  <th>Df Residuals:</th>          <td>    28</td>      <th>  BIC:               </th> <td>   252.6</td>\n",
       "</tr>\n",
       "<tr>\n",
       "  <th>Df Model:</th>              <td>     2</td>      <th>                     </th>     <td> </td>   \n",
       "</tr>\n",
       "<tr>\n",
       "  <th>Covariance Type:</th>      <td>nonrobust</td>    <th>                     </th>     <td> </td>   \n",
       "</tr>\n",
       "</table>\n",
       "<table class=\"simpletable\">\n",
       "<tr>\n",
       "       <td></td>          <th>coef</th>     <th>std err</th>      <th>t</th>      <th>P>|t|</th>  <th>[0.025</th>    <th>0.975]</th>  \n",
       "</tr>\n",
       "<tr>\n",
       "  <th>Intercept</th>   <td>  824.9323</td> <td>   19.015</td> <td>   43.382</td> <td> 0.000</td> <td>  785.981</td> <td>  863.884</td>\n",
       "</tr>\n",
       "<tr>\n",
       "  <th>C(sex)[T.1]</th> <td>  -99.5997</td> <td>    4.559</td> <td>  -21.848</td> <td> 0.000</td> <td> -108.938</td> <td>  -90.262</td>\n",
       "</tr>\n",
       "<tr>\n",
       "  <th>latitude</th>    <td>    1.9859</td> <td>    0.414</td> <td>    4.798</td> <td> 0.000</td> <td>    1.138</td> <td>    2.834</td>\n",
       "</tr>\n",
       "</table>\n",
       "<table class=\"simpletable\">\n",
       "<tr>\n",
       "  <th>Omnibus:</th>       <td> 3.568</td> <th>  Durbin-Watson:     </th> <td>   1.376</td>\n",
       "</tr>\n",
       "<tr>\n",
       "  <th>Prob(Omnibus):</th> <td> 0.168</td> <th>  Jarque-Bera (JB):  </th> <td>   2.194</td>\n",
       "</tr>\n",
       "<tr>\n",
       "  <th>Skew:</th>          <td> 0.596</td> <th>  Prob(JB):          </th> <td>   0.334</td>\n",
       "</tr>\n",
       "<tr>\n",
       "  <th>Kurtosis:</th>      <td> 3.529</td> <th>  Cond. No.          </th> <td>    383.</td>\n",
       "</tr>\n",
       "</table><br/><br/>Notes:<br/>[1] Standard Errors assume that the covariance matrix of the errors is correctly specified."
      ],
      "text/plain": [
       "<class 'statsmodels.iolib.summary.Summary'>\n",
       "\"\"\"\n",
       "                            OLS Regression Results                            \n",
       "==============================================================================\n",
       "Dep. Variable:               wingsize   R-squared:                       0.946\n",
       "Model:                            OLS   Adj. R-squared:                  0.942\n",
       "Method:                 Least Squares   F-statistic:                     246.4\n",
       "Date:                Fri, 09 Jul 2021   Prob (F-statistic):           1.68e-18\n",
       "Time:                        23:54:03   Log-Likelihood:                -121.14\n",
       "No. Observations:                  31   AIC:                             248.3\n",
       "Df Residuals:                      28   BIC:                             252.6\n",
       "Df Model:                           2                                         \n",
       "Covariance Type:            nonrobust                                         \n",
       "===============================================================================\n",
       "                  coef    std err          t      P>|t|      [0.025      0.975]\n",
       "-------------------------------------------------------------------------------\n",
       "Intercept     824.9323     19.015     43.382      0.000     785.981     863.884\n",
       "C(sex)[T.1]   -99.5997      4.559    -21.848      0.000    -108.938     -90.262\n",
       "latitude        1.9859      0.414      4.798      0.000       1.138       2.834\n",
       "==============================================================================\n",
       "Omnibus:                        3.568   Durbin-Watson:                   1.376\n",
       "Prob(Omnibus):                  0.168   Jarque-Bera (JB):                2.194\n",
       "Skew:                           0.596   Prob(JB):                        0.334\n",
       "Kurtosis:                       3.529   Cond. No.                         383.\n",
       "==============================================================================\n",
       "\n",
       "Notes:\n",
       "[1] Standard Errors assume that the covariance matrix of the errors is correctly specified.\n",
       "\"\"\""
      ]
     },
     "execution_count": 96,
     "metadata": {},
     "output_type": "execute_result"
    }
   ],
   "source": [
    "insect_model.summary()"
   ]
  },
  {
   "cell_type": "code",
   "execution_count": 97,
   "id": "504ce9c1",
   "metadata": {},
   "outputs": [
    {
     "data": {
      "text/plain": [
       "0.9872426607778263"
      ]
     },
     "execution_count": 97,
     "metadata": {},
     "output_type": "execute_result"
    }
   ],
   "source": [
    "y_pred = insect_model.predict(test)\n",
    "r2_score(test['wingsize'], y_pred)"
   ]
  },
  {
   "cell_type": "code",
   "execution_count": 98,
   "id": "e7dd3a81",
   "metadata": {},
   "outputs": [
    {
     "data": {
      "text/plain": [
       "32.842873650764005"
      ]
     },
     "execution_count": 98,
     "metadata": {},
     "output_type": "execute_result"
    }
   ],
   "source": [
    "mean_squared_error(test['wingsize'], y_pred)"
   ]
  },
  {
   "cell_type": "code",
   "execution_count": null,
   "id": "384f11b0",
   "metadata": {},
   "outputs": [],
   "source": []
  },
  {
   "cell_type": "code",
   "execution_count": null,
   "id": "eef3f435",
   "metadata": {},
   "outputs": [],
   "source": []
  },
  {
   "cell_type": "code",
   "execution_count": null,
   "id": "36e54bd2",
   "metadata": {},
   "outputs": [],
   "source": []
  },
  {
   "cell_type": "code",
   "execution_count": null,
   "id": "6beeb78f",
   "metadata": {},
   "outputs": [],
   "source": [
    "references\n",
    "    * https://scikit-learn.org/stable/modules/cross_validation.html#cross-validation\n",
    "    * https://stackoverflow.com/questions/41045752/using-statsmodel-estimations-with-scikit-learn-cross-validation-is-it-possible/48949667#48949667"
   ]
  },
  {
   "cell_type": "code",
   "execution_count": null,
   "id": "19848e2b",
   "metadata": {},
   "outputs": [],
   "source": []
  },
  {
   "cell_type": "code",
   "execution_count": null,
   "id": "f81fec8f",
   "metadata": {},
   "outputs": [],
   "source": []
  },
  {
   "cell_type": "code",
   "execution_count": null,
   "id": "c9d4be2d",
   "metadata": {},
   "outputs": [],
   "source": []
  },
  {
   "cell_type": "code",
   "execution_count": null,
   "id": "56b05060",
   "metadata": {},
   "outputs": [],
   "source": []
  },
  {
   "cell_type": "code",
   "execution_count": null,
   "id": "6c72b521",
   "metadata": {},
   "outputs": [],
   "source": []
  }
 ],
 "metadata": {
  "kernelspec": {
   "display_name": "Python 3",
   "language": "python",
   "name": "python3"
  },
  "language_info": {
   "codemirror_mode": {
    "name": "ipython",
    "version": 3
   },
   "file_extension": ".py",
   "mimetype": "text/x-python",
   "name": "python",
   "nbconvert_exporter": "python",
   "pygments_lexer": "ipython3",
   "version": "3.9.2"
  }
 },
 "nbformat": 4,
 "nbformat_minor": 5
}
