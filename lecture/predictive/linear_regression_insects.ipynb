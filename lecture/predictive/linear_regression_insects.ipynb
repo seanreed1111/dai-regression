{
 "cells": [
  {
   "cell_type": "code",
   "execution_count": 1,
   "metadata": {},
   "outputs": [
    {
     "name": "stdout",
     "output_type": "stream",
     "text": [
      "Collecting package metadata (current_repodata.json): done\n",
      "Solving environment: done\n",
      "\n",
      "# All requested packages already installed.\n",
      "\n"
     ]
    }
   ],
   "source": [
    "# !conda install statsmodels -y"
   ]
  },
  {
   "cell_type": "code",
   "execution_count": 28,
   "metadata": {},
   "outputs": [],
   "source": [
    "import pandas as pd\n",
    "from pandas.plotting import scatter_matrix\n",
    "import numpy as np\n",
    "import os\n",
    "import statsmodels.formula.api as smf\n",
    "import seaborn as sns\n",
    "\n",
    "\n",
    "\n",
    "%matplotlib widget\n",
    "import matplotlib.pyplot as plt\n",
    "plt.style.use('ggplot')\n",
    "\n"
   ]
  },
  {
   "cell_type": "markdown",
   "metadata": {},
   "source": [
    "# Linear Regression Introduction"
   ]
  },
  {
   "cell_type": "markdown",
   "metadata": {},
   "source": [
    "## Loading and Inspecting the Data"
   ]
  },
  {
   "cell_type": "markdown",
   "metadata": {},
   "source": [
    "For our example we will use a dataset dataset about various specimens of single species of insect collected across two continents.  The data was acquired from this question on CrossValidated, a statistics/data science question and answer site:\n",
    "\n",
    "[Multiple regression, full and restricted model](http://stats.stackexchange.com/q/267034/74500)\n",
    "\n",
    "We chose this dataset because it is small enough to be accessible, but has some interesting features for us to discover!\n",
    "\n",
    "We will be interested in explaining how the insects wing span varies, as influenced by the other measurements in our dataset."
   ]
  },
  {
   "cell_type": "markdown",
   "metadata": {},
   "source": [
    "We'd like to load the `insects` data into python.  Our first step is to take a quick look at the raw data."
   ]
  },
  {
   "cell_type": "code",
   "execution_count": 2,
   "metadata": {
    "scrolled": true
   },
   "outputs": [
    {
     "name": "stdout",
     "output_type": "stream",
     "text": [
      "wing\t:\tSheet1\n",
      "continent\tlatitude\twingsize\tsex\n",
      "1   35.5    901 0\t\n",
      "1   37  896 0\n",
      "1   38.6    906 0\n",
      "1\t40.7\t907\t0\n",
      "1\t40.9\t898\t0\n",
      "1\t42.4\t893\t0\n",
      "1\t45\t913\t0\n",
      "1\t46.8\t915\t0\n"
     ]
    }
   ],
   "source": [
    "!head data/insects.csv"
   ]
  },
  {
   "cell_type": "markdown",
   "metadata": {},
   "source": [
    "It looks like there are four columns in our dataset:\n",
    "\n",
    "```\n",
    "continent, latitude, wingsize, and sex\n",
    "```\n",
    "\n",
    "Each data element is separated from the next by a tab character, so although it has the `.csv` extension, it is not comma separated."
   ]
  },
  {
   "cell_type": "code",
   "execution_count": 6,
   "metadata": {},
   "outputs": [
    {
     "data": {
      "text/html": [
       "<div>\n",
       "<style scoped>\n",
       "    .dataframe tbody tr th:only-of-type {\n",
       "        vertical-align: middle;\n",
       "    }\n",
       "\n",
       "    .dataframe tbody tr th {\n",
       "        vertical-align: top;\n",
       "    }\n",
       "\n",
       "    .dataframe thead th {\n",
       "        text-align: right;\n",
       "    }\n",
       "</style>\n",
       "<table border=\"1\" class=\"dataframe\">\n",
       "  <thead>\n",
       "    <tr style=\"text-align: right;\">\n",
       "      <th></th>\n",
       "      <th>continent</th>\n",
       "      <th>latitude</th>\n",
       "      <th>wingsize</th>\n",
       "      <th>sex</th>\n",
       "    </tr>\n",
       "  </thead>\n",
       "  <tbody>\n",
       "    <tr>\n",
       "      <th>0</th>\n",
       "      <td>1</td>\n",
       "      <td>35.5</td>\n",
       "      <td>901</td>\n",
       "      <td>0</td>\n",
       "    </tr>\n",
       "    <tr>\n",
       "      <th>1</th>\n",
       "      <td>1</td>\n",
       "      <td>37.0</td>\n",
       "      <td>896</td>\n",
       "      <td>0</td>\n",
       "    </tr>\n",
       "    <tr>\n",
       "      <th>2</th>\n",
       "      <td>1</td>\n",
       "      <td>38.6</td>\n",
       "      <td>906</td>\n",
       "      <td>0</td>\n",
       "    </tr>\n",
       "    <tr>\n",
       "      <th>3</th>\n",
       "      <td>1</td>\n",
       "      <td>40.7</td>\n",
       "      <td>907</td>\n",
       "      <td>0</td>\n",
       "    </tr>\n",
       "    <tr>\n",
       "      <th>4</th>\n",
       "      <td>1</td>\n",
       "      <td>40.9</td>\n",
       "      <td>898</td>\n",
       "      <td>0</td>\n",
       "    </tr>\n",
       "  </tbody>\n",
       "</table>\n",
       "</div>"
      ],
      "text/plain": [
       "   continent  latitude  wingsize  sex\n",
       "0          1      35.5       901    0\n",
       "1          1      37.0       896    0\n",
       "2          1      38.6       906    0\n",
       "3          1      40.7       907    0\n",
       "4          1      40.9       898    0"
      ]
     },
     "execution_count": 6,
     "metadata": {},
     "output_type": "execute_result"
    }
   ],
   "source": [
    "filename = 'insects.csv'\n",
    "dirname = 'data'\n",
    "filepath = os.path.join(dirname, filename)\n",
    "insects = pd.read_csv(filepath, header=1, sep='\\s+')\n",
    "insects.head()"
   ]
  },
  {
   "cell_type": "markdown",
   "metadata": {},
   "source": [
    "We've got our four columns `continent, latitude, wingsize, and sex`.  \n",
    "\n",
    "We can see some short descriptions of their qualities using `info`:"
   ]
  },
  {
   "cell_type": "code",
   "execution_count": 4,
   "metadata": {},
   "outputs": [
    {
     "name": "stdout",
     "output_type": "stream",
     "text": [
      "<class 'pandas.core.frame.DataFrame'>\n",
      "RangeIndex: 42 entries, 0 to 41\n",
      "Data columns (total 4 columns):\n",
      " #   Column     Non-Null Count  Dtype  \n",
      "---  ------     --------------  -----  \n",
      " 0   continent  42 non-null     int64  \n",
      " 1   latitude   42 non-null     float64\n",
      " 2   wingsize   42 non-null     int64  \n",
      " 3   sex        42 non-null     int64  \n",
      "dtypes: float64(1), int64(3)\n",
      "memory usage: 1.4 KB\n"
     ]
    }
   ],
   "source": [
    "insects.info()"
   ]
  },
  {
   "cell_type": "markdown",
   "metadata": {},
   "source": [
    "## Looking at the Data"
   ]
  },
  {
   "cell_type": "markdown",
   "metadata": {},
   "source": [
    "We can get a first feel for how the quantities in our data are spread out using some histograms."
   ]
  },
  {
   "cell_type": "code",
   "execution_count": 6,
   "metadata": {},
   "outputs": [
    {
     "data": {
      "text/plain": [
       "Index(['continent', 'latitude', 'wingsize', 'sex'], dtype='object')"
      ]
     },
     "execution_count": 6,
     "metadata": {},
     "output_type": "execute_result"
    }
   ],
   "source": [
    "insects.columns"
   ]
  },
  {
   "cell_type": "code",
   "execution_count": 29,
   "metadata": {},
   "outputs": [
    {
     "data": {
      "application/vnd.jupyter.widget-view+json": {
       "model_id": "0f498ae02a514c3aa7355c6b7a5e0729",
       "version_major": 2,
       "version_minor": 0
      },
      "text/plain": [
       "Canvas(toolbar=Toolbar(toolitems=[('Home', 'Reset original view', 'home', 'home'), ('Back', 'Back to previous …"
      ]
     },
     "metadata": {},
     "output_type": "display_data"
    }
   ],
   "source": [
    "column_names = {\n",
    "    \"continent\": \"Continent\",\n",
    "    \"latitude\": \"Latitude\",\n",
    "    \"wingsize\": \"Wing Span\",\n",
    "    \"sex\": \"Sex\"\n",
    "}\n",
    "\n",
    "fig, axs = plt.subplots(2, 2)\n",
    "for ax, (column, name) in zip(axs.flatten(), column_names.items()):\n",
    "    ax.hist(insects[column])\n",
    "    ax.set_title(name)\n",
    "\n",
    "fig.tight_layout()"
   ]
  },
  {
   "cell_type": "markdown",
   "metadata": {},
   "source": [
    "**Discussion:** What have you learned form the data from these histograms?  How do they help you describe the data?"
   ]
  },
  {
   "cell_type": "markdown",
   "metadata": {},
   "source": [
    "Some observations:\n",
    "\n",
    "  - `continent` and `sex` take only two values.  There are two continents represented in the data, labeled zero and one, and there are two sexes (probably Male and Female), also labeled zero and one.\n",
    "  \n",
    "These zero/one columns are called **binary** or **indicator variables**, they measure a specific yes/no condition.\n",
    "\n",
    "  - The values of `wingspan` cluster into two distinct groups.  This is very interesting, and worthy of investigation."
   ]
  },
  {
   "cell_type": "markdown",
   "metadata": {},
   "source": [
    "## Scatterplots"
   ]
  },
  {
   "cell_type": "markdown",
   "metadata": {},
   "source": [
    "Histograms are useful, but limited, as they do not reveal anything about the *relationships between the columns in our data*.  To rectify this we turn to uncountably the most effective and flexible visualization, the **scatterplot**."
   ]
  },
  {
   "cell_type": "markdown",
   "metadata": {},
   "source": [
    "A good first step is to use `pandas.plotting.scatter_matrix` to get a global view of our data."
   ]
  },
  {
   "cell_type": "code",
   "execution_count": 30,
   "metadata": {},
   "outputs": [
    {
     "data": {
      "application/vnd.jupyter.widget-view+json": {
       "model_id": "8a3744ab8c434c3cb551a2d648fff98b",
       "version_major": 2,
       "version_minor": 0
      },
      "text/plain": [
       "Canvas(toolbar=Toolbar(toolitems=[('Home', 'Reset original view', 'home', 'home'), ('Back', 'Back to previous …"
      ]
     },
     "metadata": {},
     "output_type": "display_data"
    },
    {
     "name": "stderr",
     "output_type": "stream",
     "text": [
      "/Users/seanreed1/miniconda/lib/python3.9/site-packages/pandas/plotting/_matplotlib/tools.py:400: MatplotlibDeprecationWarning: \n",
      "The is_first_col function was deprecated in Matplotlib 3.4 and will be removed two minor releases later. Use ax.get_subplotspec().is_first_col() instead.\n",
      "  if ax.is_first_col():\n"
     ]
    }
   ],
   "source": [
    "plt.rcParams['figure.figsize'] = [10, 5]\n",
    "scatter_matrix(insects, s=100)\n",
    "plt.show()"
   ]
  },
  {
   "cell_type": "markdown",
   "metadata": {},
   "source": [
    "The `latitude` vs. `wingsize` scatterplot looks interesting, so let's take a close look at that."
   ]
  },
  {
   "cell_type": "code",
   "execution_count": 31,
   "metadata": {},
   "outputs": [
    {
     "data": {
      "application/vnd.jupyter.widget-view+json": {
       "model_id": "e19185167a4c434dbbc9b21ee825d952",
       "version_major": 2,
       "version_minor": 0
      },
      "text/plain": [
       "Canvas(toolbar=Toolbar(toolitems=[('Home', 'Reset original view', 'home', 'home'), ('Back', 'Back to previous …"
      ]
     },
     "metadata": {},
     "output_type": "display_data"
    },
    {
     "data": {
      "text/plain": [
       "Text(0.5, 1.0, 'Insect Wing Sizes at Various Latitudes')"
      ]
     },
     "execution_count": 31,
     "metadata": {},
     "output_type": "execute_result"
    }
   ],
   "source": [
    "fig, ax = plt.subplots()\n",
    "\n",
    "ax.scatter(insects.latitude, insects.wingsize, s=40)\n",
    "ax.set_xlabel(\"Latitude\")\n",
    "ax.set_ylabel(\"Wing Size\")\n",
    "ax.set_title(\"Insect Wing Sizes at Various Latitudes\")"
   ]
  },
  {
   "cell_type": "markdown",
   "metadata": {},
   "source": [
    "**Discussion:** What patterns do you see in the scatterplot.  Can you form any hypothesis about the data?"
   ]
  },
  {
   "cell_type": "markdown",
   "metadata": {},
   "source": [
    "Here are some thoughts:\n",
    "    \n",
    "  - The most prominent feature of this data is the two bands.  There seem to be two very well defined elongated clusters of data, with the average wingsize in one cluster much greater than in the other.\n",
    "  - Within each cluster there is noticeable tendency for wingsize first decrease, and then increase as latitude varies."
   ]
  },
  {
   "cell_type": "markdown",
   "metadata": {},
   "source": [
    "## Linear Regression"
   ]
  },
  {
   "cell_type": "markdown",
   "metadata": {},
   "source": [
    "This leads to a few questions we may wish to answer with the data.\n",
    "\n",
    "  1. Are the two clusters associated with one of the other two variables in the dataset, `continent` or `sex?`\n",
    "  2. Can we somehow summarize the way that `wingsize` varies with `latitude`?\n",
    "  \n",
    "Let's answer each of these questions."
   ]
  },
  {
   "cell_type": "markdown",
   "metadata": {},
   "source": [
    "### Are The Two Clusters Associated With Either Continent or Sex?"
   ]
  },
  {
   "cell_type": "markdown",
   "metadata": {},
   "source": [
    "We can discover if the two clusters in the data are associated with either `continent` or `sex` through a well chosen visualization.  Let's make the same scatterplot from before, but color each point either red or blue, according to the value of `continent` or `sex`."
   ]
  },
  {
   "cell_type": "code",
   "execution_count": 32,
   "metadata": {},
   "outputs": [
    {
     "data": {
      "application/vnd.jupyter.widget-view+json": {
       "model_id": "e0d4a2c810ca45b89c1ec7c01d39062f",
       "version_major": 2,
       "version_minor": 0
      },
      "text/plain": [
       "Canvas(toolbar=Toolbar(toolitems=[('Home', 'Reset original view', 'home', 'home'), ('Back', 'Back to previous …"
      ]
     },
     "metadata": {},
     "output_type": "display_data"
    },
    {
     "data": {
      "text/plain": [
       "<matplotlib.legend.Legend at 0x138bab160>"
      ]
     },
     "execution_count": 32,
     "metadata": {},
     "output_type": "execute_result"
    }
   ],
   "source": [
    "fig, ax = plt.subplots()\n",
    "\n",
    "continent_boolean = insects.continent.astype(bool)\n",
    "ax.scatter(insects.latitude[continent_boolean], \n",
    "           insects.wingsize[continent_boolean], \n",
    "           s=40, c=\"red\", label=\"Continent 1\")\n",
    "ax.scatter(insects.latitude[~continent_boolean], \n",
    "           insects.wingsize[~continent_boolean],\n",
    "           s=40, c=\"blue\", label=\"Continent 0\")\n",
    "ax.set_xlabel(\"Latitude\")\n",
    "ax.set_ylabel(\"Wing Size\")\n",
    "ax.set_title(\"Are The Two Clusters Associated With Continent?\")\n",
    "ax.legend()"
   ]
  },
  {
   "cell_type": "code",
   "execution_count": 34,
   "metadata": {},
   "outputs": [
    {
     "data": {
      "application/vnd.jupyter.widget-view+json": {
       "model_id": "73ab9b9087b4468c884b53b1054c3ee4",
       "version_major": 2,
       "version_minor": 0
      },
      "text/plain": [
       "Canvas(toolbar=Toolbar(toolitems=[('Home', 'Reset original view', 'home', 'home'), ('Back', 'Back to previous …"
      ]
     },
     "metadata": {},
     "output_type": "display_data"
    }
   ],
   "source": [
    "sns.pairplot(insects, x_vars='latitude', y_vars='wingsize', hue='continent')"
   ]
  },
  {
   "cell_type": "markdown",
   "metadata": {},
   "source": [
    "The values of continent seem scattered randomly across the two clusters, so it does **not** seem like continent is associated with the clusters."
   ]
  },
  {
   "cell_type": "code",
   "execution_count": 35,
   "metadata": {},
   "outputs": [
    {
     "data": {
      "application/vnd.jupyter.widget-view+json": {
       "model_id": "fde61d50714849fe88c9b241f8717755",
       "version_major": 2,
       "version_minor": 0
      },
      "text/plain": [
       "Canvas(toolbar=Toolbar(toolitems=[('Home', 'Reset original view', 'home', 'home'), ('Back', 'Back to previous …"
      ]
     },
     "metadata": {},
     "output_type": "display_data"
    },
    {
     "data": {
      "text/plain": [
       "<seaborn.axisgrid.PairGrid at 0x138d72df0>"
      ]
     },
     "execution_count": 35,
     "metadata": {},
     "output_type": "execute_result"
    }
   ],
   "source": [
    "sns.pairplot(insects, x_vars='latitude', y_vars='wingsize', hue='sex')"
   ]
  },
  {
   "cell_type": "code",
   "execution_count": 26,
   "metadata": {},
   "outputs": [
    {
     "data": {
      "image/png": "[encoded data removed]",
      "text/plain": [
       "<Figure size 720x360 with 1 Axes>"
      ]
     },
     "metadata": {},
     "output_type": "display_data"
    }
   ],
   "source": [
    "fig, ax = plt.subplots()\n",
    "\n",
    "def make_insects_scatter_plot(ax):\n",
    "    sex_boolean = insects.sex.astype(bool)\n",
    "    ax.scatter(insects.latitude[sex_boolean], \n",
    "               insects.wingsize[sex_boolean],\n",
    "               s=40, c=\"red\", label=\"Male\")\n",
    "    ax.scatter(insects.latitude[~sex_boolean], \n",
    "               insects.wingsize[~sex_boolean],\n",
    "               s=40, c=\"blue\", label=\"Female\")\n",
    "    ax.set_xlabel(\"Latitude\")\n",
    "    ax.set_ylabel(\"Wing Size\")\n",
    "    ax.set_title(\"Insect Wing Sizes at Various Latitudes\")\n",
    "    ax.legend()\n",
    "    \n",
    "make_insects_scatter_plot(ax)"
   ]
  },
  {
   "cell_type": "markdown",
   "metadata": {},
   "source": [
    "There we go!\n",
    "\n",
    "This is pretty definitive, the cluster of the larger insects are all female, and the cluster of smaller insects are all male.  This seems like enough evidence to conclude that the sex of the insect causes the data to cluster into two groups.\n",
    "\n",
    "**Note:** how little technology we needed to make this point convincingly.  It is *very important* to explore your data and use it to *ask and then answer* question like this.  Many data scientists reach immediately for their most powerful tools, which often leaves them with little to say when asked simple questions."
   ]
  },
  {
   "cell_type": "markdown",
   "metadata": {},
   "source": [
    "### Is An Increasing Latitude Associated With an Increasing Wing Size?"
   ]
  },
  {
   "cell_type": "markdown",
   "metadata": {},
   "source": [
    "This question is a little more sophisticated, and we need some new technology to answer it.\n",
    "\n",
    "The idea is to create an equation:\n",
    "\n",
    "$$ \\text{Wing Span} \\approx a + b \\times \\text{Latitude} $$\n",
    "\n",
    "Then we can look at the number $b$, which tells us how we should expect `wingspan` to change as `latitude` changes.  If we find that $b > 0$, that's evidence that an increasing latitude is associated with an increasing wingspan.\n",
    "\n",
    "I'll skip the technicalities, but the basic tool for creating equations like this is called **linear regression**."
   ]
  },
  {
   "cell_type": "code",
   "execution_count": 39,
   "metadata": {},
   "outputs": [],
   "source": [
    "linear_model = smf.ols(formula='wingsize ~ latitude', data=insects)\n",
    "\n",
    "insects_model = linear_model.fit()"
   ]
  },
  {
   "cell_type": "code",
   "execution_count": 38,
   "metadata": {},
   "outputs": [
    {
     "data": {
      "text/plain": [
       "Intercept    780.531729\n",
       "latitude       1.883231\n",
       "dtype: float64"
      ]
     },
     "execution_count": 38,
     "metadata": {},
     "output_type": "execute_result"
    }
   ],
   "source": [
    "insects_model.params"
   ]
  },
  {
   "cell_type": "markdown",
   "metadata": {},
   "source": [
    "The linear regression has attempted to estimate the equation we are after, and it has returned:\n",
    "\n",
    "$$ \\text{Wing Span} \\approx 780.53 + 1.88 \\times \\text{Latitude} $$\n",
    "\n",
    "So we can expect an on average increase of $1.88$ wingspan for every increase in one latitude."
   ]
  },
  {
   "cell_type": "markdown",
   "metadata": {},
   "source": [
    "The numbers estimated in linear regression are called **parameter estimates** or **coefficient estimates** and are usually denoted with the Greek letter $\\beta$:\n",
    "\n",
    "$$y \\approx \\beta_0 + \\beta_1 x $$\n",
    "\n",
    "The parameter estimate with no associated variable is usually called the **intercept**:\n",
    "\n",
    "$$ \\text{Wing Span} \\approx \\underbrace{780.53}_{\\text{Intercept}} + \\underbrace{1.88}_{\\text{Parameter Estiamte}} \\times \\text{Latitude} $$\n"
   ]
  },
  {
   "cell_type": "markdown",
   "metadata": {},
   "source": [
    "#### As the Equation of a Line"
   ]
  },
  {
   "cell_type": "markdown",
   "metadata": {},
   "source": [
    "One way we can visualize this is to look at the regression as returning to us the equation for a line.  This line is the **best summary of the data** (under the assumption that a line is a reasonable way to summarize the data)."
   ]
  },
  {
   "cell_type": "code",
   "execution_count": 24,
   "metadata": {},
   "outputs": [
    {
     "data": {
      "image/png": "[encoded data removed]",
      "text/plain": [
       "<Figure size 576x360 with 1 Axes>"
      ]
     },
     "metadata": {},
     "output_type": "display_data"
    }
   ],
   "source": [
    "fig, ax = plt.subplots()\n",
    "\n",
    "make_insects_scatter_plot(ax)\n",
    "\n",
    "# Make a line graph of the predictions.\n",
    "def make_insects_model_line(ax, label=\"Linear Regression\"):\n",
    "    x = np.linspace(30, 60, num=250)\n",
    "    ax.plot(x, insects_model.params[0] + insects_model.params[1] * x,\n",
    "           linewidth=2, c=\"black\", label=label)\n",
    "    ax.set_xlim(30, 60)\n",
    "\n",
    "make_insects_model_line(ax)"
   ]
  },
  {
   "cell_type": "markdown",
   "metadata": {},
   "source": [
    "**Discussion:** Does this model have any issues?  If so, what are they?"
   ]
  },
  {
   "cell_type": "markdown",
   "metadata": {},
   "source": [
    "This plot elucidates two serious flaws in our model:\n",
    "\n",
    "  - It has no knowledge of the sex of the insect, so the fit line attempts to bisect the two clusters of data.\n",
    "  - It cannot account for the curvature in the data points.  The model attempts to fit a line to data that does not have a linear shape."
   ]
  },
  {
   "cell_type": "markdown",
   "metadata": {},
   "source": [
    "## Interlude: The Two Cultures\n",
    "\n",
    "We pause for a moment to quickly disucss two ways we could view our work up to this point."
   ]
  },
  {
   "cell_type": "markdown",
   "metadata": {},
   "source": [
    "### A Model as As a Method for Making Predictions"
   ]
  },
  {
   "cell_type": "markdown",
   "metadata": {},
   "source": [
    "Another way to look at the regression result is as a way to make predictions."
   ]
  },
  {
   "cell_type": "markdown",
   "metadata": {},
   "source": [
    "If we *know* the latitude that we find an insect, we can *predict* the wing span as a function of the latitude:\n",
    "\n",
    "$$ \\text{PredictedWingSpan}(\\text{Latitude}) = 780.53 + 1.88 \\times \\text{Latitude} $$"
   ]
  },
  {
   "cell_type": "markdown",
   "metadata": {},
   "source": [
    "### Inferential vs. Predictive Modeling"
   ]
  },
  {
   "cell_type": "markdown",
   "metadata": {},
   "source": [
    "This is the first example we will encounter of **inferential vs. predictive statistics**:\n",
    "\n",
    "- **Inferential Statistics** views the role of the model as a **summary of the data**.  We can then ask it questions like \"is knowing the `continent` useful for producing an accurate summary of the data\"?\n",
    "- **Predictive Statistics** views the role of the model as a tool for **making predictions**.  We can ask the model questions like \"What would I expect the value of `wingspan` to be for a value of `latitude` I have not yet observed\"?\n",
    "\n",
    "These are clearly related.  In the authors opinion, a model must be useful for making predictions to be meaningful for inference."
   ]
  },
  {
   "cell_type": "markdown",
   "metadata": {},
   "source": [
    "## How is the Line Determined?"
   ]
  },
  {
   "cell_type": "markdown",
   "metadata": {},
   "source": [
    "Before we make the model more complicated, it would be good to know *how* our model is determining the line to fit to the data.\n",
    "\n",
    "As we mentioned, we can think of the fitted line as a *prediction*.  If we were to collect a new insect at a certain latitude, the y-coordinate of the line would be our best estimate for the wing span of that insect.\n",
    "\n",
    "A good strategy for drawing the line would seem to be:\n",
    "\n",
    "> Try to draw the line that minimizes the dissimilarity between the predictions and the actual $y$ data."
   ]
  },
  {
   "cell_type": "code",
   "execution_count": 25,
   "metadata": {},
   "outputs": [
    {
     "data": {
      "image/png": "[encoded data removed]",
      "text/plain": [
       "<Figure size 576x360 with 1 Axes>"
      ]
     },
     "metadata": {},
     "output_type": "display_data"
    }
   ],
   "source": [
    "fig, ax = plt.subplots()\n",
    "\n",
    "make_insects_scatter_plot(ax)\n",
    "make_insects_model_line(ax)\n",
    "\n",
    "# Draw a bunch of vertical lines to illustrate the difference between\n",
    "# predictions and actuals.\n",
    "for index, row in insects.iterrows():\n",
    "    t = row['latitude']\n",
    "    pred = insects_model.params[0] + insects_model.params[1] * t\n",
    "    ax.plot((t, t), (row['wingsize'], pred), color='grey')"
   ]
  },
  {
   "cell_type": "markdown",
   "metadata": {},
   "source": [
    "In the picture above we have highlighted the vertical distance between each data point and its predicted value.\n",
    "\n",
    "A common numeric measure of the dissimilarity is the *sum of squared residuals*:\n",
    "\n",
    "$$ SSR = \\sum_{i=1}^N (y_i - \\text{pred}_i)^2 $$\n",
    "\n",
    "**The linear regression line is the line that minimizes that sum of squared residuals.**"
   ]
  },
  {
   "cell_type": "code",
   "execution_count": null,
   "metadata": {},
   "outputs": [],
   "source": [
    "def sum_of_squared_residuals(actuals, preds):\n",
    "    return np.sum((actuals - preds)**2)"
   ]
  },
  {
   "cell_type": "code",
   "execution_count": null,
   "metadata": {},
   "outputs": [],
   "source": [
    "preds = insects_model.params[0] + insects_model.params[1] * insects['latitude']\n",
    "print(\"Sum of Squared Residuals for Linear Model: {:5.2f}\".format(\n",
    "    sum_of_squared_residuals(insects['wingsize'], preds)))"
   ]
  },
  {
   "cell_type": "markdown",
   "metadata": {},
   "source": [
    "#### Why the Sum of Squared Residuals?"
   ]
  },
  {
   "cell_type": "markdown",
   "metadata": {},
   "source": [
    "The sum of squared residuals may seem like a strange measure of dissimilarity to use, more natural may be something like the sum of absolute residuals:\n",
    "\n",
    "$$ SAR = \\sum_{i=1}^N \\left| y_i - \\text{pred}_i \\right| $$\n",
    "\n",
    "There's really nothing stopping us from using SAR instead of SSR, and SAR is more appropriate for certain situations.  But we must be clear:\n",
    "\n",
    "**The line created by minimizing SSR is DIFFERENT from the line formed by minimizing the SAR, and they have different properties**.\n"
   ]
  },
  {
   "cell_type": "markdown",
   "metadata": {},
   "source": [
    "**Discussion:** In which ways should we expect the lines drawn by minimizin SSR and SAR to differ?  Think about how they would react as you move around datapoints."
   ]
  },
  {
   "cell_type": "code",
   "execution_count": null,
   "metadata": {},
   "outputs": [],
   "source": [
    "median_model = smf.quantreg(formula='wingsize ~ latitude', data=insects)\n",
    "insects_median_model = median_model.fit(q=0.5)\n",
    "\n",
    "linear_model_summary(insects_median_model, name=\"SAR\")\n",
    "print\n",
    "linear_model_summary(insects_model, name='SSR')"
   ]
  },
  {
   "cell_type": "markdown",
   "metadata": {},
   "source": [
    "Plotting both lines makes the point even more obvious."
   ]
  },
  {
   "cell_type": "code",
   "execution_count": null,
   "metadata": {},
   "outputs": [],
   "source": [
    "fig, ax = plt.subplots()\n",
    "\n",
    "make_insects_scatter_plot(ax)\n",
    "make_insects_model_line(ax, label=\"Linear Regression\")\n",
    "\n",
    "def make_insects_median_model_line(ax):\n",
    "    x = np.linspace(30, 60, num=250)\n",
    "    ax.plot(x, \n",
    "            insects_median_model.params[0] + insects_median_model.params[1] * x,\n",
    "            linewidth=2, c=\"black\", linestyle=\"--\", \n",
    "            label=\"Median Linear Regression\")\n",
    "    ax.set_xlim(30, 60)\n",
    "    \n",
    "make_insects_median_model_line(ax)\n",
    "ax.legend()"
   ]
  },
  {
   "cell_type": "markdown",
   "metadata": {},
   "source": [
    "#### Mathematical Details"
   ]
  },
  {
   "cell_type": "markdown",
   "metadata": {},
   "source": [
    "This leaves open the question of **how** we would minimize the sum of squared residuals\n",
    "\n",
    "$$ SSR = \\sum_{i=1}^N (y_i - \\text{pred}_i)^2 $$\n",
    "\n",
    "One of the reasons that linear models are so popular is that this is the **easiest possible function to minimize**.  In fact, with some calculus, you can show that minimizing the sum of squared residuals is the **same as** solving the following matrix equation:\n",
    "\n",
    "$$ X^t X \\beta = X^t y $$\n",
    "\n",
    "I.e.\n",
    "\n",
    "$$ \\beta = \\text{solve}(X^t X, X^t y) $$\n",
    "\n",
    "Here\n",
    "\n",
    "  - $X$ is the matrix of predictors.  Each column in one predictor, and each row is one observation.\n",
    "  - $y$ is the vector of responses.\n",
    "  - $\\beta$ are the unknown parameters.\n",
    "  \n",
    "Notice that this is a system of linear equations, and there is one equation for each predictor.  As we know, solving linear equations is the **most basic possible problem in computational mathematics**."
   ]
  },
  {
   "cell_type": "markdown",
   "metadata": {},
   "source": [
    "## Accounting for the Sex of the Insect: Binary Predictors"
   ]
  },
  {
   "cell_type": "markdown",
   "metadata": {},
   "source": [
    "It would much better to take account of the sex of the index and fit two lines, we make one line of prediction of the wing size given the latitude for males, and another for females.\n",
    "\n",
    "The easiest way to do this is to modify our equation:\n",
    "\n",
    "$$ \\text{Wing Span} \\approx a + b \\times \\text{Latitude} + c \\times \\text{Sex} $$\n",
    "\n",
    "There is now another term: if the insect is male we *add $c$* to the prediction, otherwise we add nothing.\n",
    "\n",
    "Again, linear regression can find an equation of this shape describing the data:"
   ]
  },
  {
   "cell_type": "code",
   "execution_count": 8,
   "metadata": {},
   "outputs": [
    {
     "data": {
      "text/html": [
       "<table class=\"simpletable\">\n",
       "<caption>OLS Regression Results</caption>\n",
       "<tr>\n",
       "  <th>Dep. Variable:</th>        <td>wingsize</td>     <th>  R-squared:         </th> <td>   0.957</td>\n",
       "</tr>\n",
       "<tr>\n",
       "  <th>Model:</th>                   <td>OLS</td>       <th>  Adj. R-squared:    </th> <td>   0.955</td>\n",
       "</tr>\n",
       "<tr>\n",
       "  <th>Method:</th>             <td>Least Squares</td>  <th>  F-statistic:       </th> <td>   434.6</td>\n",
       "</tr>\n",
       "<tr>\n",
       "  <th>Date:</th>             <td>Fri, 04 Sep 2020</td> <th>  Prob (F-statistic):</th> <td>2.19e-27</td>\n",
       "</tr>\n",
       "<tr>\n",
       "  <th>Time:</th>                 <td>12:28:26</td>     <th>  Log-Likelihood:    </th> <td> -159.16</td>\n",
       "</tr>\n",
       "<tr>\n",
       "  <th>No. Observations:</th>      <td>    42</td>      <th>  AIC:               </th> <td>   324.3</td>\n",
       "</tr>\n",
       "<tr>\n",
       "  <th>Df Residuals:</th>          <td>    39</td>      <th>  BIC:               </th> <td>   329.5</td>\n",
       "</tr>\n",
       "<tr>\n",
       "  <th>Df Model:</th>              <td>     2</td>      <th>                     </th>     <td> </td>   \n",
       "</tr>\n",
       "<tr>\n",
       "  <th>Covariance Type:</th>      <td>nonrobust</td>    <th>                     </th>     <td> </td>   \n",
       "</tr>\n",
       "</table>\n",
       "<table class=\"simpletable\">\n",
       "<tr>\n",
       "      <td></td>         <th>coef</th>     <th>std err</th>      <th>t</th>      <th>P>|t|</th>  <th>[0.025</th>    <th>0.975]</th>  \n",
       "</tr>\n",
       "<tr>\n",
       "  <th>Intercept</th> <td>  829.9603</td> <td>   13.935</td> <td>   59.558</td> <td> 0.000</td> <td>  801.773</td> <td>  858.147</td>\n",
       "</tr>\n",
       "<tr>\n",
       "  <th>latitude</th>  <td>    1.8832</td> <td>    0.308</td> <td>    6.121</td> <td> 0.000</td> <td>    1.261</td> <td>    2.506</td>\n",
       "</tr>\n",
       "<tr>\n",
       "  <th>sex</th>       <td>  -98.8571</td> <td>    3.428</td> <td>  -28.841</td> <td> 0.000</td> <td> -105.790</td> <td>  -91.924</td>\n",
       "</tr>\n",
       "</table>\n",
       "<table class=\"simpletable\">\n",
       "<tr>\n",
       "  <th>Omnibus:</th>       <td> 4.668</td> <th>  Durbin-Watson:     </th> <td>   1.928</td>\n",
       "</tr>\n",
       "<tr>\n",
       "  <th>Prob(Omnibus):</th> <td> 0.097</td> <th>  Jarque-Bera (JB):  </th> <td>   3.601</td>\n",
       "</tr>\n",
       "<tr>\n",
       "  <th>Skew:</th>          <td> 0.466</td> <th>  Prob(JB):          </th> <td>   0.165</td>\n",
       "</tr>\n",
       "<tr>\n",
       "  <th>Kurtosis:</th>      <td> 4.090</td> <th>  Cond. No.          </th> <td>    366.</td>\n",
       "</tr>\n",
       "</table><br/><br/>Warnings:<br/>[1] Standard Errors assume that the covariance matrix of the errors is correctly specified."
      ],
      "text/plain": [
       "<class 'statsmodels.iolib.summary.Summary'>\n",
       "\"\"\"\n",
       "                            OLS Regression Results                            \n",
       "==============================================================================\n",
       "Dep. Variable:               wingsize   R-squared:                       0.957\n",
       "Model:                            OLS   Adj. R-squared:                  0.955\n",
       "Method:                 Least Squares   F-statistic:                     434.6\n",
       "Date:                Fri, 04 Sep 2020   Prob (F-statistic):           2.19e-27\n",
       "Time:                        12:28:26   Log-Likelihood:                -159.16\n",
       "No. Observations:                  42   AIC:                             324.3\n",
       "Df Residuals:                      39   BIC:                             329.5\n",
       "Df Model:                           2                                         \n",
       "Covariance Type:            nonrobust                                         \n",
       "==============================================================================\n",
       "                 coef    std err          t      P>|t|      [0.025      0.975]\n",
       "------------------------------------------------------------------------------\n",
       "Intercept    829.9603     13.935     59.558      0.000     801.773     858.147\n",
       "latitude       1.8832      0.308      6.121      0.000       1.261       2.506\n",
       "sex          -98.8571      3.428    -28.841      0.000    -105.790     -91.924\n",
       "==============================================================================\n",
       "Omnibus:                        4.668   Durbin-Watson:                   1.928\n",
       "Prob(Omnibus):                  0.097   Jarque-Bera (JB):                3.601\n",
       "Skew:                           0.466   Prob(JB):                        0.165\n",
       "Kurtosis:                       4.090   Cond. No.                         366.\n",
       "==============================================================================\n",
       "\n",
       "Warnings:\n",
       "[1] Standard Errors assume that the covariance matrix of the errors is correctly specified.\n",
       "\"\"\""
      ]
     },
     "execution_count": 8,
     "metadata": {},
     "output_type": "execute_result"
    }
   ],
   "source": [
    "insects_model_with_sex.summary()"
   ]
  },
  {
   "cell_type": "code",
   "execution_count": 6,
   "metadata": {},
   "outputs": [
    {
     "data": {
      "text/plain": [
       "Intercept    829.960301\n",
       "latitude       1.883231\n",
       "sex          -98.857143\n",
       "dtype: float64"
      ]
     },
     "execution_count": 6,
     "metadata": {},
     "output_type": "execute_result"
    }
   ],
   "source": [
    "linear_model = smf.ols(formula='wingsize ~ latitude + sex', data=insects)\n",
    "\n",
    "insects_model_with_sex = linear_model.fit()\n",
    "#linear_model_summary(insects_model_with_sex)\n",
    "insects_model_with_sex.params"
   ]
  },
  {
   "cell_type": "markdown",
   "metadata": {},
   "source": [
    "A couple of points are important:\n",
    "\n",
    "- We now have an estimate for the number $c$ of $-98.86$.  This means, that on average, being male costs an insect about $-98.86$ in wingspan.\n",
    "- The parameter estimates for the `Intercept` and for `latitude` **have changed**.  This is a very common situation.  When we fit a model with multiple variables, the model accounts for both how the variables are related to $y$, **and** how they are related to **each other**.\n",
    "\n",
    "The predictions from this model now depend on whether an insect is male or female, meaning that we can draw one line for males, and one line for females."
   ]
  },
  {
   "cell_type": "code",
   "execution_count": 7,
   "metadata": {},
   "outputs": [
    {
     "ename": "NameError",
     "evalue": "name 'make_insects_scatter_plot' is not defined",
     "output_type": "error",
     "traceback": [
      "\u001b[0;31m---------------------------------------------------------------------------\u001b[0m",
      "\u001b[0;31mNameError\u001b[0m                                 Traceback (most recent call last)",
      "\u001b[0;32m<ipython-input-7-9604463ae39b>\u001b[0m in \u001b[0;36m<module>\u001b[0;34m\u001b[0m\n\u001b[1;32m      1\u001b[0m \u001b[0mfig\u001b[0m\u001b[0;34m,\u001b[0m \u001b[0max\u001b[0m \u001b[0;34m=\u001b[0m \u001b[0mplt\u001b[0m\u001b[0;34m.\u001b[0m\u001b[0msubplots\u001b[0m\u001b[0;34m(\u001b[0m\u001b[0;34m)\u001b[0m\u001b[0;34m\u001b[0m\u001b[0;34m\u001b[0m\u001b[0m\n\u001b[1;32m      2\u001b[0m \u001b[0;34m\u001b[0m\u001b[0m\n\u001b[0;32m----> 3\u001b[0;31m \u001b[0mmake_insects_scatter_plot\u001b[0m\u001b[0;34m(\u001b[0m\u001b[0max\u001b[0m\u001b[0;34m)\u001b[0m\u001b[0;34m\u001b[0m\u001b[0;34m\u001b[0m\u001b[0m\n\u001b[0m\u001b[1;32m      4\u001b[0m \u001b[0;34m\u001b[0m\u001b[0m\n\u001b[1;32m      5\u001b[0m \u001b[0;32mdef\u001b[0m \u001b[0mmake_insects_model_lines\u001b[0m\u001b[0;34m(\u001b[0m\u001b[0max\u001b[0m\u001b[0;34m)\u001b[0m\u001b[0;34m:\u001b[0m\u001b[0;34m\u001b[0m\u001b[0;34m\u001b[0m\u001b[0m\n",
      "\u001b[0;31mNameError\u001b[0m: name 'make_insects_scatter_plot' is not defined"
     ]
    },
    {
     "data": {
      "image/png": "[encoded data removed]",
      "text/plain": [
       "<Figure size 576x360 with 1 Axes>"
      ]
     },
     "metadata": {},
     "output_type": "display_data"
    }
   ],
   "source": [
    "fig, ax = plt.subplots()\n",
    "\n",
    "make_insects_scatter_plot(ax)\n",
    "\n",
    "def make_insects_model_lines(ax):\n",
    "    x = np.linspace(30, 60, num=250)\n",
    "    ax.plot(x, insects_model_with_sex.params[0] \n",
    "                 + insects_model_with_sex.params[1] * x,\n",
    "           linewidth=2, c=\"blue\")\n",
    "    ax.plot(x, insects_model_with_sex.params[0] \n",
    "                 + insects_model_with_sex.params[1] * x + insects_model_with_sex.params[2],\n",
    "           linewidth=2, c=\"red\")\n",
    "    ax.set_xlim(30, 60)\n",
    "    ax.set_xlabel(\"Latitude\")\n",
    "    ax.set_ylabel(\"Wing Size\")\n",
    "    ax.set_title(\"Insect Wing Sizes at Various Latitudes\")\n",
    "    ax.legend()\n",
    "    \n",
    "make_insects_model_lines(ax)"
   ]
  },
  {
   "cell_type": "markdown",
   "metadata": {},
   "source": [
    "The model is now fitting much better to the data, but the curvature of the scatterplots is still an issue."
   ]
  },
  {
   "cell_type": "markdown",
   "metadata": {},
   "source": [
    "## Accounting for the Curvature of the Data Points: Transformations"
   ]
  },
  {
   "cell_type": "markdown",
   "metadata": {},
   "source": [
    "We can account for the curvature of the data points by using a *polynomial regression*.  This means that we fit powers of latitude bigger than one:\n",
    "\n",
    "$$ \\text{Wing Span} \\approx a + b \\times \\text{Latitude} + c \\times \\text{Latitude}^2 +  d \\times \\text{Sex} $$"
   ]
  },
  {
   "cell_type": "code",
   "execution_count": 29,
   "metadata": {},
   "outputs": [
    {
     "data": {
      "text/plain": [
       "Intercept           821.054533\n",
       "latitude              2.285979\n",
       "I(latitude ** 2)     -0.004483\n",
       "sex                 -98.857143\n",
       "dtype: float64"
      ]
     },
     "execution_count": 29,
     "metadata": {},
     "output_type": "execute_result"
    }
   ],
   "source": [
    "linear_model = smf.ols(formula='wingsize ~ latitude + I(latitude**2) + sex', data=insects)\n",
    "\n",
    "insects_model_quad = linear_model.fit()\n",
    "#linear_model_summary(insects_model_quad)\n",
    "insects_model_quad.params"
   ]
  },
  {
   "cell_type": "code",
   "execution_count": 30,
   "metadata": {},
   "outputs": [
    {
     "data": {
      "image/png": "[encoded data removed]",
      "text/plain": [
       "<Figure size 576x360 with 1 Axes>"
      ]
     },
     "metadata": {},
     "output_type": "display_data"
    }
   ],
   "source": [
    "fig, ax = plt.subplots()\n",
    "\n",
    "# Make a scatterplot of the data.\n",
    "make_insects_scatter_plot(ax)\n",
    "\n",
    "def make_insects_model_quadratic(ax):\n",
    "    x = np.linspace(30, 60, num=250)\n",
    "    ax.plot(x, insects_model_quad.params[0] \n",
    "                 + insects_model_quad.params[1] * x\n",
    "                 + insects_model_quad.params[2] * x*x,\n",
    "           linewidth=2, c=\"blue\")\n",
    "    ax.plot(x, insects_model_quad.params[0] \n",
    "                 + insects_model_quad.params[1] * x\n",
    "                 + insects_model_quad.params[2] * x*x\n",
    "                 + insects_model_quad.params[3],\n",
    "           linewidth=2, c=\"red\")\n",
    "    ax.set_xlim(30, 60)\n",
    "    ax.set_xlabel(\"Latitude\")\n",
    "    ax.set_ylabel(\"Wing Size\")\n",
    "    ax.set_title(\"Insect Wing Sizes at Various Latitudes\")\n",
    "    ax.legend()\n",
    "    \n",
    "make_insects_model_quadratic(ax)"
   ]
  },
  {
   "cell_type": "markdown",
   "metadata": {},
   "source": [
    "Now we have a good fit to our data."
   ]
  },
  {
   "cell_type": "markdown",
   "metadata": {},
   "source": [
    "**Discussion:** Should we go further and add higher degree terms into the model?  Why or why not?  What would happen if do?"
   ]
  },
  {
   "cell_type": "markdown",
   "metadata": {},
   "source": [
    "## Inference Using a Linear Model"
   ]
  },
  {
   "cell_type": "markdown",
   "metadata": {},
   "source": [
    "Let's use our model to answer an inferential question: does continent has any effect on wing size?\n",
    "\n",
    "To accomplish this, we modify our model from this:\n",
    "\n",
    "$$ \\text{Wing Span} \\approx a + b \\times \\text{Latitude} + c \\times \\text{Latitude}^2 +  d \\times \\text{Sex} $$\n",
    "\n",
    "to the slightly more complicated\n",
    "\n",
    "$$ \\text{Wing Span} \\approx a + b \\times \\text{Latitude} + c \\times \\text{Latitude}^2 +  d \\times \\text{Sex} + e \\times \\text{Continent} $$\n",
    "\n",
    "Then the new number $e$ captures the effect of the insect being found on the continent labeled $1$.  **If $e$ is zero, or close to zero, then continent has no effect on wing span**.\n",
    "\n",
    "Let's estimate the model:"
   ]
  },
  {
   "cell_type": "markdown",
   "metadata": {},
   "source": [
    "linear_model = smf.ols(formula='wingsize ~ latitude + I(latitude**2) + sex + continent',\n",
    "                       data=insects)\n",
    "insects_model_quad_with_continent = linear_model.fit()\n",
    "\n",
    "\n",
    "#linear_model_summary(insects_model_quad_with_continent)\n",
    "insects_model_quad_with_continent.params"
   ]
  },
  {
   "cell_type": "markdown",
   "metadata": {},
   "source": [
    "Now we have four different possible combinations of indicator variables\n",
    "\n",
    "  - `sex == 0 and continent == 0`\n",
    "  - `sex == 1 and continent == 0`\n",
    "  - `sex == 0 and continent == 1`\n",
    "  - `sex == 1 and continent == 1`\n",
    "  \n",
    "Which results in four curves being fit (though the **shape** of the quadratic trend is the same for each, as the parameters associated with latitude are **shared**)."
   ]
  },
  {
   "cell_type": "code",
   "execution_count": 32,
   "metadata": {},
   "outputs": [
    {
     "data": {
      "image/png": "[encoded data removed]",
      "text/plain": [
       "<Figure size 576x360 with 1 Axes>"
      ]
     },
     "metadata": {},
     "output_type": "display_data"
    }
   ],
   "source": [
    "fig, ax = plt.subplots()\n",
    "\n",
    "# Make a scatterplot of the data.\n",
    "make_insects_scatter_plot(ax)\n",
    "\n",
    "def make_insects_model_quadratic_and_continent(ax):\n",
    "    x = np.linspace(30, 60, num=250)\n",
    "    ax.plot(x, insects_model_quad.params[0] \n",
    "                 + insects_model_quad_with_continent.params[1] * x\n",
    "                 + insects_model_quad_with_continent.params[2] * x*x,\n",
    "           linewidth=2, c=\"blue\")\n",
    "    ax.plot(x, insects_model_quad_with_continent.params[0] \n",
    "                 + insects_model_quad_with_continent.params[1] * x\n",
    "                 + insects_model_quad_with_continent.params[2] * x*x\n",
    "                 + insects_model_quad_with_continent.params[4],\n",
    "           linewidth=2, c=\"blue\", linestyle=\"--\")\n",
    "    ax.plot(x, insects_model_quad.params[0] \n",
    "                 + insects_model_quad_with_continent.params[1] * x\n",
    "                 + insects_model_quad_with_continent.params[2] * x*x\n",
    "                 + insects_model_quad_with_continent.params[3],\n",
    "           linewidth=2, c=\"red\")\n",
    "    ax.plot(x, insects_model_quad.params[0] \n",
    "                 + insects_model_quad_with_continent.params[1] * x\n",
    "                 + insects_model_quad_with_continent.params[2] * x*x\n",
    "                 + insects_model_quad_with_continent.params[3]\n",
    "                 + insects_model_quad_with_continent.params[4],\n",
    "           linewidth=2, c=\"red\", linestyle=\"--\")\n",
    "    ax.set_xlim(30, 60)\n",
    "    ax.set_xlabel(\"Latitude\")\n",
    "    ax.set_ylabel(\"Wing Size\")\n",
    "    ax.set_title(\"Insect Wing Sizes at Various Latitudes\")\n",
    "    ax.legend()\n",
    "    \n",
    "make_insects_model_quadratic_and_continent(ax)"
   ]
  },
  {
   "cell_type": "markdown",
   "metadata": {},
   "source": [
    "The effect of the `continent` variable is seen here as the difference between the solid and dashed lines.  It's evident from this plot that `continent` is not very useful in describing the `wingsize` of our insects."
   ]
  },
  {
   "cell_type": "markdown",
   "metadata": {},
   "source": [
    "### Linear Regression p-values"
   ]
  },
  {
   "cell_type": "markdown",
   "metadata": {},
   "source": [
    "One way to formalize this idea is using the p-values reported in the full summary of a linear regression model:"
   ]
  },
  {
   "cell_type": "code",
   "execution_count": 33,
   "metadata": {},
   "outputs": [
    {
     "data": {
      "text/html": [
       "<table class=\"simpletable\">\n",
       "<caption>OLS Regression Results</caption>\n",
       "<tr>\n",
       "  <th>Dep. Variable:</th>        <td>wingsize</td>     <th>  R-squared:         </th> <td>   0.959</td>\n",
       "</tr>\n",
       "<tr>\n",
       "  <th>Model:</th>                   <td>OLS</td>       <th>  Adj. R-squared:    </th> <td>   0.954</td>\n",
       "</tr>\n",
       "<tr>\n",
       "  <th>Method:</th>             <td>Least Squares</td>  <th>  F-statistic:       </th> <td>   214.2</td>\n",
       "</tr>\n",
       "<tr>\n",
       "  <th>Date:</th>             <td>Mon, 20 Jul 2020</td> <th>  Prob (F-statistic):</th> <td>4.86e-25</td>\n",
       "</tr>\n",
       "<tr>\n",
       "  <th>Time:</th>                 <td>13:11:57</td>     <th>  Log-Likelihood:    </th> <td> -158.39</td>\n",
       "</tr>\n",
       "<tr>\n",
       "  <th>No. Observations:</th>      <td>    42</td>      <th>  AIC:               </th> <td>   326.8</td>\n",
       "</tr>\n",
       "<tr>\n",
       "  <th>Df Residuals:</th>          <td>    37</td>      <th>  BIC:               </th> <td>   335.5</td>\n",
       "</tr>\n",
       "<tr>\n",
       "  <th>Df Model:</th>              <td>     4</td>      <th>                     </th>     <td> </td>   \n",
       "</tr>\n",
       "<tr>\n",
       "  <th>Covariance Type:</th>      <td>nonrobust</td>    <th>                     </th>     <td> </td>   \n",
       "</tr>\n",
       "</table>\n",
       "<table class=\"simpletable\">\n",
       "<tr>\n",
       "          <td></td>            <th>coef</th>     <th>std err</th>      <th>t</th>      <th>P>|t|</th>  <th>[0.025</th>    <th>0.975]</th>  \n",
       "</tr>\n",
       "<tr>\n",
       "  <th>Intercept</th>        <td>  814.2563</td> <td>  108.330</td> <td>    7.516</td> <td> 0.000</td> <td>  594.759</td> <td> 1033.754</td>\n",
       "</tr>\n",
       "<tr>\n",
       "  <th>latitude</th>         <td>    2.7869</td> <td>    4.879</td> <td>    0.571</td> <td> 0.571</td> <td>   -7.099</td> <td>   12.673</td>\n",
       "</tr>\n",
       "<tr>\n",
       "  <th>I(latitude ** 2)</th> <td>   -0.0111</td> <td>    0.054</td> <td>   -0.204</td> <td> 0.839</td> <td>   -0.121</td> <td>    0.099</td>\n",
       "</tr>\n",
       "<tr>\n",
       "  <th>sex</th>              <td>  -98.8571</td> <td>    3.455</td> <td>  -28.611</td> <td> 0.000</td> <td> -105.858</td> <td>  -91.856</td>\n",
       "</tr>\n",
       "<tr>\n",
       "  <th>continent</th>        <td>   -4.2049</td> <td>    3.587</td> <td>   -1.172</td> <td> 0.249</td> <td>  -11.473</td> <td>    3.063</td>\n",
       "</tr>\n",
       "</table>\n",
       "<table class=\"simpletable\">\n",
       "<tr>\n",
       "  <th>Omnibus:</th>       <td> 2.131</td> <th>  Durbin-Watson:     </th> <td>   2.005</td>\n",
       "</tr>\n",
       "<tr>\n",
       "  <th>Prob(Omnibus):</th> <td> 0.345</td> <th>  Jarque-Bera (JB):  </th> <td>   1.160</td>\n",
       "</tr>\n",
       "<tr>\n",
       "  <th>Skew:</th>          <td> 0.198</td> <th>  Prob(JB):          </th> <td>   0.560</td>\n",
       "</tr>\n",
       "<tr>\n",
       "  <th>Kurtosis:</th>      <td> 3.711</td> <th>  Cond. No.          </th> <td>1.31e+05</td>\n",
       "</tr>\n",
       "</table><br/><br/>Warnings:<br/>[1] Standard Errors assume that the covariance matrix of the errors is correctly specified.<br/>[2] The condition number is large, 1.31e+05. This might indicate that there are<br/>strong multicollinearity or other numerical problems."
      ],
      "text/plain": [
       "<class 'statsmodels.iolib.summary.Summary'>\n",
       "\"\"\"\n",
       "                            OLS Regression Results                            \n",
       "==============================================================================\n",
       "Dep. Variable:               wingsize   R-squared:                       0.959\n",
       "Model:                            OLS   Adj. R-squared:                  0.954\n",
       "Method:                 Least Squares   F-statistic:                     214.2\n",
       "Date:                Mon, 20 Jul 2020   Prob (F-statistic):           4.86e-25\n",
       "Time:                        13:11:57   Log-Likelihood:                -158.39\n",
       "No. Observations:                  42   AIC:                             326.8\n",
       "Df Residuals:                      37   BIC:                             335.5\n",
       "Df Model:                           4                                         \n",
       "Covariance Type:            nonrobust                                         \n",
       "====================================================================================\n",
       "                       coef    std err          t      P>|t|      [0.025      0.975]\n",
       "------------------------------------------------------------------------------------\n",
       "Intercept          814.2563    108.330      7.516      0.000     594.759    1033.754\n",
       "latitude             2.7869      4.879      0.571      0.571      -7.099      12.673\n",
       "I(latitude ** 2)    -0.0111      0.054     -0.204      0.839      -0.121       0.099\n",
       "sex                -98.8571      3.455    -28.611      0.000    -105.858     -91.856\n",
       "continent           -4.2049      3.587     -1.172      0.249     -11.473       3.063\n",
       "==============================================================================\n",
       "Omnibus:                        2.131   Durbin-Watson:                   2.005\n",
       "Prob(Omnibus):                  0.345   Jarque-Bera (JB):                1.160\n",
       "Skew:                           0.198   Prob(JB):                        0.560\n",
       "Kurtosis:                       3.711   Cond. No.                     1.31e+05\n",
       "==============================================================================\n",
       "\n",
       "Warnings:\n",
       "[1] Standard Errors assume that the covariance matrix of the errors is correctly specified.\n",
       "[2] The condition number is large, 1.31e+05. This might indicate that there are\n",
       "strong multicollinearity or other numerical problems.\n",
       "\"\"\""
      ]
     },
     "execution_count": 33,
     "metadata": {},
     "output_type": "execute_result"
    }
   ],
   "source": [
    "insects_model_quad_with_continent.summary()"
   ]
  },
  {
   "cell_type": "markdown",
   "metadata": {},
   "source": [
    "Recall that a **p-value** describes the amount of surprise that we feel when observing data, given that we are taking a skeptical stance on how that data is generated.\n",
    "\n",
    "$$ P(\\text{Observing A Statistic Equal or More Extreme than Actual} \\mid H_0) $$\n",
    "\n",
    "So to make sense of the p-values here, we need to describe the **null hypothesis** and the **statistic**."
   ]
  },
  {
   "cell_type": "markdown",
   "metadata": {},
   "source": [
    "The **null hypothesis** in this case is that each value of $y$ was generated by sampling from a relationship like:\n",
    "\n",
    "$$ y \\sim N(a + b \\times \\text{Latitude} + c \\times \\text{Latitude}^2 +  d \\times \\text{Sex} + 0 \\times \\text{Continent}, \\sigma) $$\n",
    "\n",
    "Notice that in the null hypothesis, we are assuming **the effect of continent is zero, so we would be surprised to find it very non-zero**."
   ]
  },
  {
   "cell_type": "markdown",
   "metadata": {},
   "source": [
    "Given this null hypothesis, the **p-value** reported in linear regression is\n",
    "\n",
    "$$ P(\\text{Observe a Parameter Estimate for Continent More Extreme Than the Fit Model} \\mid H_0) $$"
   ]
  },
  {
   "cell_type": "markdown",
   "metadata": {},
   "source": [
    "Our p-value for continent was $0.25$, so it's quite likely that we would observe a parameter estimate equally or more extreme than we actually did, even if the true effect was zero.  This is consistent with what we saw in our picture."
   ]
  },
  {
   "cell_type": "markdown",
   "metadata": {},
   "source": [
    "#### A Final Word on Assumptions"
   ]
  },
  {
   "cell_type": "markdown",
   "metadata": {},
   "source": [
    "There is a subtlety to our hypothesis test above.\n",
    "\n",
    "The Null Hypothesis can be **false in more than one way**:\n",
    "\n",
    "  - It could be, as we discussed already, that the true effect of `continent` is *not-zero*.  This is the situation we are trying to detect.\n",
    "  - It could be that the value of $y$ was *not created by sampling from a normal distribution centered at the predicted value*.\n",
    "  \n",
    "For example, it could be that the value of $y$ was created by sampling from some other distribution:\n",
    "\n",
    "$$ y \\sim \\text{Poisson}(a + b \\times \\text{Latitude} + c \\times \\text{Latitude}^2 +  d \\times \\text{Sex} + e \\times \\text{Continent}) $$\n",
    "\n",
    "In this case we **cannot deduce that $e \\neq 0$, even if we reject the null hypothesis**.\n",
    "\n",
    "For this reason, it is important to visually inspect the residuals of the fit model, and check that the assumption of normally distributed residuals seems a reasonable one."
   ]
  },
  {
   "cell_type": "code",
   "execution_count": 34,
   "metadata": {},
   "outputs": [
    {
     "data": {
      "text/plain": [
       "<matplotlib.collections.PathCollection at 0x1a1c8a4a90>"
      ]
     },
     "execution_count": 34,
     "metadata": {},
     "output_type": "execute_result"
    },
    {
     "data": {
      "image/png": "[encoded data removed]",
      "text/plain": [
       "<Figure size 576x360 with 1 Axes>"
      ]
     },
     "metadata": {},
     "output_type": "display_data"
    }
   ],
   "source": [
    "fig, ax = plt.subplots()\n",
    "\n",
    "ax.scatter(insects_model_quad_with_continent.fittedvalues,\n",
    "           insects_model_quad_with_continent.resid, s=50)"
   ]
  },
  {
   "cell_type": "markdown",
   "metadata": {},
   "source": [
    "There are no obvious patterns in this plot, and the data does thin out as we move away from the x-axis.  This is consistent with what we would see if our data was generated as specified in the null hypothesis."
   ]
  }
 ],
 "metadata": {
  "anaconda-cloud": {},
  "kernelspec": {
   "display_name": "Python 3",
   "language": "python",
   "name": "python3"
  },
  "language_info": {
   "codemirror_mode": {
    "name": "ipython",
    "version": 3
   },
   "file_extension": ".py",
   "mimetype": "text/x-python",
   "name": "python",
   "nbconvert_exporter": "python",
   "pygments_lexer": "ipython3",
   "version": "3.9.2"
  },
  "toc": {
   "base_numbering": 1,
   "nav_menu": {},
   "number_sections": true,
   "sideBar": true,
   "skip_h1_title": false,
   "title_cell": "Table of Contents",
   "title_sidebar": "Contents",
   "toc_cell": false,
   "toc_position": {},
   "toc_section_display": true,
   "toc_window_display": false
  }
 },
 "nbformat": 4,
 "nbformat_minor": 4
}
