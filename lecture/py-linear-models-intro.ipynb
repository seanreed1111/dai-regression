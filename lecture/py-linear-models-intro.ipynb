{
 "cells": [
  {
   "cell_type": "code",
   "execution_count": 35,
   "metadata": {
    "slideshow": {
     "slide_type": "skip"
    }
   },
   "outputs": [],
   "source": [
    "from IPython.display import HTML, display, Image\n",
    "import numpy as np\n",
    "import seaborn as sns\n",
    "import pandas as pd\n",
    "import matplotlib.pyplot as plt\n",
    "%matplotlib inline\n",
    "\n",
    "SMALL_SIZE = 15\n",
    "MEDIUM_SIZE = 16\n",
    "LARGE_SIZE = 18\n",
    "\n",
    "plt.rc('font', size=SMALL_SIZE)          # controls default text sizes\n",
    "plt.rc('axes', titlesize=SMALL_SIZE)     # fontsize of the axes title\n",
    "plt.rc('axes', labelsize=MEDIUM_SIZE)    # fontsize of the x and y labels\n",
    "plt.rc('xtick', labelsize=SMALL_SIZE)    # fontsize of the tick labels\n",
    "plt.rc('ytick', labelsize=SMALL_SIZE)    # fontsize of the tick labels\n",
    "plt.rc('legend', fontsize=SMALL_SIZE)    # legend fontsize\n",
    "plt.rc('figure', titlesize=LARGE_SIZE)   # fontsize of the figure title"
   ]
  },
  {
   "cell_type": "markdown",
   "metadata": {
    "slideshow": {
     "slide_type": "slide"
    }
   },
   "source": [
    "<center>\n",
    "<img src=\"../images/galvanize-logo.png\" alt=\"galvanize-logo\" align=\"center\" style=\"width: 256px;\"/>\n",
    "</center>\n",
    "\n",
    "<hr />\n",
    "\n",
    "\n",
    "## Python Linear Models Intro\n",
    "\n",
    "An introduction to using linear machine learning models in Python to make predictions"
   ]
  },
  {
   "cell_type": "markdown",
   "metadata": {
    "slideshow": {
     "slide_type": "slide"
    }
   },
   "source": [
    "<center>\n",
    "<img src=\"../images/python-logo.png\" alt=\"python-logo\" align=\"center\" style=\"width: 256px;\"/>\n",
    "</center>\n",
    "\n",
    "<hr />\n",
    "\n",
    "### Learning Objectives"
   ]
  },
  {
   "cell_type": "markdown",
   "metadata": {
    "slideshow": {
     "slide_type": "fragment"
    }
   },
   "source": [
    "1. **Create a Model** - Use sklearn's implementation to create and train a simple linear regression model"
   ]
  },
  {
   "cell_type": "markdown",
   "metadata": {
    "slideshow": {
     "slide_type": "fragment"
    }
   },
   "source": [
    "2. **Coefficients** - Interpret coefficients of Linear Regression"
   ]
  },
  {
   "cell_type": "markdown",
   "metadata": {
    "slideshow": {
     "slide_type": "fragment"
    }
   },
   "source": [
    "3. **Model Validation** - Validate Linear Regression Predictions"
   ]
  },
  {
   "cell_type": "markdown",
   "metadata": {
    "slideshow": {
     "slide_type": "notes"
    }
   },
   "source": [
    "Read the objectives"
   ]
  },
  {
   "cell_type": "markdown",
   "metadata": {
    "slideshow": {
     "slide_type": "slide"
    }
   },
   "source": [
    "### Introduction\n",
    "\n",
    "In this lesson, we will explore the use of machine learning models to predict a \"target\" (also called a dependent variable or a response variable) from one or more data \"features\" (also called independent variables or predictor variables)."
   ]
  },
  {
   "cell_type": "markdown",
   "metadata": {
    "slideshow": {
     "slide_type": "slide"
    }
   },
   "source": [
    "### Introducing \"Linear Regression\"\n",
    "\n",
    "Here we will focus on a model called \"Linear Regression\".\n",
    "\n",
    "The name is descriptive, in that to use it we need to assume that the relationship of the target to the features is linear. And \"regression\" means the target is a numeric value.\n",
    "\n",
    "Linear Regression is an example of supervised learning, since we can train the model with data in which the targets (also called \"labels\") are known."
   ]
  },
  {
   "cell_type": "markdown",
   "metadata": {
    "slideshow": {
     "slide_type": "slide"
    }
   },
   "source": [
    "### Models\n",
    "\n",
    "* A machine learning model can predict as-yet unknown information\n",
    "* A supervised learning model uses known information to \"learn\" how to predict\n",
    "* This is powerful, as we can \"see into the future\"\n",
    "* A business may save a lot of money if it can predict in this way"
   ]
  },
  {
   "cell_type": "markdown",
   "metadata": {
    "slideshow": {
     "slide_type": "slide"
    }
   },
   "source": [
    "### How do models work?\n",
    "\n",
    "* Models use algorithms to process data\n",
    "* When a model is given known data, it adjusts its internal settings\n",
    "* These are known as \"parameters\"\n",
    "* Later, that model can make predictions about new, unseen data"
   ]
  },
  {
   "cell_type": "markdown",
   "metadata": {
    "slideshow": {
     "slide_type": "slide"
    }
   },
   "source": [
    "### Dependent and independent variables\n",
    "\n",
    "* The information we want to predict is called the \"target\"\n",
    "* The target depends on independent variables called \"features\"\n",
    "\n",
    "Note that there can be many features that contribute to predicting a target.\n",
    "\n",
    "We depend on there being a \"relationship\" between the features and the target."
   ]
  },
  {
   "cell_type": "markdown",
   "metadata": {
    "slideshow": {
     "slide_type": "slide"
    }
   },
   "source": [
    "### What is a linear relationship?\n",
    "\n",
    "In this lesson, we are looking at special relationships between features and a target.\n",
    "\n",
    "These relationships are assumed to be \"linear\" - what does this mean?"
   ]
  },
  {
   "cell_type": "markdown",
   "metadata": {
    "slideshow": {
     "slide_type": "slide"
    }
   },
   "source": [
    "### Graphing a linear relationship\n",
    "\n",
    "Perhaps the simplest way to understand a linear relationship is to use a graph:\n",
    "\n",
    "<center>\n",
    "<img src=\"../images/simple_lr_graph_perfect.png\" alt=\"simple scatter graph where points line up perfectly\" align=\"center\" style=\"width: 256px;\"/>\n",
    "</center>\n",
    "\n",
    "Let's call the X axis a feature and the Y axis the target. In a perfect linear relationship, all data points lie exactly on a straight line."
   ]
  },
  {
   "cell_type": "markdown",
   "metadata": {
    "slideshow": {
     "slide_type": "slide"
    }
   },
   "source": [
    "### Real-world linear relationships\n",
    "\n",
    "But real-world data is not perfect. Here is what real data might look like\n",
    "\n",
    "<center>\n",
    "<img src=\"../images/simple_lr_graph.png\" alt=\"simple scatter graph where points do not line up perfectly\" align=\"center\" style=\"width: 256px;\"/>\n",
    "</center>\n",
    "\n",
    "Is this still linear?"
   ]
  },
  {
   "cell_type": "markdown",
   "metadata": {
    "slideshow": {
     "slide_type": "slide"
    }
   },
   "source": [
    "Yes! We can still treat this data as linear.\n",
    "\n",
    "There is clearly a linear trend there, even if not perfect."
   ]
  },
  {
   "cell_type": "markdown",
   "metadata": {
    "slideshow": {
     "slide_type": "slide"
    }
   },
   "source": [
    "### Linear Regression in action\n",
    "\n",
    "Since real-world data does not supply perfect linear relationships, the job of the model is to find a line that is the \"best fit\".\n",
    "\n",
    "<center>\n",
    "<img src=\"../images/simple_lr_graph_fit.png\" alt=\"simple_lr_graph_fit\" align=\"center\" style=\"width: 256px;\"/>\n",
    "</center>\n",
    " \n",
    "Note that the distance from each point to the line is indicated by the small vertical lines. These show how the real data differs from its linear model. These differences are called \"residuals\"."
   ]
  },
  {
   "cell_type": "markdown",
   "metadata": {
    "slideshow": {
     "slide_type": "notes"
    }
   },
   "source": [
    "Consider asking the class, \"Do predictions always lie on this line?\""
   ]
  },
  {
   "cell_type": "markdown",
   "metadata": {
    "slideshow": {
     "slide_type": "slide"
    }
   },
   "source": [
    "### A concrete example\n",
    "\n",
    "Let's look at a simple example - height vs. shoe size:\n",
    "\n",
    "<center>\n",
    "<img src=\"../images/simple_lr_graph_shoe_size.png\" alt=\"simple_lr_graph_shoe_size\" align=\"center\" style=\"width: 256px;\"/>\n",
    "</center>\n",
    "\n",
    "This is \"linear enough\" to be valuable and will produce pretty good predictions."
   ]
  },
  {
   "cell_type": "code",
   "execution_count": 30,
   "metadata": {},
   "outputs": [
    {
     "data": {
      "text/plain": [
       "(0.0, 11.0)"
      ]
     },
     "execution_count": 30,
     "metadata": {},
     "output_type": "execute_result"
    },
    {
     "data": {
      "image/png": "[encoded data removed]",
      "text/plain": [
       "<Figure size 432x288 with 1 Axes>"
      ]
     },
     "metadata": {
      "needs_background": "light"
     },
     "output_type": "display_data"
    }
   ],
   "source": [
    "# This is \"linear enough\" to be valuable and will produce pretty good predictions.\n",
    "# Note: sns.regplot() will automatically draw a straight line of 'best fit' on top of our datapoint. \n",
    "# We will learn how to compute the equation of this line a bit later.\n",
    "\n",
    "x,y = np.array([2,4,6,8,10]), np.array([3.4,6,9,19,24])\n",
    "\n",
    "\n",
    "ax = sns.regplot(x=x, y=y, ci=None, marker='D')\n",
    "ax.set_xlim(0,11)"
   ]
  },
  {
   "cell_type": "code",
   "execution_count": null,
   "metadata": {},
   "outputs": [],
   "source": []
  },
  {
   "cell_type": "code",
   "execution_count": 32,
   "metadata": {},
   "outputs": [
    {
     "data": {
      "image/png": "[encoded data removed]",
      "text/plain": [
       "<Figure size 432x288 with 1 Axes>"
      ]
     },
     "metadata": {
      "needs_background": "light"
     },
     "output_type": "display_data"
    }
   ],
   "source": [
    "# Now let's look an an example that is definitely NOT linear.\n",
    "x = np.linspace(-10,10,20)\n",
    "y = 4- 5*x - x**2 #parabola \n",
    "ax = sns.regplot(x=x, y=y, ci=None, marker='D')"
   ]
  },
  {
   "cell_type": "markdown",
   "metadata": {},
   "source": [
    "# Without doing more preprocessing on your data, this example would produce poor results in a linear model."
   ]
  },
  {
   "cell_type": "code",
   "execution_count": null,
   "metadata": {},
   "outputs": [],
   "source": []
  },
  {
   "cell_type": "markdown",
   "metadata": {
    "slideshow": {
     "slide_type": "slide"
    }
   },
   "source": [
    "### Checks for Understanding\n",
    "\n",
    "1. How does a simple Linear Regression model learn from training data?\n",
    "\n",
    "\n",
    "2. What is the difference between a target and a feature?\n",
    "\n",
    "\n",
    "3. What constitutes a \"linear relationship\"?"
   ]
  },
  {
   "cell_type": "code",
   "execution_count": null,
   "metadata": {},
   "outputs": [],
   "source": []
  },
  {
   "cell_type": "markdown",
   "metadata": {
    "slideshow": {
     "slide_type": "slide"
    }
   },
   "source": [
    "### Using the equation of a line for prediction\n",
    "\n",
    "The equation of a line, which is enough for simple Linear Regression, is $y = mx + b$. There are two coefficients, $m$ and $b$.\n",
    "\n",
    "This can be written with two new coefficients $\\beta_0$ and $\\beta_1$\n",
    "\n",
    "$\\hat{y}_i = \\beta_0 + \\beta_1 x_i$ \n",
    "\n",
    "Now $\\beta_0$ is the y-intercept and $\\beta_1$ is the slope. \n",
    "\n",
    "Here, $\\hat{y}_i$ is the predicted output of the model for each sample, $x_i$. The betas are the coefficients of the model. "
   ]
  },
  {
   "cell_type": "markdown",
   "metadata": {},
   "source": [
    "### Once you have estimated the betas you then can use them to make predictions of your target y for values of x is that are not a part of your dataset"
   ]
  },
  {
   "cell_type": "code",
   "execution_count": null,
   "metadata": {},
   "outputs": [],
   "source": []
  },
  {
   "cell_type": "markdown",
   "metadata": {},
   "source": [
    "## Check for Understanding"
   ]
  },
  {
   "cell_type": "markdown",
   "metadata": {},
   "source": [
    "Suppose, for a sample dataset, our best fit line gives estimates of $\\beta_0$ = 2 and $\\beta_1$ = 5\n",
    "\n",
    "Predict $\\hat{y}_i$ for $x_i$ = 4."
   ]
  },
  {
   "cell_type": "code",
   "execution_count": null,
   "metadata": {},
   "outputs": [],
   "source": []
  },
  {
   "cell_type": "markdown",
   "metadata": {
    "slideshow": {
     "slide_type": "slide"
    }
   },
   "source": [
    "### Multiple Linear Regression\n",
    "\n",
    "So far, we have been working with just one feature. But Linear Regression can deal with any number of features!\n",
    "\n",
    "With each additional feature, we add a new dimension to the graph, so things quickly become hard to visualize...\n",
    "\n",
    "For example, with one feature, we can show the results on a two dimensional graph, like above.\n",
    "\n",
    "With two features, the line becomes a plane in 3D space.\n",
    "\n",
    "Beyond that, the math still works, but there are too many dimensions to imagine easily."
   ]
  },
  {
   "cell_type": "code",
   "execution_count": null,
   "metadata": {},
   "outputs": [],
   "source": []
  },
  {
   "cell_type": "markdown",
   "metadata": {
    "slideshow": {
     "slide_type": "slide"
    }
   },
   "source": [
    "### An actual example\n",
    "\n",
    "Let's take a look at doing a real Linear Regression. First, we need to import a few Python modules..."
   ]
  },
  {
   "cell_type": "code",
   "execution_count": 36,
   "metadata": {
    "slideshow": {
     "slide_type": "slide"
    }
   },
   "outputs": [],
   "source": [
    "from sklearn.metrics import mean_squared_error, r2_score\n",
    "from sklearn.linear_model import LinearRegression"
   ]
  },
  {
   "cell_type": "markdown",
   "metadata": {
    "slideshow": {
     "slide_type": "slide"
    }
   },
   "source": [
    "Now we read the data and take a look at a bit of it..."
   ]
  },
  {
   "cell_type": "code",
   "execution_count": 40,
   "metadata": {
    "slideshow": {
     "slide_type": "slide"
    }
   },
   "outputs": [
    {
     "data": {
      "text/html": [
       "<div>\n",
       "<style scoped>\n",
       "    .dataframe tbody tr th:only-of-type {\n",
       "        vertical-align: middle;\n",
       "    }\n",
       "\n",
       "    .dataframe tbody tr th {\n",
       "        vertical-align: top;\n",
       "    }\n",
       "\n",
       "    .dataframe thead th {\n",
       "        text-align: right;\n",
       "    }\n",
       "</style>\n",
       "<table border=\"1\" class=\"dataframe\">\n",
       "  <thead>\n",
       "    <tr style=\"text-align: right;\">\n",
       "      <th></th>\n",
       "      <th>mpg</th>\n",
       "      <th>cylinders</th>\n",
       "      <th>displacement</th>\n",
       "      <th>horsepower</th>\n",
       "      <th>weight</th>\n",
       "      <th>acceleration</th>\n",
       "      <th>model</th>\n",
       "      <th>origin</th>\n",
       "      <th>car_name</th>\n",
       "    </tr>\n",
       "  </thead>\n",
       "  <tbody>\n",
       "    <tr>\n",
       "      <th>0</th>\n",
       "      <td>18.0</td>\n",
       "      <td>8</td>\n",
       "      <td>307.0</td>\n",
       "      <td>130.0</td>\n",
       "      <td>3504.0</td>\n",
       "      <td>12.0</td>\n",
       "      <td>70</td>\n",
       "      <td>1</td>\n",
       "      <td>chevrolet chevelle malibu</td>\n",
       "    </tr>\n",
       "    <tr>\n",
       "      <th>1</th>\n",
       "      <td>15.0</td>\n",
       "      <td>8</td>\n",
       "      <td>350.0</td>\n",
       "      <td>165.0</td>\n",
       "      <td>3693.0</td>\n",
       "      <td>11.5</td>\n",
       "      <td>70</td>\n",
       "      <td>1</td>\n",
       "      <td>buick skylark 320</td>\n",
       "    </tr>\n",
       "    <tr>\n",
       "      <th>2</th>\n",
       "      <td>18.0</td>\n",
       "      <td>8</td>\n",
       "      <td>318.0</td>\n",
       "      <td>150.0</td>\n",
       "      <td>3436.0</td>\n",
       "      <td>11.0</td>\n",
       "      <td>70</td>\n",
       "      <td>1</td>\n",
       "      <td>plymouth satellite</td>\n",
       "    </tr>\n",
       "  </tbody>\n",
       "</table>\n",
       "</div>"
      ],
      "text/plain": [
       "    mpg  cylinders  displacement horsepower  weight  acceleration  model  \\\n",
       "0  18.0          8         307.0      130.0  3504.0          12.0     70   \n",
       "1  15.0          8         350.0      165.0  3693.0          11.5     70   \n",
       "2  18.0          8         318.0      150.0  3436.0          11.0     70   \n",
       "\n",
       "   origin                   car_name  \n",
       "0       1  chevrolet chevelle malibu  \n",
       "1       1          buick skylark 320  \n",
       "2       1         plymouth satellite  "
      ]
     },
     "execution_count": 40,
     "metadata": {},
     "output_type": "execute_result"
    }
   ],
   "source": [
    "df_full = pd.read_csv('data/cars_multivariate.csv')\n",
    "df_full.head(3)"
   ]
  },
  {
   "cell_type": "markdown",
   "metadata": {
    "slideshow": {
     "slide_type": "slide"
    }
   },
   "source": [
    "Our target is miles per gallon (mpg), and we decide we only want to use 3 features. Here, we make a new dataframe with only the columns we need. In Linear Regresion, it is not always better to include more (or all!) of the features..."
   ]
  },
  {
   "cell_type": "code",
   "execution_count": 51,
   "metadata": {
    "slideshow": {
     "slide_type": "slide"
    }
   },
   "outputs": [
    {
     "name": "stdout",
     "output_type": "stream",
     "text": [
      "<class 'pandas.core.frame.DataFrame'>\n",
      "RangeIndex: 398 entries, 0 to 397\n",
      "Data columns (total 2 columns):\n",
      " #   Column  Non-Null Count  Dtype  \n",
      "---  ------  --------------  -----  \n",
      " 0   mpg     398 non-null    float64\n",
      " 1   weight  398 non-null    float64\n",
      "dtypes: float64(2)\n",
      "memory usage: 6.3 KB\n"
     ]
    }
   ],
   "source": [
    "df1 = df_full[['mpg', 'weight']]\n",
    "df1.info()"
   ]
  },
  {
   "cell_type": "markdown",
   "metadata": {
    "slideshow": {
     "slide_type": "slide"
    }
   },
   "source": [
    "Let's take another look at our new dataframe..."
   ]
  },
  {
   "cell_type": "code",
   "execution_count": 52,
   "metadata": {
    "slideshow": {
     "slide_type": "slide"
    }
   },
   "outputs": [
    {
     "data": {
      "text/html": [
       "<div>\n",
       "<style scoped>\n",
       "    .dataframe tbody tr th:only-of-type {\n",
       "        vertical-align: middle;\n",
       "    }\n",
       "\n",
       "    .dataframe tbody tr th {\n",
       "        vertical-align: top;\n",
       "    }\n",
       "\n",
       "    .dataframe thead th {\n",
       "        text-align: right;\n",
       "    }\n",
       "</style>\n",
       "<table border=\"1\" class=\"dataframe\">\n",
       "  <thead>\n",
       "    <tr style=\"text-align: right;\">\n",
       "      <th></th>\n",
       "      <th>min</th>\n",
       "      <th>max</th>\n",
       "    </tr>\n",
       "  </thead>\n",
       "  <tbody>\n",
       "    <tr>\n",
       "      <th>mpg</th>\n",
       "      <td>9.0</td>\n",
       "      <td>46.6</td>\n",
       "    </tr>\n",
       "    <tr>\n",
       "      <th>weight</th>\n",
       "      <td>1613.0</td>\n",
       "      <td>5140.0</td>\n",
       "    </tr>\n",
       "  </tbody>\n",
       "</table>\n",
       "</div>"
      ],
      "text/plain": [
       "           min     max\n",
       "mpg        9.0    46.6\n",
       "weight  1613.0  5140.0"
      ]
     },
     "execution_count": 52,
     "metadata": {},
     "output_type": "execute_result"
    }
   ],
   "source": [
    "df1.describe().T[['min', 'max']]"
   ]
  },
  {
   "cell_type": "markdown",
   "metadata": {
    "slideshow": {
     "slide_type": "slide"
    }
   },
   "source": [
    "Remember that Linear Regression assumes the data is linear. One way to tell is to graph the data and take a look...\n",
    "\n",
    "ALWAYS PLOT YOUR DATA (OR PORTIONS OF YOUR DATA) WHEREEVER POSSIBLY"
   ]
  },
  {
   "cell_type": "code",
   "execution_count": 50,
   "metadata": {
    "slideshow": {
     "slide_type": "slide"
    }
   },
   "outputs": [
    {
     "data": {
      "image/png": "[encoded data removed]",
      "text/plain": [
       "<Figure size 432x288 with 1 Axes>"
      ]
     },
     "metadata": {
      "needs_background": "light"
     },
     "output_type": "display_data"
    }
   ],
   "source": [
    "df1 = df_full[['mpg', 'weight']]\n",
    "ax = sns.scatterplot(x='weight', y='mpg', data=df1, ci=None, marker='D')"
   ]
  },
  {
   "cell_type": "markdown",
   "metadata": {
    "slideshow": {
     "slide_type": "slide"
    }
   },
   "source": [
    "Also, we need to avoid choosing features that depend on each other (multi-colinearity) and give no new information. A heat map can help here...."
   ]
  },
  {
   "cell_type": "code",
   "execution_count": null,
   "metadata": {
    "slideshow": {
     "slide_type": "slide"
    }
   },
   "outputs": [],
   "source": [
    "sns.heatmap(df.corr(), annot=True, fmt='0.2f', cmap='Purples');"
   ]
  },
  {
   "cell_type": "markdown",
   "metadata": {
    "slideshow": {
     "slide_type": "slide"
    }
   },
   "source": [
    "Remember that our target (y) is miles per gallon. Let's separate out this from our features (X)..."
   ]
  },
  {
   "cell_type": "code",
   "execution_count": null,
   "metadata": {
    "slideshow": {
     "slide_type": "slide"
    }
   },
   "outputs": [],
   "source": [
    "y = df.mpg\n",
    "X = df[['cylinders', 'displacement', 'weight']]"
   ]
  },
  {
   "cell_type": "markdown",
   "metadata": {
    "slideshow": {
     "slide_type": "slide"
    }
   },
   "source": [
    "Time to train our model!"
   ]
  },
  {
   "cell_type": "code",
   "execution_count": null,
   "metadata": {
    "slideshow": {
     "slide_type": "slide"
    }
   },
   "outputs": [],
   "source": [
    "# training\n",
    "model = LinearRegression().fit(X, y)"
   ]
  },
  {
   "cell_type": "markdown",
   "metadata": {
    "slideshow": {
     "slide_type": "slide"
    }
   },
   "source": [
    "After training, we can ask the model for its parameters (beta coefficients)..."
   ]
  },
  {
   "cell_type": "code",
   "execution_count": null,
   "metadata": {
    "slideshow": {
     "slide_type": "slide"
    }
   },
   "outputs": [],
   "source": [
    "# model parameters\n",
    "model.intercept_, model.coef_"
   ]
  },
  {
   "cell_type": "markdown",
   "metadata": {
    "slideshow": {
     "slide_type": "slide"
    }
   },
   "source": [
    "Since we have the actual target values (y), we can compare them to the model's predictions (y_hat), which enables us to see how good the model is. First, get the predictions and visually compare them to the actuals..."
   ]
  },
  {
   "cell_type": "code",
   "execution_count": null,
   "metadata": {
    "slideshow": {
     "slide_type": "slide"
    }
   },
   "outputs": [],
   "source": [
    "# comparing y to y_hat\n",
    "y_hat = model.predict(X)\n",
    "list(zip(y, y_hat))[:5]"
   ]
  },
  {
   "cell_type": "markdown",
   "metadata": {
    "slideshow": {
     "slide_type": "slide"
    }
   },
   "source": [
    "One way to calculate how well the model predicts is to calcuate the \"r squared\" score. A function is available to calculate this metric for you. 1.0 is the best score possible..."
   ]
  },
  {
   "cell_type": "code",
   "execution_count": null,
   "metadata": {
    "slideshow": {
     "slide_type": "slide"
    }
   },
   "outputs": [],
   "source": [
    "# R-squared\n",
    "r2_score(y, y_hat)"
   ]
  },
  {
   "cell_type": "markdown",
   "metadata": {
    "slideshow": {
     "slide_type": "slide"
    }
   },
   "source": [
    "If you want a metric that is in the same units as the predictions (and is more easily interpretable as a goodness-of-fit measure), try the RMSE..."
   ]
  },
  {
   "cell_type": "code",
   "execution_count": null,
   "metadata": {
    "slideshow": {
     "slide_type": "slide"
    }
   },
   "outputs": [],
   "source": [
    "# mean squared error\n",
    "mean_squared_error(y, y_hat)"
   ]
  },
  {
   "cell_type": "code",
   "execution_count": null,
   "metadata": {
    "slideshow": {
     "slide_type": "slide"
    }
   },
   "outputs": [],
   "source": [
    "# root mean squared error\n",
    "mean_squared_error(y, y_hat) ** 0.5"
   ]
  },
  {
   "cell_type": "markdown",
   "metadata": {
    "slideshow": {
     "slide_type": "slide"
    }
   },
   "source": [
    "You can also look at the residuals directly by subtracing the predictions from the actual values..."
   ]
  },
  {
   "cell_type": "code",
   "execution_count": null,
   "metadata": {
    "slideshow": {
     "slide_type": "slide"
    }
   },
   "outputs": [],
   "source": [
    "residuals = (y - y_hat).values[:20]\n",
    "residuals"
   ]
  },
  {
   "cell_type": "markdown",
   "metadata": {
    "slideshow": {
     "slide_type": "slide"
    }
   },
   "source": [
    "Let's visualize this better by making a cool plot based on the targets and one of the features..."
   ]
  },
  {
   "cell_type": "code",
   "execution_count": null,
   "metadata": {
    "slideshow": {
     "slide_type": "slide"
    }
   },
   "outputs": [],
   "source": [
    "# visualize mpg vs weight, fitted line, and residuals\n",
    "xs = np.linspace(1500, 5200)\n",
    "b0 = model.intercept_\n",
    "b1 = model.coef_[-1]\n",
    "ys = b0 + (b1 * xs)\n",
    "\n",
    "plt.figure(figsize=(12, 5))\n",
    "plt.scatter(X.weight, y, c='#ff33cc', alpha=0.7)\n",
    "plt.plot(xs, ys, label='y=mx+b')\n",
    "for x_i, y_i in zip(X.weight, y):\n",
    "    plt.plot([x_i, x_i], [y_i, b1*x_i+b0], color='gray', linestyle='dashed', alpha=0.3)\n",
    "plt.xlabel('weight')\n",
    "plt.ylabel('mpg')\n",
    "plt.legend();"
   ]
  },
  {
   "cell_type": "markdown",
   "metadata": {
    "slideshow": {
     "slide_type": "slide"
    }
   },
   "source": [
    "### Checks for Understanding\n",
    "\n",
    "1. What are the main two parameters of the `fit` method on a `LinearRegression`?\n",
    "\n",
    "\n",
    "2. What are some of the ways we can evaluate our model's ability to predict well?\n",
    "\n",
    "\n",
    "3. What is the purpose of the \"heatmap\" plot?"
   ]
  },
  {
   "cell_type": "markdown",
   "metadata": {
    "slideshow": {
     "slide_type": "slide"
    }
   },
   "source": [
    "### Break-out Exercise\n",
    "\n",
    "Create your own data to be used in a simple Linear Regression model. Since it is \"simple\", you will have a single list of feature values and a single list of targets.\n",
    "\n",
    "Instantiate a `LinearRegression` object and call its `fit` method. Then generate predictions using its `predict` method. Are the predictions what you expect?"
   ]
  },
  {
   "cell_type": "code",
   "execution_count": null,
   "metadata": {},
   "outputs": [],
   "source": []
  }
 ],
 "metadata": {
  "celltoolbar": "Slideshow",
  "kernelspec": {
   "display_name": "Python 3",
   "language": "python",
   "name": "python3"
  },
  "language_info": {
   "codemirror_mode": {
    "name": "ipython",
    "version": 3
   },
   "file_extension": ".py",
   "mimetype": "text/x-python",
   "name": "python",
   "nbconvert_exporter": "python",
   "pygments_lexer": "ipython3",
   "version": "3.9.2"
  },
  "rise": {
   "autolaunch": true,
   "enable_chalkboard": true,
   "footer": "<h3>Galvanize, Inc</h3>",
   "start_slideshow_at": "beginning",
   "theme": "sky",
   "transition": "slide"
  }
 },
 "nbformat": 4,
 "nbformat_minor": 4
}
