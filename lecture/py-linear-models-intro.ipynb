{
 "cells": [
  {
   "cell_type": "code",
   "execution_count": 1,
   "metadata": {
    "slideshow": {
     "slide_type": "skip"
    }
   },
   "outputs": [],
   "source": [
    "from IPython.display import HTML, display, Image\n",
    "import numpy as np\n",
    "import seaborn as sns\n",
    "import pandas as pd\n",
    "import matplotlib.pyplot as plt\n",
    "%matplotlib inline\n",
    "\n",
    "SMALL_SIZE = 15\n",
    "MEDIUM_SIZE = 16\n",
    "LARGE_SIZE = 18\n",
    "\n",
    "plt.rc('font', size=SMALL_SIZE)          # controls default text sizes\n",
    "plt.rc('axes', titlesize=SMALL_SIZE)     # fontsize of the axes title\n",
    "plt.rc('axes', labelsize=MEDIUM_SIZE)    # fontsize of the x and y labels\n",
    "plt.rc('xtick', labelsize=SMALL_SIZE)    # fontsize of the tick labels\n",
    "plt.rc('ytick', labelsize=SMALL_SIZE)    # fontsize of the tick labels\n",
    "plt.rc('legend', fontsize=SMALL_SIZE)    # legend fontsize\n",
    "plt.rc('figure', titlesize=LARGE_SIZE)   # fontsize of the figure title"
   ]
  },
  {
   "cell_type": "markdown",
   "metadata": {
    "slideshow": {
     "slide_type": "slide"
    }
   },
   "source": [
    "<center>\n",
    "<img src=\"../images/galvanize-logo.png\" alt=\"galvanize-logo\" align=\"center\" style=\"width: 256px;\"/>\n",
    "</center>\n",
    "\n",
    "<hr />\n",
    "\n",
    "\n",
    "## Python Linear Models Intro\n",
    "\n",
    "An introduction to using linear machine learning models in Python to make predictions"
   ]
  },
  {
   "cell_type": "markdown",
   "metadata": {
    "slideshow": {
     "slide_type": "slide"
    }
   },
   "source": [
    "<center>\n",
    "<img src=\"../images/python-logo.png\" alt=\"python-logo\" align=\"center\" style=\"width: 256px;\"/>\n",
    "</center>\n",
    "\n",
    "<hr />\n",
    "\n",
    "### Learning Objectives"
   ]
  },
  {
   "cell_type": "markdown",
   "metadata": {
    "slideshow": {
     "slide_type": "fragment"
    }
   },
   "source": [
    "1. **Create a Model** - Use sklearn's implementation to create and train a simple linear regression model"
   ]
  },
  {
   "cell_type": "markdown",
   "metadata": {
    "slideshow": {
     "slide_type": "fragment"
    }
   },
   "source": [
    "2. **Coefficients** - Interpret coefficients of Linear Regression"
   ]
  },
  {
   "cell_type": "markdown",
   "metadata": {
    "slideshow": {
     "slide_type": "fragment"
    }
   },
   "source": [
    "3. **Model Validation** - Validate Linear Regression Predictions"
   ]
  },
  {
   "cell_type": "markdown",
   "metadata": {
    "slideshow": {
     "slide_type": "notes"
    }
   },
   "source": [
    "Read the objectives"
   ]
  },
  {
   "cell_type": "markdown",
   "metadata": {
    "slideshow": {
     "slide_type": "slide"
    }
   },
   "source": [
    "### Introduction\n",
    "\n",
    "In this lesson, we will explore the use of machine learning models to predict a \"target\" (also called a dependent variable or a response variable) from one or more data \"features\" (also called independent variables or predictor variables)."
   ]
  },
  {
   "cell_type": "markdown",
   "metadata": {
    "slideshow": {
     "slide_type": "slide"
    }
   },
   "source": [
    "### Introducing \"Linear Regression\"\n",
    "\n",
    "Here we will focus on a model called \"Linear Regression\".\n",
    "\n",
    "The name is descriptive, in that to use it we need to assume that the relationship of the target to the features is linear. And \"regression\" means the target is a numeric value.\n",
    "\n",
    "Linear Regression is an example of supervised learning, since we can train the model with data in which the targets (also called \"labels\") are known."
   ]
  },
  {
   "cell_type": "markdown",
   "metadata": {
    "slideshow": {
     "slide_type": "slide"
    }
   },
   "source": [
    "### Models\n",
    "\n",
    "* A machine learning model can predict as-yet unknown information\n",
    "* A supervised learning model uses known information to \"learn\" how to predict\n",
    "* This is powerful, as we can \"see into the future\"\n",
    "* A business may save a lot of money if it can predict in this way"
   ]
  },
  {
   "cell_type": "markdown",
   "metadata": {
    "slideshow": {
     "slide_type": "slide"
    }
   },
   "source": [
    "### How do models work?\n",
    "\n",
    "* Models use algorithms to process data\n",
    "* When a model is given known data, it adjusts its internal settings\n",
    "* These are known as \"parameters\"\n",
    "* Later, that model can make predictions about new, unseen data"
   ]
  },
  {
   "cell_type": "markdown",
   "metadata": {
    "slideshow": {
     "slide_type": "slide"
    }
   },
   "source": [
    "### Dependent and independent variables\n",
    "\n",
    "* The information we want to predict is called the \"target\"\n",
    "* The target depends on independent variables called \"features\"\n",
    "\n",
    "Note that there can be many features that contribute to predicting a target.\n",
    "\n",
    "We depend on there being a \"relationship\" between the features and the target."
   ]
  },
  {
   "cell_type": "markdown",
   "metadata": {
    "slideshow": {
     "slide_type": "slide"
    }
   },
   "source": [
    "### What is a linear relationship?\n",
    "\n",
    "In this lesson, we are looking at special relationships between features and a target.\n",
    "\n",
    "These relationships are assumed to be \"linear\" - what does this mean?"
   ]
  },
  {
   "cell_type": "markdown",
   "metadata": {
    "slideshow": {
     "slide_type": "slide"
    }
   },
   "source": [
    "### Graphing a linear relationship\n",
    "\n",
    "Perhaps the simplest way to understand a linear relationship is to use a graph:\n",
    "\n",
    "<center>\n",
    "<img src=\"../images/simple_lr_graph_perfect.png\" alt=\"simple scatter graph where points line up perfectly\" align=\"center\" style=\"width: 256px;\"/>\n",
    "</center>\n",
    "\n",
    "Let's call the X axis a feature and the Y axis the target. In a perfect linear relationship, all data points lie exactly on a straight line."
   ]
  },
  {
   "cell_type": "markdown",
   "metadata": {
    "slideshow": {
     "slide_type": "slide"
    }
   },
   "source": [
    "### Real-world linear relationships\n",
    "\n",
    "But real-world data is not perfect. Here is what real data might look like\n",
    "\n",
    "<center>\n",
    "<img src=\"../images/simple_lr_graph.png\" alt=\"simple scatter graph where points do not line up perfectly\" align=\"center\" style=\"width: 256px;\"/>\n",
    "</center>\n",
    "\n",
    "Is this still linear?"
   ]
  },
  {
   "cell_type": "markdown",
   "metadata": {
    "slideshow": {
     "slide_type": "slide"
    }
   },
   "source": [
    "Yes! We can still treat this data as linear.\n",
    "\n",
    "There is clearly a linear trend there, even if not perfect."
   ]
  },
  {
   "cell_type": "markdown",
   "metadata": {
    "slideshow": {
     "slide_type": "slide"
    }
   },
   "source": [
    "### Linear Regression in action\n",
    "\n",
    "Since real-world data does not supply perfect linear relationships, the job of the model is to find a line that is the \"best fit\".\n",
    "\n",
    "<center>\n",
    "<img src=\"../images/simple_lr_graph_fit.png\" alt=\"simple_lr_graph_fit\" align=\"center\" style=\"width: 256px;\"/>\n",
    "</center>\n",
    " \n",
    "Note that the distance from each point to the line is indicated by the small vertical lines. These show how the real data differs from its linear model. These differences are called \"residuals\"."
   ]
  },
  {
   "cell_type": "markdown",
   "metadata": {
    "slideshow": {
     "slide_type": "notes"
    }
   },
   "source": [
    "Consider asking the class, \"Do predictions always lie on this line?\""
   ]
  },
  {
   "cell_type": "markdown",
   "metadata": {
    "slideshow": {
     "slide_type": "slide"
    }
   },
   "source": [
    "### A concrete example\n",
    "\n",
    "Let's look at a simple example - height vs. shoe size:\n",
    "\n",
    "<center>\n",
    "<img src=\"../images/simple_lr_graph_shoe_size.png\" alt=\"simple_lr_graph_shoe_size\" align=\"center\" style=\"width: 256px;\"/>\n",
    "</center>\n",
    "\n",
    "This is \"linear enough\" to be valuable and will produce pretty good predictions."
   ]
  },
  {
   "cell_type": "code",
   "execution_count": 2,
   "metadata": {},
   "outputs": [
    {
     "data": {
      "text/plain": [
       "(0.0, 11.0)"
      ]
     },
     "execution_count": 2,
     "metadata": {},
     "output_type": "execute_result"
    },
    {
     "data": {
      "image/png": "[encoded data removed]",
      "text/plain": [
       "<Figure size 432x288 with 1 Axes>"
      ]
     },
     "metadata": {
      "needs_background": "light"
     },
     "output_type": "display_data"
    }
   ],
   "source": [
    "# This is \"linear enough\" to be valuable and will produce pretty good predictions.\n",
    "# Note: sns.regplot() will automatically draw a straight line of 'best fit' on top of our datapoint. \n",
    "# We will learn how to compute the equation of this line a bit later.\n",
    "\n",
    "x,y = np.array([2,4,6,8,10]), np.array([3.4,6,9,19,24])\n",
    "\n",
    "\n",
    "ax = sns.regplot(x=x, y=y, ci=None, marker='D')\n",
    "ax.set_xlim(0,11)"
   ]
  },
  {
   "cell_type": "code",
   "execution_count": null,
   "metadata": {},
   "outputs": [],
   "source": []
  },
  {
   "cell_type": "code",
   "execution_count": 3,
   "metadata": {},
   "outputs": [
    {
     "data": {
      "image/png": "[encoded data removed]",
      "text/plain": [
       "<Figure size 432x288 with 1 Axes>"
      ]
     },
     "metadata": {
      "needs_background": "light"
     },
     "output_type": "display_data"
    }
   ],
   "source": [
    "# Now let's look an an example that is definitely NOT linear.\n",
    "x = np.linspace(-10,10,20)\n",
    "y = 4- 5*x - x**2 #parabola \n",
    "ax = sns.regplot(x=x, y=y, ci=None, marker='D')"
   ]
  },
  {
   "cell_type": "markdown",
   "metadata": {},
   "source": [
    "# Without doing more preprocessing on your data, this example would produce poor results in a linear model."
   ]
  },
  {
   "cell_type": "code",
   "execution_count": null,
   "metadata": {},
   "outputs": [],
   "source": []
  },
  {
   "cell_type": "markdown",
   "metadata": {
    "slideshow": {
     "slide_type": "slide"
    }
   },
   "source": [
    "### Checks for Understanding\n",
    "\n",
    "1. How does a simple Linear Regression model learn from training data?\n",
    "\n",
    "\n",
    "2. What is the difference between a target and a feature?\n",
    "\n",
    "\n",
    "3. What constitutes a \"linear relationship\"?"
   ]
  },
  {
   "cell_type": "code",
   "execution_count": null,
   "metadata": {},
   "outputs": [],
   "source": []
  },
  {
   "cell_type": "markdown",
   "metadata": {
    "slideshow": {
     "slide_type": "slide"
    }
   },
   "source": [
    "### Using the equation of a line for prediction\n",
    "\n",
    "The equation of a line, which is enough for simple Linear Regression, is $y = mx + b$. There are two coefficients, $m$ and $b$.\n",
    "\n",
    "This can be written with two new coefficients $\\beta_0$ and $\\beta_1$\n",
    "\n",
    "$\\hat{y}_i = \\beta_0 + \\beta_1 x_i$ \n",
    "\n",
    "Now $\\beta_0$ is the y-intercept and $\\beta_1$ is the slope. \n",
    "\n",
    "Here, $\\hat{y}_i$ is the predicted output of the model for each sample, $x_i$. The betas are the coefficients of the model. "
   ]
  },
  {
   "cell_type": "markdown",
   "metadata": {},
   "source": [
    "### Once you have estimated the betas you then can use them to make predictions of your target y for values of x is that are not a part of your dataset"
   ]
  },
  {
   "cell_type": "code",
   "execution_count": null,
   "metadata": {},
   "outputs": [],
   "source": []
  },
  {
   "cell_type": "markdown",
   "metadata": {},
   "source": [
    "## Check for Understanding"
   ]
  },
  {
   "cell_type": "markdown",
   "metadata": {},
   "source": [
    "Suppose, for a sample dataset, our best fit line gives estimates of $\\beta_0$ = 2 and $\\beta_1$ = 5\n",
    "\n",
    "Predict $\\hat{y}_i$ for $x_i$ = 4."
   ]
  },
  {
   "cell_type": "code",
   "execution_count": null,
   "metadata": {},
   "outputs": [],
   "source": []
  },
  {
   "cell_type": "markdown",
   "metadata": {
    "slideshow": {
     "slide_type": "slide"
    }
   },
   "source": [
    "### Multiple Linear Regression\n",
    "\n",
    "So far, we have been working with just one feature. But Linear Regression can deal with any number of features!\n",
    "\n",
    "With each additional feature, we add a new dimension to the graph, so things quickly become hard to visualize...\n",
    "\n",
    "For example, with one feature, we can show the results on a two dimensional graph, like above.\n",
    "\n",
    "With two features, the line becomes a plane in 3D space.\n",
    "\n",
    "Beyond that, the math still works, but there are too many dimensions to imagine easily."
   ]
  },
  {
   "cell_type": "code",
   "execution_count": null,
   "metadata": {
    "slideshow": {
     "slide_type": "slide"
    }
   },
   "outputs": [],
   "source": [
    "\n"
   ]
  },
  {
   "cell_type": "markdown",
   "metadata": {
    "slideshow": {
     "slide_type": "slide"
    }
   },
   "source": [
    "### An actual example\n",
    "\n",
    "Let's take a look at doing a real Linear Regression. Let's we read the data and take a look at a bit of it..."
   ]
  },
  {
   "cell_type": "code",
   "execution_count": 4,
   "metadata": {
    "slideshow": {
     "slide_type": "slide"
    }
   },
   "outputs": [
    {
     "name": "stdout",
     "output_type": "stream",
     "text": [
      "<class 'pandas.core.frame.DataFrame'>\n",
      "RangeIndex: 398 entries, 0 to 397\n",
      "Data columns (total 9 columns):\n",
      " #   Column        Non-Null Count  Dtype  \n",
      "---  ------        --------------  -----  \n",
      " 0   mpg           398 non-null    float64\n",
      " 1   cylinders     398 non-null    int64  \n",
      " 2   displacement  398 non-null    float64\n",
      " 3   horsepower    398 non-null    object \n",
      " 4   weight        398 non-null    float64\n",
      " 5   acceleration  398 non-null    float64\n",
      " 6   model         398 non-null    int64  \n",
      " 7   origin        398 non-null    int64  \n",
      " 8   car_name      398 non-null    object \n",
      "dtypes: float64(4), int64(3), object(2)\n",
      "memory usage: 28.1+ KB\n"
     ]
    }
   ],
   "source": [
    "df_full = pd.read_csv('data/cars_multivariate.csv')\n",
    "df_full.info()"
   ]
  },
  {
   "cell_type": "code",
   "execution_count": 5,
   "metadata": {},
   "outputs": [
    {
     "data": {
      "text/html": [
       "<div>\n",
       "<style scoped>\n",
       "    .dataframe tbody tr th:only-of-type {\n",
       "        vertical-align: middle;\n",
       "    }\n",
       "\n",
       "    .dataframe tbody tr th {\n",
       "        vertical-align: top;\n",
       "    }\n",
       "\n",
       "    .dataframe thead th {\n",
       "        text-align: right;\n",
       "    }\n",
       "</style>\n",
       "<table border=\"1\" class=\"dataframe\">\n",
       "  <thead>\n",
       "    <tr style=\"text-align: right;\">\n",
       "      <th></th>\n",
       "      <th>mpg</th>\n",
       "      <th>cylinders</th>\n",
       "      <th>displacement</th>\n",
       "      <th>horsepower</th>\n",
       "      <th>weight</th>\n",
       "      <th>acceleration</th>\n",
       "      <th>model</th>\n",
       "      <th>origin</th>\n",
       "      <th>car_name</th>\n",
       "    </tr>\n",
       "  </thead>\n",
       "  <tbody>\n",
       "    <tr>\n",
       "      <th>0</th>\n",
       "      <td>18.0</td>\n",
       "      <td>8</td>\n",
       "      <td>307.0</td>\n",
       "      <td>130.0</td>\n",
       "      <td>3504.0</td>\n",
       "      <td>12.0</td>\n",
       "      <td>70</td>\n",
       "      <td>1</td>\n",
       "      <td>chevrolet chevelle malibu</td>\n",
       "    </tr>\n",
       "    <tr>\n",
       "      <th>1</th>\n",
       "      <td>15.0</td>\n",
       "      <td>8</td>\n",
       "      <td>350.0</td>\n",
       "      <td>165.0</td>\n",
       "      <td>3693.0</td>\n",
       "      <td>11.5</td>\n",
       "      <td>70</td>\n",
       "      <td>1</td>\n",
       "      <td>buick skylark 320</td>\n",
       "    </tr>\n",
       "    <tr>\n",
       "      <th>2</th>\n",
       "      <td>18.0</td>\n",
       "      <td>8</td>\n",
       "      <td>318.0</td>\n",
       "      <td>150.0</td>\n",
       "      <td>3436.0</td>\n",
       "      <td>11.0</td>\n",
       "      <td>70</td>\n",
       "      <td>1</td>\n",
       "      <td>plymouth satellite</td>\n",
       "    </tr>\n",
       "  </tbody>\n",
       "</table>\n",
       "</div>"
      ],
      "text/plain": [
       "    mpg  cylinders  displacement horsepower  weight  acceleration  model  \\\n",
       "0  18.0          8         307.0      130.0  3504.0          12.0     70   \n",
       "1  15.0          8         350.0      165.0  3693.0          11.5     70   \n",
       "2  18.0          8         318.0      150.0  3436.0          11.0     70   \n",
       "\n",
       "   origin                   car_name  \n",
       "0       1  chevrolet chevelle malibu  \n",
       "1       1          buick skylark 320  \n",
       "2       1         plymouth satellite  "
      ]
     },
     "execution_count": 5,
     "metadata": {},
     "output_type": "execute_result"
    }
   ],
   "source": [
    "df_full.head(3)"
   ]
  },
  {
   "cell_type": "markdown",
   "metadata": {},
   "source": [
    "### This dataset is obviously about cars. But what should we do with it? \n",
    "\n",
    "### What might we want to predict?"
   ]
  },
  {
   "cell_type": "markdown",
   "metadata": {
    "slideshow": {
     "slide_type": "slide"
    }
   },
   "source": [
    "### Let's make a linear model to try to predict mpg using the weight of the car.\n",
    "Our data consists of $i$ = 398 different cars, one per row. \n",
    "\n",
    "Let's do a simple linear regression to predict mpg, using one feature at first. \n",
    "\n",
    "So we'll take $x_i$ = weight and $y_i$ = mpg"
   ]
  },
  {
   "cell_type": "code",
   "execution_count": 6,
   "metadata": {
    "slideshow": {
     "slide_type": "slide"
    }
   },
   "outputs": [
    {
     "name": "stdout",
     "output_type": "stream",
     "text": [
      "<class 'pandas.core.frame.DataFrame'>\n",
      "RangeIndex: 398 entries, 0 to 397\n",
      "Data columns (total 2 columns):\n",
      " #   Column  Non-Null Count  Dtype  \n",
      "---  ------  --------------  -----  \n",
      " 0   mpg     398 non-null    float64\n",
      " 1   weight  398 non-null    float64\n",
      "dtypes: float64(2)\n",
      "memory usage: 6.3 KB\n"
     ]
    }
   ],
   "source": [
    "# Here, we make a new dataframe with only the columns we need.\n",
    "df1 = df_full[['mpg', 'weight']]\n",
    "df1.info()"
   ]
  },
  {
   "cell_type": "markdown",
   "metadata": {
    "slideshow": {
     "slide_type": "slide"
    }
   },
   "source": [
    "Let's take another look at our new dataframe..."
   ]
  },
  {
   "cell_type": "code",
   "execution_count": null,
   "metadata": {},
   "outputs": [],
   "source": []
  },
  {
   "cell_type": "markdown",
   "metadata": {
    "slideshow": {
     "slide_type": "slide"
    }
   },
   "source": [
    "Remember that Linear Regression assumes the data is linear. One way to tell is to graph the data and take a look...\n",
    "\n",
    "ALWAYS PLOT YOUR DATA (OR PORTIONS OF YOUR DATA) WHEREEVER POSSIBLY"
   ]
  },
  {
   "cell_type": "code",
   "execution_count": 7,
   "metadata": {
    "slideshow": {
     "slide_type": "slide"
    }
   },
   "outputs": [
    {
     "data": {
      "image/png": "[encoded data removed]",
      "text/plain": [
       "<Figure size 432x288 with 1 Axes>"
      ]
     },
     "metadata": {
      "needs_background": "light"
     },
     "output_type": "display_data"
    }
   ],
   "source": [
    "ax = sns.scatterplot(x='weight', y='mpg', data=df1, ci=None, marker='D')"
   ]
  },
  {
   "cell_type": "code",
   "execution_count": 8,
   "metadata": {},
   "outputs": [
    {
     "data": {
      "text/plain": [
       "<AxesSubplot:xlabel='weight', ylabel='mpg'>"
      ]
     },
     "execution_count": 8,
     "metadata": {},
     "output_type": "execute_result"
    },
    {
     "data": {
      "image/png": "[encoded data removed]",
      "text/plain": [
       "<Figure size 432x288 with 1 Axes>"
      ]
     },
     "metadata": {
      "needs_background": "light"
     },
     "output_type": "display_data"
    }
   ],
   "source": [
    "sns.regplot(x='weight', y='mpg', data=df1, ci=None, marker='+')"
   ]
  },
  {
   "cell_type": "markdown",
   "metadata": {},
   "source": [
    "### We can see that the datapoints are approximately linear in the middle, but there looks to be a little curvature in there. We'll proceed as if it looks linear for now, and worry about the curvature another time."
   ]
  },
  {
   "cell_type": "markdown",
   "metadata": {},
   "source": [
    "## We are going to do a predictive model first, using the sklearn package. \n",
    "\n",
    "Given $x$ = df1['weight'] and $y$ = df1['mpg'], the model will find the coefficients $\\beta_0$ and $\\beta_1$ that give the line of best fit for  $\\hat{y} = \\beta_0 + \\beta_1 x$ "
   ]
  },
  {
   "cell_type": "code",
   "execution_count": 9,
   "metadata": {},
   "outputs": [
    {
     "name": "stdout",
     "output_type": "stream",
     "text": [
      "46.31736442026563 [-0.00767661]\n"
     ]
    }
   ],
   "source": [
    "from sklearn.linear_model import LinearRegression\n",
    "X = df1[['weight']] #the features must be fed in as a dataframe (or 2D numpy array) \n",
    "y = df1['mpg']     #the target must be fed in as a series (or 1D numpy array)\n",
    "\n",
    "model = LinearRegression().fit(X, y)\n",
    "# model parameters\n",
    "print(model.intercept_, model.coef_)\n"
   ]
  },
  {
   "cell_type": "markdown",
   "metadata": {},
   "source": [
    "\n",
    "So $\\beta_0$ = 46.32 , $\\beta_1$ = -0.0077, and \n",
    "\n",
    "$\\hat{y} = 46.32 - 0.0077 x$ "
   ]
  },
  {
   "cell_type": "markdown",
   "metadata": {},
   "source": [
    "#### So for a weight of 3,000, our prediction for mpg would be:\n",
    "\n",
    "$\\hat{y} = 46.32 - 0.0077 * 3000  = 23.2$"
   ]
  },
  {
   "cell_type": "code",
   "execution_count": 10,
   "metadata": {},
   "outputs": [],
   "source": [
    "# let's define a function to graph our line using the model's predict() function\n",
    "def draw_prediction_line(X,y, model, ax=None):\n",
    "    import numpy as np\n",
    "    if ax is None:\n",
    "        _,ax = plt.subplots()\n",
    "    \n",
    "    x_vals = np.linspace(X.min(), X.max(), 100)\n",
    "    y_vals = model.predict(x_vals)\n",
    "    \n",
    "    sns.scatterplot(x=X.values.flatten(), y=y, marker='d', ax=ax)\n",
    "    return sns.lineplot(x=x_vals.flatten(), y=y_vals, ax=ax, color='red') #draw regression line on same ax and return the ax\n",
    "    \n",
    "    "
   ]
  },
  {
   "cell_type": "code",
   "execution_count": 11,
   "metadata": {},
   "outputs": [
    {
     "data": {
      "text/plain": [
       "<AxesSubplot:ylabel='mpg'>"
      ]
     },
     "execution_count": 11,
     "metadata": {},
     "output_type": "execute_result"
    },
    {
     "data": {
      "image/png": "[encoded data removed]",
      "text/plain": [
       "<Figure size 432x288 with 1 Axes>"
      ]
     },
     "metadata": {
      "needs_background": "light"
     },
     "output_type": "display_data"
    }
   ],
   "source": [
    "draw_prediction_line(X,y,model) #should look similar to sns.regplot()"
   ]
  },
  {
   "cell_type": "code",
   "execution_count": null,
   "metadata": {},
   "outputs": [],
   "source": []
  },
  {
   "cell_type": "code",
   "execution_count": null,
   "metadata": {},
   "outputs": [],
   "source": []
  },
  {
   "cell_type": "markdown",
   "metadata": {},
   "source": [
    "# Prediction Using More than One Feature"
   ]
  },
  {
   "cell_type": "code",
   "execution_count": 13,
   "metadata": {},
   "outputs": [
    {
     "data": {
      "text/plain": [
       "Index(['mpg', 'cylinders', 'displacement', 'horsepower', 'weight',\n",
       "       'acceleration', 'model', 'origin', 'car_name'],\n",
       "      dtype='object')"
      ]
     },
     "execution_count": 13,
     "metadata": {},
     "output_type": "execute_result"
    }
   ],
   "source": [
    "df_full.columns"
   ]
  },
  {
   "cell_type": "markdown",
   "metadata": {},
   "source": [
    "## Use sns.pairplot() to graph your data features pairwise to see if there is a relationship\n",
    "## We will look at the columns ['mpg','displacement', 'horsepower', 'weight','acceleration']"
   ]
  },
  {
   "cell_type": "code",
   "execution_count": 14,
   "metadata": {},
   "outputs": [],
   "source": [
    "# sns.pairplot(df_full[['mpg','displacement', 'horsepower', 'weight','acceleration']], \n",
    "#              palette='husl', corner=True, diag_kind='kde', kind='reg', markers='+', \n",
    "#                  plot_kws={'line_kws':{'color':'red', 'alpha':0.5}}, height=3);"
   ]
  },
  {
   "cell_type": "code",
   "execution_count": 15,
   "metadata": {},
   "outputs": [
    {
     "data": {
      "text/plain": [
       "<seaborn.axisgrid.PairGrid at 0x138e0e7f0>"
      ]
     },
     "execution_count": 15,
     "metadata": {},
     "output_type": "execute_result"
    },
    {
     "data": {
      "image/png": "[encoded data removed]",
      "text/plain": [
       "<Figure size 720x720 with 14 Axes>"
      ]
     },
     "metadata": {
      "needs_background": "light"
     },
     "output_type": "display_data"
    }
   ],
   "source": [
    "sns.pairplot(df_full[['mpg','displacement', 'horsepower', 'weight','acceleration']], \n",
    "             corner=True, kind='reg', markers='+') #kind='reg' means to draw regression plots"
   ]
  },
  {
   "cell_type": "markdown",
   "metadata": {},
   "source": [
    "## The heatmap confirms that the variables 'displacement' and 'weight' are negatively correlated with mpg, i.e. as displacement goes up, mpg goes down. "
   ]
  },
  {
   "cell_type": "code",
   "execution_count": 16,
   "metadata": {
    "slideshow": {
     "slide_type": "slide"
    }
   },
   "outputs": [
    {
     "data": {
      "text/plain": [
       "<AxesSubplot:>"
      ]
     },
     "execution_count": 16,
     "metadata": {},
     "output_type": "execute_result"
    },
    {
     "data": {
      "image/png": "[encoded data removed]",
      "text/plain": [
       "<Figure size 432x288 with 2 Axes>"
      ]
     },
     "metadata": {
      "needs_background": "light"
     },
     "output_type": "display_data"
    }
   ],
   "source": [
    "sns.heatmap(df_full[['mpg','displacement', 'horsepower', 'weight','acceleration']].corr(), \n",
    "            annot=True, \n",
    "            fmt='0.2f')"
   ]
  },
  {
   "cell_type": "markdown",
   "metadata": {
    "slideshow": {
     "slide_type": "slide"
    }
   },
   "source": [
    "Since displacement and weight are both highly correlated to our target mpg, let's do linear regression using both of these features. \n",
    "\n",
    "When you use two or more features to predict a target, it is called **multiple linear regression**."
   ]
  },
  {
   "cell_type": "code",
   "execution_count": null,
   "metadata": {},
   "outputs": [],
   "source": []
  },
  {
   "cell_type": "code",
   "execution_count": 17,
   "metadata": {
    "slideshow": {
     "slide_type": "slide"
    }
   },
   "outputs": [],
   "source": [
    "y2 = df_full['mpg']\n",
    "X2 = df_full[['displacement', 'weight']]"
   ]
  },
  {
   "cell_type": "markdown",
   "metadata": {
    "slideshow": {
     "slide_type": "slide"
    }
   },
   "source": [
    "Time to train our model. It is actually done the exact same way as before!"
   ]
  },
  {
   "cell_type": "code",
   "execution_count": 18,
   "metadata": {
    "slideshow": {
     "slide_type": "slide"
    }
   },
   "outputs": [],
   "source": [
    "# training\n",
    "model2 = LinearRegression().fit(X2, y2)"
   ]
  },
  {
   "cell_type": "markdown",
   "metadata": {
    "slideshow": {
     "slide_type": "slide"
    }
   },
   "source": [
    "After training, we can ask the model for its parameters (beta coefficients)..."
   ]
  },
  {
   "cell_type": "code",
   "execution_count": 19,
   "metadata": {
    "slideshow": {
     "slide_type": "slide"
    }
   },
   "outputs": [
    {
     "data": {
      "text/plain": [
       "(43.900463757873474, array([-0.01635835, -0.00579774]))"
      ]
     },
     "execution_count": 19,
     "metadata": {},
     "output_type": "execute_result"
    }
   ],
   "source": [
    "# model parameters. Notice that we now have one extra coefficient!\n",
    "model2.intercept_, model2.coef_"
   ]
  },
  {
   "cell_type": "markdown",
   "metadata": {},
   "source": [
    "Given $x_1 = displacement$,  $x_2 = weight$,  and $y = mpg$, model2 found the coefficients $\\beta_0$,  $\\beta_1$ and $\\beta_2$ that gave the line of best fit for model2: \n",
    "\n",
    "$\\hat{y} = 43.9 - 0.0164 x_1 - 0.0058 x_2$\n",
    "\n",
    "The coefficients for model2 are generally NOT related to the coefficients of our first model, and they should not be directly compared."
   ]
  },
  {
   "cell_type": "code",
   "execution_count": null,
   "metadata": {},
   "outputs": [],
   "source": []
  },
  {
   "cell_type": "markdown",
   "metadata": {},
   "source": [
    "Now, for an important question: Which model is 'better'?\n",
    "Answer: It depends! What does 'better' mean? The idea of 'better' will actually be different for different problems, so it is important that you actually spend some time defining what 'better' means BEFORE you do any modeling or analysis."
   ]
  },
  {
   "cell_type": "markdown",
   "metadata": {},
   "source": [
    "### A simplistic meaning of 'better' is a measurement called R-squared. \n",
    "\n",
    "In this simplistic framework, a model with an R-squared closer to one (1) is considered better than models with R-squared further away from one. "
   ]
  },
  {
   "cell_type": "code",
   "execution_count": 20,
   "metadata": {},
   "outputs": [],
   "source": [
    "from sklearn.metrics import r2_score"
   ]
  },
  {
   "cell_type": "markdown",
   "metadata": {
    "slideshow": {
     "slide_type": "slide"
    }
   },
   "source": [
    "R-squared takes the actual (y) values and compares them to the model's computed predictions ($\\hat{y}$) to see how good the model really is. First, get the predictions and visually compare them to the actuals..."
   ]
  },
  {
   "cell_type": "markdown",
   "metadata": {},
   "source": [
    "Our first model was $\\hat{y} = 46.32 - 0.0077 x$"
   ]
  },
  {
   "cell_type": "code",
   "execution_count": 21,
   "metadata": {},
   "outputs": [
    {
     "data": {
      "text/plain": [
       "0.6917929800341573"
      ]
     },
     "execution_count": 21,
     "metadata": {},
     "output_type": "execute_result"
    }
   ],
   "source": [
    "y_hat_1 = model.predict(X)\n",
    "r2_score(y, y_hat_1)"
   ]
  },
  {
   "cell_type": "markdown",
   "metadata": {},
   "source": [
    "Our second model was $\\hat{y} = 43.9 - 0.0164 x_1 - 0.0058 x_2$"
   ]
  },
  {
   "cell_type": "code",
   "execution_count": 22,
   "metadata": {},
   "outputs": [
    {
     "data": {
      "text/plain": [
       "0.6979764850769228"
      ]
     },
     "execution_count": 22,
     "metadata": {},
     "output_type": "execute_result"
    }
   ],
   "source": [
    "y_hat_2 = model2.predict(X2)\n",
    "r2_score(y, y_hat_2)"
   ]
  },
  {
   "cell_type": "markdown",
   "metadata": {},
   "source": [
    "So, according to this simplistic R-squared score comparison, *model2* is a little bit better."
   ]
  },
  {
   "cell_type": "code",
   "execution_count": null,
   "metadata": {},
   "outputs": [],
   "source": []
  },
  {
   "cell_type": "code",
   "execution_count": 23,
   "metadata": {
    "slideshow": {
     "slide_type": "slide"
    }
   },
   "outputs": [],
   "source": [
    "#An alternative metric, that is in the same units as the predictions (and is more easily interpretable as a goodness-of-fit measure), try the rootmean squared error...\n",
    "\n",
    "from sklearn.metrics import mean_squared_error\n"
   ]
  },
  {
   "cell_type": "code",
   "execution_count": 24,
   "metadata": {},
   "outputs": [
    {
     "data": {
      "text/plain": [
       "4.333698159150957"
      ]
     },
     "execution_count": 24,
     "metadata": {},
     "output_type": "execute_result"
    }
   ],
   "source": [
    "mean_squared_error(y,y_hat_1, squared=False) #the first model"
   ]
  },
  {
   "cell_type": "code",
   "execution_count": 25,
   "metadata": {},
   "outputs": [
    {
     "data": {
      "text/plain": [
       "4.290004770826327"
      ]
     },
     "execution_count": 25,
     "metadata": {},
     "output_type": "execute_result"
    }
   ],
   "source": [
    "mean_squared_error(y,y_hat_2, squared=False) # the second model"
   ]
  },
  {
   "cell_type": "markdown",
   "metadata": {},
   "source": [
    "So again, the second model has a slim edge using these simple measures of 'best fit'"
   ]
  },
  {
   "cell_type": "code",
   "execution_count": null,
   "metadata": {},
   "outputs": [],
   "source": []
  },
  {
   "cell_type": "markdown",
   "metadata": {
    "slideshow": {
     "slide_type": "slide"
    }
   },
   "source": [
    "### Checks for Understanding\n",
    "\n",
    "1. What are the main two parameters of the `fit` method on a `LinearRegression`?\n",
    "\n",
    "\n",
    "2. What are some of the ways we can evaluate our model's ability to predict well?\n",
    "\n",
    "\n",
    "3. What is the purpose of the \"heatmap\" plot?"
   ]
  },
  {
   "cell_type": "code",
   "execution_count": null,
   "metadata": {},
   "outputs": [],
   "source": []
  },
  {
   "cell_type": "code",
   "execution_count": null,
   "metadata": {},
   "outputs": [],
   "source": []
  },
  {
   "cell_type": "markdown",
   "metadata": {
    "slideshow": {
     "slide_type": "slide"
    }
   },
   "source": [
    "### Break-out Exercise\n",
    "\n",
    "Create your own data to be used in a simple Linear Regression model. Since it is \"simple\", you will have a single list of feature values and a single list of targets.\n",
    "\n",
    "Instantiate a `LinearRegression` object and call its `fit` method. Then generate predictions using its `predict` method. Are the predictions what you expect?"
   ]
  },
  {
   "cell_type": "code",
   "execution_count": null,
   "metadata": {},
   "outputs": [],
   "source": []
  }
 ],
 "metadata": {
  "celltoolbar": "Slideshow",
  "kernelspec": {
   "display_name": "Python 3",
   "language": "python",
   "name": "python3"
  },
  "language_info": {
   "codemirror_mode": {
    "name": "ipython",
    "version": 3
   },
   "file_extension": ".py",
   "mimetype": "text/x-python",
   "name": "python",
   "nbconvert_exporter": "python",
   "pygments_lexer": "ipython3",
   "version": "3.9.2"
  },
  "rise": {
   "autolaunch": true,
   "enable_chalkboard": true,
   "footer": "<h3>Galvanize, Inc</h3>",
   "start_slideshow_at": "beginning",
   "theme": "sky",
   "transition": "slide"
  }
 },
 "nbformat": 4,
 "nbformat_minor": 4
}
