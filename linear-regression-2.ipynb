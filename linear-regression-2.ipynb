{
 "cells": [
  {
   "cell_type": "markdown",
   "metadata": {
    "slideshow": {
     "slide_type": "slide"
    }
   },
   "source": [
    "# Linear Regression\n"
   ]
  },
  {
   "cell_type": "code",
   "execution_count": 1,
   "metadata": {
    "slideshow": {
     "slide_type": "slide"
    }
   },
   "outputs": [],
   "source": [
    "import numpy as np\n",
    "import pandas as pd\n",
    "import matplotlib\n",
    "import matplotlib.pyplot as plt\n",
    "%matplotlib inline\n",
    "matplotlib.rc('font', size=16)\n",
    "matplotlib.style.use('ggplot')"
   ]
  },
  {
   "cell_type": "code",
   "execution_count": 2,
   "metadata": {
    "slideshow": {
     "slide_type": "slide"
    }
   },
   "outputs": [
    {
     "name": "stdout",
     "output_type": "stream",
     "text": [
      "<class 'pandas.core.frame.DataFrame'>\n",
      "RangeIndex: 398 entries, 0 to 397\n",
      "Data columns (total 9 columns):\n",
      " #   Column        Non-Null Count  Dtype  \n",
      "---  ------        --------------  -----  \n",
      " 0   mpg           398 non-null    float64\n",
      " 1   cylinders     398 non-null    int64  \n",
      " 2   displacement  398 non-null    float64\n",
      " 3   horsepower    398 non-null    object \n",
      " 4   weight        398 non-null    float64\n",
      " 5   acceleration  398 non-null    float64\n",
      " 6   model         398 non-null    int64  \n",
      " 7   origin        398 non-null    int64  \n",
      " 8   car_name      398 non-null    object \n",
      "dtypes: float64(4), int64(3), object(2)\n",
      "memory usage: 28.1+ KB\n"
     ]
    }
   ],
   "source": [
    "# Let's look at the `cars` data set again.\n",
    "import os\n",
    "filename = 'cars_multivariate.csv'\n",
    "path = os.path.join('.','data')\n",
    "\n",
    "filepath = os.path.join(path, filename)\n",
    "cars = pd.read_csv(filepath)\n",
    "cars.info()"
   ]
  },
  {
   "cell_type": "code",
   "execution_count": 3,
   "metadata": {
    "slideshow": {
     "slide_type": "slide"
    }
   },
   "outputs": [
    {
     "data": {
      "text/html": [
       "<div>\n",
       "<style scoped>\n",
       "    .dataframe tbody tr th:only-of-type {\n",
       "        vertical-align: middle;\n",
       "    }\n",
       "\n",
       "    .dataframe tbody tr th {\n",
       "        vertical-align: top;\n",
       "    }\n",
       "\n",
       "    .dataframe thead th {\n",
       "        text-align: right;\n",
       "    }\n",
       "</style>\n",
       "<table border=\"1\" class=\"dataframe\">\n",
       "  <thead>\n",
       "    <tr style=\"text-align: right;\">\n",
       "      <th></th>\n",
       "      <th>mpg</th>\n",
       "      <th>cylinders</th>\n",
       "      <th>displacement</th>\n",
       "      <th>horsepower</th>\n",
       "      <th>weight</th>\n",
       "      <th>acceleration</th>\n",
       "      <th>model</th>\n",
       "      <th>origin</th>\n",
       "      <th>car_name</th>\n",
       "    </tr>\n",
       "  </thead>\n",
       "  <tbody>\n",
       "    <tr>\n",
       "      <th>0</th>\n",
       "      <td>18.0</td>\n",
       "      <td>8</td>\n",
       "      <td>307.0</td>\n",
       "      <td>130.0</td>\n",
       "      <td>3504.0</td>\n",
       "      <td>12.0</td>\n",
       "      <td>70</td>\n",
       "      <td>1</td>\n",
       "      <td>chevrolet chevelle malibu</td>\n",
       "    </tr>\n",
       "    <tr>\n",
       "      <th>1</th>\n",
       "      <td>15.0</td>\n",
       "      <td>8</td>\n",
       "      <td>350.0</td>\n",
       "      <td>165.0</td>\n",
       "      <td>3693.0</td>\n",
       "      <td>11.5</td>\n",
       "      <td>70</td>\n",
       "      <td>1</td>\n",
       "      <td>buick skylark 320</td>\n",
       "    </tr>\n",
       "    <tr>\n",
       "      <th>2</th>\n",
       "      <td>18.0</td>\n",
       "      <td>8</td>\n",
       "      <td>318.0</td>\n",
       "      <td>150.0</td>\n",
       "      <td>3436.0</td>\n",
       "      <td>11.0</td>\n",
       "      <td>70</td>\n",
       "      <td>1</td>\n",
       "      <td>plymouth satellite</td>\n",
       "    </tr>\n",
       "    <tr>\n",
       "      <th>3</th>\n",
       "      <td>16.0</td>\n",
       "      <td>8</td>\n",
       "      <td>304.0</td>\n",
       "      <td>150.0</td>\n",
       "      <td>3433.0</td>\n",
       "      <td>12.0</td>\n",
       "      <td>70</td>\n",
       "      <td>1</td>\n",
       "      <td>amc rebel sst</td>\n",
       "    </tr>\n",
       "    <tr>\n",
       "      <th>4</th>\n",
       "      <td>17.0</td>\n",
       "      <td>8</td>\n",
       "      <td>302.0</td>\n",
       "      <td>140.0</td>\n",
       "      <td>3449.0</td>\n",
       "      <td>10.5</td>\n",
       "      <td>70</td>\n",
       "      <td>1</td>\n",
       "      <td>ford torino</td>\n",
       "    </tr>\n",
       "  </tbody>\n",
       "</table>\n",
       "</div>"
      ],
      "text/plain": [
       "    mpg  cylinders  displacement horsepower  weight  acceleration  model  \\\n",
       "0  18.0          8         307.0      130.0  3504.0          12.0     70   \n",
       "1  15.0          8         350.0      165.0  3693.0          11.5     70   \n",
       "2  18.0          8         318.0      150.0  3436.0          11.0     70   \n",
       "3  16.0          8         304.0      150.0  3433.0          12.0     70   \n",
       "4  17.0          8         302.0      140.0  3449.0          10.5     70   \n",
       "\n",
       "   origin                   car_name  \n",
       "0       1  chevrolet chevelle malibu  \n",
       "1       1          buick skylark 320  \n",
       "2       1         plymouth satellite  \n",
       "3       1              amc rebel sst  \n",
       "4       1                ford torino  "
      ]
     },
     "execution_count": 3,
     "metadata": {},
     "output_type": "execute_result"
    }
   ],
   "source": [
    "cars.head()"
   ]
  },
  {
   "cell_type": "code",
   "execution_count": 4,
   "metadata": {
    "slideshow": {
     "slide_type": "slide"
    }
   },
   "outputs": [
    {
     "data": {
      "text/html": [
       "<div>\n",
       "<style scoped>\n",
       "    .dataframe tbody tr th:only-of-type {\n",
       "        vertical-align: middle;\n",
       "    }\n",
       "\n",
       "    .dataframe tbody tr th {\n",
       "        vertical-align: top;\n",
       "    }\n",
       "\n",
       "    .dataframe thead th {\n",
       "        text-align: right;\n",
       "    }\n",
       "</style>\n",
       "<table border=\"1\" class=\"dataframe\">\n",
       "  <thead>\n",
       "    <tr style=\"text-align: right;\">\n",
       "      <th></th>\n",
       "      <th>mpg</th>\n",
       "      <th>cylinders</th>\n",
       "      <th>displacement</th>\n",
       "      <th>weight</th>\n",
       "      <th>acceleration</th>\n",
       "      <th>model</th>\n",
       "      <th>origin</th>\n",
       "    </tr>\n",
       "  </thead>\n",
       "  <tbody>\n",
       "    <tr>\n",
       "      <th>count</th>\n",
       "      <td>398.000000</td>\n",
       "      <td>398.000000</td>\n",
       "      <td>398.000000</td>\n",
       "      <td>398.000000</td>\n",
       "      <td>398.000000</td>\n",
       "      <td>398.000000</td>\n",
       "      <td>398.000000</td>\n",
       "    </tr>\n",
       "    <tr>\n",
       "      <th>mean</th>\n",
       "      <td>23.514573</td>\n",
       "      <td>5.454774</td>\n",
       "      <td>193.425879</td>\n",
       "      <td>2970.424623</td>\n",
       "      <td>15.568090</td>\n",
       "      <td>76.010050</td>\n",
       "      <td>1.572864</td>\n",
       "    </tr>\n",
       "    <tr>\n",
       "      <th>std</th>\n",
       "      <td>7.815984</td>\n",
       "      <td>1.701004</td>\n",
       "      <td>104.269838</td>\n",
       "      <td>846.841774</td>\n",
       "      <td>2.757689</td>\n",
       "      <td>3.697627</td>\n",
       "      <td>0.802055</td>\n",
       "    </tr>\n",
       "    <tr>\n",
       "      <th>min</th>\n",
       "      <td>9.000000</td>\n",
       "      <td>3.000000</td>\n",
       "      <td>68.000000</td>\n",
       "      <td>1613.000000</td>\n",
       "      <td>8.000000</td>\n",
       "      <td>70.000000</td>\n",
       "      <td>1.000000</td>\n",
       "    </tr>\n",
       "    <tr>\n",
       "      <th>25%</th>\n",
       "      <td>17.500000</td>\n",
       "      <td>4.000000</td>\n",
       "      <td>104.250000</td>\n",
       "      <td>2223.750000</td>\n",
       "      <td>13.825000</td>\n",
       "      <td>73.000000</td>\n",
       "      <td>1.000000</td>\n",
       "    </tr>\n",
       "    <tr>\n",
       "      <th>50%</th>\n",
       "      <td>23.000000</td>\n",
       "      <td>4.000000</td>\n",
       "      <td>148.500000</td>\n",
       "      <td>2803.500000</td>\n",
       "      <td>15.500000</td>\n",
       "      <td>76.000000</td>\n",
       "      <td>1.000000</td>\n",
       "    </tr>\n",
       "    <tr>\n",
       "      <th>75%</th>\n",
       "      <td>29.000000</td>\n",
       "      <td>8.000000</td>\n",
       "      <td>262.000000</td>\n",
       "      <td>3608.000000</td>\n",
       "      <td>17.175000</td>\n",
       "      <td>79.000000</td>\n",
       "      <td>2.000000</td>\n",
       "    </tr>\n",
       "    <tr>\n",
       "      <th>max</th>\n",
       "      <td>46.600000</td>\n",
       "      <td>8.000000</td>\n",
       "      <td>455.000000</td>\n",
       "      <td>5140.000000</td>\n",
       "      <td>24.800000</td>\n",
       "      <td>82.000000</td>\n",
       "      <td>3.000000</td>\n",
       "    </tr>\n",
       "  </tbody>\n",
       "</table>\n",
       "</div>"
      ],
      "text/plain": [
       "              mpg   cylinders  displacement       weight  acceleration  \\\n",
       "count  398.000000  398.000000    398.000000   398.000000    398.000000   \n",
       "mean    23.514573    5.454774    193.425879  2970.424623     15.568090   \n",
       "std      7.815984    1.701004    104.269838   846.841774      2.757689   \n",
       "min      9.000000    3.000000     68.000000  1613.000000      8.000000   \n",
       "25%     17.500000    4.000000    104.250000  2223.750000     13.825000   \n",
       "50%     23.000000    4.000000    148.500000  2803.500000     15.500000   \n",
       "75%     29.000000    8.000000    262.000000  3608.000000     17.175000   \n",
       "max     46.600000    8.000000    455.000000  5140.000000     24.800000   \n",
       "\n",
       "            model      origin  \n",
       "count  398.000000  398.000000  \n",
       "mean    76.010050    1.572864  \n",
       "std      3.697627    0.802055  \n",
       "min     70.000000    1.000000  \n",
       "25%     73.000000    1.000000  \n",
       "50%     76.000000    1.000000  \n",
       "75%     79.000000    2.000000  \n",
       "max     82.000000    3.000000  "
      ]
     },
     "execution_count": 4,
     "metadata": {},
     "output_type": "execute_result"
    }
   ],
   "source": [
    "cars.describe()"
   ]
  },
  {
   "cell_type": "markdown",
   "metadata": {
    "slideshow": {
     "slide_type": "slide"
    }
   },
   "source": [
    "## Linear Regression\n",
    "\n",
    "What is it? We are hypothesizing a **linear relationship** between a *target* (or 'endogenous' variable) and some *features* (predictors, or 'exogenous' variables).\n",
    "\n",
    "In the case of a **single** feature, we are looking to quantify the relationship to the target of the form:\n",
    "$\\hat{y}_i = \\beta_0 + \\beta_1 x_i$ \n",
    "\n",
    "In the case of a **multiple** features, we are looking to quantify the relationship to the target of the form:\n",
    "$\\hat{y} = \\beta_0 + \\beta_1 x_1 + \\beta_2 x_2 + \\beta_3 x_3 + \\ldots + \\beta_p x_p$\n",
    "\n",
    "\n",
    "If we have $p$ features, then will will have $p+1$ beta coefficients incuding the intercept term. "
   ]
  },
  {
   "cell_type": "code",
   "execution_count": 5,
   "metadata": {
    "slideshow": {
     "slide_type": "slide"
    }
   },
   "outputs": [
    {
     "data": {
      "image/png": "[encoded data removed]",
      "text/plain": [
       "<Figure size 432x288 with 1 Axes>"
      ]
     },
     "metadata": {},
     "output_type": "display_data"
    }
   ],
   "source": [
    "# Simple - 2D plot - One Feature and One Target\n",
    "\n",
    "y = cars['mpg']\n",
    "X = cars['weight']\n",
    "\n",
    "fig, ax = plt.subplots()\n",
    "ax.scatter(X,y, color='k', s=10)\n",
    "ax.set_xlabel('weight')\n",
    "ax.set_ylabel('mpg');"
   ]
  },
  {
   "cell_type": "code",
   "execution_count": null,
   "metadata": {
    "slideshow": {
     "slide_type": "skip"
    }
   },
   "outputs": [],
   "source": []
  },
  {
   "cell_type": "code",
   "execution_count": 6,
   "metadata": {
    "slideshow": {
     "slide_type": "slide"
    }
   },
   "outputs": [
    {
     "data": {
      "image/png": "[encoded data removed]",
      "text/plain": [
       "<Figure size 864x432 with 1 Axes>"
      ]
     },
     "metadata": {
      "needs_background": "light"
     },
     "output_type": "display_data"
    }
   ],
   "source": [
    "# 3D Plot - Two Features (weight and acceleration) and One Target (mpg)\n",
    "import matplotlib.pyplot as plt\n",
    "from mpl_toolkits.mplot3d import Axes3D\n",
    "%matplotlib notebook\n",
    "%matplotlib inline\n",
    "fig = plt.figure(figsize=(12,6))\n",
    "ax = fig.add_subplot(111, projection='3d')\n",
    "ax.scatter(cars['weight'], cars['acceleration'], cars['mpg'])\n",
    "ax.set_zlabel('mpg')\n",
    "ax.set_xlabel('weight')\n",
    "ax.set_ylabel('acceleration');"
   ]
  },
  {
   "cell_type": "code",
   "execution_count": null,
   "metadata": {
    "slideshow": {
     "slide_type": "skip"
    }
   },
   "outputs": [],
   "source": []
  },
  {
   "cell_type": "markdown",
   "metadata": {
    "slideshow": {
     "slide_type": "subslide"
    }
   },
   "source": [
    "There are lots of lines we could draw... how do we pick a \"best\" line?\n",
    "Well, we know there is a `LinearRegression` class in `sklearn.linear_model` that we can use. But what does that `do`, exactly? How does it decide which line is `best`?"
   ]
  },
  {
   "cell_type": "code",
   "execution_count": null,
   "metadata": {
    "slideshow": {
     "slide_type": "skip"
    }
   },
   "outputs": [],
   "source": []
  },
  {
   "cell_type": "code",
   "execution_count": 7,
   "metadata": {
    "slideshow": {
     "slide_type": "slide"
    }
   },
   "outputs": [
    {
     "data": {
      "image/png": "[encoded data removed]",
      "text/plain": [
       "<Figure size 432x288 with 1 Axes>"
      ]
     },
     "metadata": {
      "needs_background": "light"
     },
     "output_type": "display_data"
    }
   ],
   "source": [
    "# Pick a line, any line\n",
    "\n",
    "fig, ax = plt.subplots()\n",
    "xx = np.linspace(1500,5500)\n",
    "line0 = 0*xx + 25\n",
    "line1 = (-1/200)*(xx - 1500) + 30\n",
    "line2 = (-1/100)*(xx - 1500) + 39\n",
    "\n",
    "ax.scatter(X,y, color='k', s=20)\n",
    "ax.set_xlabel('weight')\n",
    "ax.set_ylabel('mpg')\n",
    "ax.plot(xx, line0, color='b', lw=3)\n",
    "ax.plot(xx, line1, color='r', lw=3)\n",
    "ax.plot(xx, line2, color='brown', lw=3);"
   ]
  },
  {
   "cell_type": "markdown",
   "metadata": {
    "slideshow": {
     "slide_type": "slide"
    }
   },
   "source": [
    "Let's call our line $\\hat{y}$. For any point $x_i$, we have our observed value $y_i$ and our value predicted from our line $$\\hat{y}_i = \\beta_0 + \\beta_1 x_i$$\n",
    "\n",
    "The *residual* is the distance between our predicted value and the actual value\n",
    "$$r_i = y_i - \\hat{y}_i$$\n",
    "\n",
    "Linear Regression finds the line that minimizes the total **sum of squared residuals** (SSR)\n",
    "$$ SSR = \\sum_{i=1}^N (y_i - \\hat{y}_i)^2 $$"
   ]
  },
  {
   "cell_type": "code",
   "execution_count": 8,
   "metadata": {
    "slideshow": {
     "slide_type": "slide"
    }
   },
   "outputs": [
    {
     "name": "stdout",
     "output_type": "stream",
     "text": [
      "SSR for this line: 13084.72088\n"
     ]
    },
    {
     "data": {
      "image/png": "[encoded data removed]",
      "text/plain": [
       "<Figure size 864x432 with 1 Axes>"
      ]
     },
     "metadata": {
      "needs_background": "light"
     },
     "output_type": "display_data"
    }
   ],
   "source": [
    "fig, ax = plt.subplots(figsize=(12,6))\n",
    "ax.scatter(X,y, color='k', s=20)\n",
    "ax.set_xlabel('weight'), ax.set_ylabel('mpg')\n",
    "\n",
    "b0 = (1500/200) + 30\n",
    "b1 = (-1/250)\n",
    "line1 = b0 + b1*xx\n",
    "ax.plot(xx, line1, color='r', lw=2)\n",
    "\n",
    "for x_i, y_i in zip(X,y):\n",
    "    ax.plot([x_i, x_i], [y_i, b1*x_i+b0],\n",
    "            color='gray',\n",
    "            linestyle='dashed')\n",
    "ax.set_title(\"a line I made up\")    \n",
    "resids = y - (b0 + b1 * X)\n",
    "print(\"SSR for this line: {}\".format((resids**2).sum()))"
   ]
  },
  {
   "cell_type": "markdown",
   "metadata": {
    "slideshow": {
     "slide_type": "slide"
    }
   },
   "source": [
    "#### It turns out that the line that minimizes the SSR in the single feature case is:\n",
    "\n",
    "$$ \\hat{\\beta}_1 = \\frac{\\sum_{i=1}^N (x_i - \\bar{x})(y_i - \\bar{y})}{\\sum_{i=1}^N (x_i - \\bar{x})^2} = \\frac{Cov(x,y)}{Var(x)}$$\n",
    "\n",
    "$$\\beta_0 = \\bar{y} - \\hat{\\beta}_1\\bar{x}$$"
   ]
  },
  {
   "cell_type": "markdown",
   "metadata": {
    "slideshow": {
     "slide_type": "slide"
    }
   },
   "source": [
    "The traditional way to do inferential regression in Python is to use the `statsmodels` module, which is patterned after R\n"
   ]
  },
  {
   "cell_type": "markdown",
   "metadata": {
    "slideshow": {
     "slide_type": "subslide"
    }
   },
   "source": [
    "Let's do a linear regression using `statsmodels` and the `insects` dataset\n"
   ]
  },
  {
   "cell_type": "code",
   "execution_count": 9,
   "metadata": {
    "slideshow": {
     "slide_type": "slide"
    }
   },
   "outputs": [],
   "source": [
    "import statsmodels.formula.api as smf"
   ]
  },
  {
   "cell_type": "code",
   "execution_count": 10,
   "metadata": {
    "slideshow": {
     "slide_type": "subslide"
    }
   },
   "outputs": [
    {
     "data": {
      "text/plain": [
       "'./data/cars_multivariate.csv'"
      ]
     },
     "execution_count": 10,
     "metadata": {},
     "output_type": "execute_result"
    }
   ],
   "source": [
    "filepath"
   ]
  },
  {
   "cell_type": "code",
   "execution_count": 11,
   "metadata": {
    "slideshow": {
     "slide_type": "subslide"
    }
   },
   "outputs": [
    {
     "data": {
      "text/html": [
       "<div>\n",
       "<style scoped>\n",
       "    .dataframe tbody tr th:only-of-type {\n",
       "        vertical-align: middle;\n",
       "    }\n",
       "\n",
       "    .dataframe tbody tr th {\n",
       "        vertical-align: top;\n",
       "    }\n",
       "\n",
       "    .dataframe thead th {\n",
       "        text-align: right;\n",
       "    }\n",
       "</style>\n",
       "<table border=\"1\" class=\"dataframe\">\n",
       "  <thead>\n",
       "    <tr style=\"text-align: right;\">\n",
       "      <th></th>\n",
       "      <th>continent</th>\n",
       "      <th>latitude</th>\n",
       "      <th>wingsize</th>\n",
       "      <th>sex</th>\n",
       "    </tr>\n",
       "  </thead>\n",
       "  <tbody>\n",
       "    <tr>\n",
       "      <th>0</th>\n",
       "      <td>1</td>\n",
       "      <td>35.5</td>\n",
       "      <td>901</td>\n",
       "      <td>0</td>\n",
       "    </tr>\n",
       "    <tr>\n",
       "      <th>1</th>\n",
       "      <td>1</td>\n",
       "      <td>37.0</td>\n",
       "      <td>896</td>\n",
       "      <td>0</td>\n",
       "    </tr>\n",
       "    <tr>\n",
       "      <th>2</th>\n",
       "      <td>1</td>\n",
       "      <td>38.6</td>\n",
       "      <td>906</td>\n",
       "      <td>0</td>\n",
       "    </tr>\n",
       "    <tr>\n",
       "      <th>3</th>\n",
       "      <td>1</td>\n",
       "      <td>40.7</td>\n",
       "      <td>907</td>\n",
       "      <td>0</td>\n",
       "    </tr>\n",
       "    <tr>\n",
       "      <th>4</th>\n",
       "      <td>1</td>\n",
       "      <td>40.9</td>\n",
       "      <td>898</td>\n",
       "      <td>0</td>\n",
       "    </tr>\n",
       "  </tbody>\n",
       "</table>\n",
       "</div>"
      ],
      "text/plain": [
       "   continent  latitude  wingsize  sex\n",
       "0          1      35.5       901    0\n",
       "1          1      37.0       896    0\n",
       "2          1      38.6       906    0\n",
       "3          1      40.7       907    0\n",
       "4          1      40.9       898    0"
      ]
     },
     "execution_count": 11,
     "metadata": {},
     "output_type": "execute_result"
    }
   ],
   "source": [
    "filename = 'insects.csv'\n",
    "\n",
    "filepath = os.path.join(path, filename)\n",
    "insects = pd.read_csv(filepath, header=1, sep='\\s+') #there is a header row that we need to completely skip\n",
    "insects.head()"
   ]
  },
  {
   "cell_type": "markdown",
   "metadata": {
    "slideshow": {
     "slide_type": "slide"
    }
   },
   "source": [
    "We've got our four columns `continent, latitude, wingsize, and sex`.\n",
    "Let's graph using pairplots"
   ]
  },
  {
   "cell_type": "code",
   "execution_count": 12,
   "metadata": {
    "slideshow": {
     "slide_type": "slide"
    }
   },
   "outputs": [
    {
     "data": {
      "image/png": "[encoded data removed]",
      "text/plain": [
       "<Figure size 720x720 with 20 Axes>"
      ]
     },
     "metadata": {
      "needs_background": "light"
     },
     "output_type": "display_data"
    }
   ],
   "source": [
    "import seaborn as sns\n",
    "sns.pairplot(insects, kind='reg', markers='+');"
   ]
  },
  {
   "cell_type": "markdown",
   "metadata": {
    "slideshow": {
     "slide_type": "slide"
    }
   },
   "source": [
    "The only pair plots that look vaguely linear is the one with target = `wingsize` and feature = `latitude`. So, let's make a linear model using latitude where the insects were found to predict and make inferences about insect wingsize. "
   ]
  },
  {
   "cell_type": "markdown",
   "metadata": {
    "slideshow": {
     "slide_type": "slide"
    }
   },
   "source": [
    "## Check for Understanding\n",
    "\n",
    "The pairplot shows that this dataset has a mix of continuous and categorical data!\n",
    "\n",
    "* What are the continuous columns in the dataset?\n",
    "* What are the categorical columns in the dataset?\n",
    "* Which columns can we use as the target for our linear regression?\n",
    "* Which columns can we use as the features for our linear regression?"
   ]
  },
  {
   "cell_type": "code",
   "execution_count": null,
   "metadata": {
    "slideshow": {
     "slide_type": "skip"
    }
   },
   "outputs": [],
   "source": []
  },
  {
   "cell_type": "markdown",
   "metadata": {
    "slideshow": {
     "slide_type": "slide"
    }
   },
   "source": [
    "## This is our research question: \n",
    "### Is An Increasing Latitude Associated With an Increasing Wing Size?\n",
    "\n",
    "To answer this question we need to create an linear model just like we did before:\n",
    "\n",
    "$$ \\hat{Wing Span} \\approx \\beta_0 + \\beta_1 \\times \\text{Latitude} $$\n",
    "\n",
    "Then we can look at the estimated coefficient $\\beta_1$, which tells us how we should expect `wingspan` to change as `latitude` changes.  \n",
    "If we find that $\\beta_1 > 0$, that's evidence that an increasing latitude is associated with an increasing wingspan."
   ]
  },
  {
   "cell_type": "markdown",
   "metadata": {
    "slideshow": {
     "slide_type": "slide"
    }
   },
   "source": [
    "Statsmodels needs an argument called `formula` to interpret what you want to model.\n",
    "\n",
    "* Formula is always a string\n",
    "    * The name of your `target` column is always first. \n",
    "    * Then the `~` symbol. \n",
    "    * Then the name of your `feature` column (if more than one feature, separate them with `+` signs. \n",
    "\n",
    "Note: Statsmodels gives you the intercept for free, you don't have to include it in your formula"
   ]
  },
  {
   "cell_type": "code",
   "execution_count": 14,
   "metadata": {
    "slideshow": {
     "slide_type": "slide"
    }
   },
   "outputs": [
    {
     "data": {
      "text/plain": [
       "Intercept    780.531729\n",
       "latitude       1.883231\n",
       "dtype: float64"
      ]
     },
     "execution_count": 14,
     "metadata": {},
     "output_type": "execute_result"
    }
   ],
   "source": [
    "formula = 'wingsize ~ latitude'\n",
    "\n",
    "\n",
    "insect_model_1 = smf.ols(formula=formula, data=insects).fit() #ols stands for 'ordinary least squares'\n",
    "# The fitted model object automatically computes the parameters\n",
    "insect_model_1.params"
   ]
  },
  {
   "cell_type": "markdown",
   "metadata": {
    "slideshow": {
     "slide_type": "slide"
    }
   },
   "source": [
    "The linear regression has attempted to estimate the equation we are after, and it has returned:\n",
    "\n",
    "$$ \\text{Wing Size} \\approx 780.53 + 1.88 \\times \\text{Latitude} $$\n",
    "\n",
    "So we can expect an on average increase of $1.88$ wingspan for every increase in one latitude."
   ]
  },
  {
   "cell_type": "markdown",
   "metadata": {
    "slideshow": {
     "slide_type": "subslide"
    }
   },
   "source": [
    "$$ \\text{Wing Size} \\approx \\underbrace{780.53}_{\\text{Intercept Estimate}} + \\underbrace{1.88}_{\\text{Slope Estimate}} \\times \\text{Latitude} $$\n"
   ]
  },
  {
   "cell_type": "code",
   "execution_count": null,
   "metadata": {
    "slideshow": {
     "slide_type": "skip"
    }
   },
   "outputs": [],
   "source": []
  },
  {
   "cell_type": "code",
   "execution_count": 15,
   "metadata": {
    "slideshow": {
     "slide_type": "slide"
    }
   },
   "outputs": [
    {
     "data": {
      "image/png": "[encoded data removed]",
      "text/plain": [
       "<Figure size 432x288 with 1 Axes>"
      ]
     },
     "metadata": {
      "needs_background": "light"
     },
     "output_type": "display_data"
    }
   ],
   "source": [
    "# The red line is the model! Not very good, is it?\n",
    "# The answer to our research question \"Is An Increasing Latitude Associated With an Increasing Wing Size?\" is uncertain.\n",
    "sns.regplot(x='latitude', y='wingsize', data=insects, marker='+', ci=None);"
   ]
  },
  {
   "cell_type": "code",
   "execution_count": 59,
   "metadata": {
    "slideshow": {
     "slide_type": "slide"
    }
   },
   "outputs": [
    {
     "data": {
      "text/html": [
       "<table class=\"simpletable\">\n",
       "<caption>OLS Regression Results</caption>\n",
       "<tr>\n",
       "  <th>Dep. Variable:</th>        <td>wingsize</td>     <th>  R-squared:         </th> <td>   0.041</td>\n",
       "</tr>\n",
       "<tr>\n",
       "  <th>Model:</th>                   <td>OLS</td>       <th>  Adj. R-squared:    </th> <td>   0.017</td>\n",
       "</tr>\n",
       "<tr>\n",
       "  <th>Method:</th>             <td>Least Squares</td>  <th>  F-statistic:       </th> <td>   1.721</td>\n",
       "</tr>\n",
       "<tr>\n",
       "  <th>Date:</th>             <td>Thu, 08 Jul 2021</td> <th>  Prob (F-statistic):</th>  <td> 0.197</td> \n",
       "</tr>\n",
       "<tr>\n",
       "  <th>Time:</th>                 <td>23:16:01</td>     <th>  Log-Likelihood:    </th> <td> -224.38</td>\n",
       "</tr>\n",
       "<tr>\n",
       "  <th>No. Observations:</th>      <td>    42</td>      <th>  AIC:               </th> <td>   452.8</td>\n",
       "</tr>\n",
       "<tr>\n",
       "  <th>Df Residuals:</th>          <td>    40</td>      <th>  BIC:               </th> <td>   456.2</td>\n",
       "</tr>\n",
       "<tr>\n",
       "  <th>Df Model:</th>              <td>     1</td>      <th>                     </th>     <td> </td>   \n",
       "</tr>\n",
       "<tr>\n",
       "  <th>Covariance Type:</th>      <td>nonrobust</td>    <th>                     </th>     <td> </td>   \n",
       "</tr>\n",
       "</table>\n",
       "<table class=\"simpletable\">\n",
       "<tr>\n",
       "      <td></td>         <th>coef</th>     <th>std err</th>      <th>t</th>      <th>P>|t|</th>  <th>[0.025</th>    <th>0.975]</th>  \n",
       "</tr>\n",
       "<tr>\n",
       "  <th>Intercept</th> <td>  780.5317</td> <td>   64.526</td> <td>   12.096</td> <td> 0.000</td> <td>  650.120</td> <td>  910.943</td>\n",
       "</tr>\n",
       "<tr>\n",
       "  <th>latitude</th>  <td>    1.8832</td> <td>    1.436</td> <td>    1.312</td> <td> 0.197</td> <td>   -1.018</td> <td>    4.785</td>\n",
       "</tr>\n",
       "</table>\n",
       "<table class=\"simpletable\">\n",
       "<tr>\n",
       "  <th>Omnibus:</th>       <td>295.691</td> <th>  Durbin-Watson:     </th> <td>   0.176</td>\n",
       "</tr>\n",
       "<tr>\n",
       "  <th>Prob(Omnibus):</th> <td> 0.000</td>  <th>  Jarque-Bera (JB):  </th> <td>   5.916</td>\n",
       "</tr>\n",
       "<tr>\n",
       "  <th>Skew:</th>          <td>-0.008</td>  <th>  Prob(JB):          </th> <td>  0.0519</td>\n",
       "</tr>\n",
       "<tr>\n",
       "  <th>Kurtosis:</th>      <td> 1.161</td>  <th>  Cond. No.          </th> <td>    363.</td>\n",
       "</tr>\n",
       "</table><br/><br/>Notes:<br/>[1] Standard Errors assume that the covariance matrix of the errors is correctly specified."
      ],
      "text/plain": [
       "<class 'statsmodels.iolib.summary.Summary'>\n",
       "\"\"\"\n",
       "                            OLS Regression Results                            \n",
       "==============================================================================\n",
       "Dep. Variable:               wingsize   R-squared:                       0.041\n",
       "Model:                            OLS   Adj. R-squared:                  0.017\n",
       "Method:                 Least Squares   F-statistic:                     1.721\n",
       "Date:                Thu, 08 Jul 2021   Prob (F-statistic):              0.197\n",
       "Time:                        23:16:01   Log-Likelihood:                -224.38\n",
       "No. Observations:                  42   AIC:                             452.8\n",
       "Df Residuals:                      40   BIC:                             456.2\n",
       "Df Model:                           1                                         \n",
       "Covariance Type:            nonrobust                                         \n",
       "==============================================================================\n",
       "                 coef    std err          t      P>|t|      [0.025      0.975]\n",
       "------------------------------------------------------------------------------\n",
       "Intercept    780.5317     64.526     12.096      0.000     650.120     910.943\n",
       "latitude       1.8832      1.436      1.312      0.197      -1.018       4.785\n",
       "==============================================================================\n",
       "Omnibus:                      295.691   Durbin-Watson:                   0.176\n",
       "Prob(Omnibus):                  0.000   Jarque-Bera (JB):                5.916\n",
       "Skew:                          -0.008   Prob(JB):                       0.0519\n",
       "Kurtosis:                       1.161   Cond. No.                         363.\n",
       "==============================================================================\n",
       "\n",
       "Notes:\n",
       "[1] Standard Errors assume that the covariance matrix of the errors is correctly specified.\n",
       "\"\"\""
      ]
     },
     "execution_count": 59,
     "metadata": {},
     "output_type": "execute_result"
    }
   ],
   "source": [
    "insect_model_1.summary()"
   ]
  },
  {
   "cell_type": "markdown",
   "metadata": {
    "slideshow": {
     "slide_type": "slide"
    }
   },
   "source": [
    "So our statsmodel `insect_model_1` contains summary data that will tell us how SURE we are about our model. \n",
    "\n",
    "    * This information is NOT present in sklearn.linear_model.LinearRegression.\n",
    "\n",
    "If you look at the p-value of the latitude coefficient, it is 0.197\n",
    "\n",
    "    *  p value is > 0.10, so the coefficient is not significant at the 10% level.\n",
    "\n",
    "You can see that we are not really that sure of anything with this model!\n",
    "\n",
    "Note: We'll talk about some of the other output shown above later, but not all of it. Don't worry!"
   ]
  },
  {
   "cell_type": "code",
   "execution_count": null,
   "metadata": {
    "slideshow": {
     "slide_type": "skip"
    }
   },
   "outputs": [],
   "source": []
  },
  {
   "cell_type": "markdown",
   "metadata": {
    "slideshow": {
     "slide_type": "slide"
    }
   },
   "source": [
    "## Multiple Regression"
   ]
  },
  {
   "cell_type": "markdown",
   "metadata": {
    "slideshow": {
     "slide_type": "slide"
    }
   },
   "source": [
    "### Let's draw another scatterplot for a hint as to why our previous model results are so awful.\n",
    "### We can see from this second graph that the two sexes of insects each make their OWN line. Whereas our model just drew a single line right down the middle of the data."
   ]
  },
  {
   "cell_type": "code",
   "execution_count": 16,
   "metadata": {
    "slideshow": {
     "slide_type": "subslide"
    }
   },
   "outputs": [
    {
     "data": {
      "image/png": "[encoded data removed]",
      "text/plain": [
       "<Figure size 432x288 with 1 Axes>"
      ]
     },
     "metadata": {
      "needs_background": "light"
     },
     "output_type": "display_data"
    }
   ],
   "source": [
    "sns.scatterplot(x='latitude', y='wingsize', data=insects, marker='d', hue='sex');"
   ]
  },
  {
   "cell_type": "markdown",
   "metadata": {
    "slideshow": {
     "slide_type": "slide"
    }
   },
   "source": [
    "## The previous graph leads us to *different* research question:\n",
    "\n",
    "### \"Is an increasing latitude associated with an increasing wing size once we take sex of the insects into account?\"\n",
    "\n",
    "To answer that question, we need to do Multiple Regression\n"
   ]
  },
  {
   "cell_type": "markdown",
   "metadata": {
    "slideshow": {
     "slide_type": "slide"
    }
   },
   "source": [
    "## What about multiple features?\n",
    "\n",
    "Assume we have $p$ features.\n",
    "\n",
    "Then the linear relationship we are assuming has the form\n",
    "$$ y = \\beta_0*1 + \\beta_1* X_1 + \\beta_2*X_2 + ... + \\beta_p *X_p $$\n",
    "\n",
    "which we can write as the matrix product\n",
    "$$Y = X\\beta$$\n",
    "where $Y$ is an $n \\times 1$ column vector, $X$ is an $n \\times (p+1)$ feature matrix (we've added a column of ones to encode the intercept term), and $\\beta$ is a $(p+1) \\times 1$ column vector"
   ]
  },
  {
   "cell_type": "code",
   "execution_count": null,
   "metadata": {
    "slideshow": {
     "slide_type": "skip"
    }
   },
   "outputs": [],
   "source": []
  },
  {
   "cell_type": "markdown",
   "metadata": {
    "slideshow": {
     "slide_type": "slide"
    }
   },
   "source": [
    "Let's make a second model. This time we want to also include sex as a feature.\n",
    "\n",
    "This model will make two parallel lines that have the same slope but different intercepts"
   ]
  },
  {
   "cell_type": "markdown",
   "metadata": {
    "slideshow": {
     "slide_type": "subslide"
    }
   },
   "source": [
    "Recall `sex` is a categorical features. \n",
    "\n",
    "Statsmodels requires a special notation for categorical figures in the formula string: `C(sex)`. \n",
    "\n",
    "We just add them using `+` on the RHS of the `~`."
   ]
  },
  {
   "cell_type": "code",
   "execution_count": 61,
   "metadata": {
    "slideshow": {
     "slide_type": "slide"
    }
   },
   "outputs": [
    {
     "data": {
      "text/plain": [
       "Intercept      829.960301\n",
       "C(sex)[T.1]    -98.857143\n",
       "latitude         1.883231\n",
       "dtype: float64"
      ]
     },
     "execution_count": 61,
     "metadata": {},
     "output_type": "execute_result"
    }
   ],
   "source": [
    "formula = 'wingsize ~ latitude + C(sex)'\n",
    "\n",
    "insect_model_2 = smf.ols(formula=formula, data=insects).fit()\n",
    "# The fitted model object automatically computes the three parameters, the intercept and two coefficients.\n",
    "insect_model_2.params"
   ]
  },
  {
   "cell_type": "code",
   "execution_count": null,
   "metadata": {
    "slideshow": {
     "slide_type": "skip"
    }
   },
   "outputs": [],
   "source": []
  },
  {
   "cell_type": "markdown",
   "metadata": {
    "slideshow": {
     "slide_type": "subslide"
    }
   },
   "source": [
    "This output says when `sex` is 1, the intercept DECREASES by 98.86 points.\n",
    "If we graph this prediction line it will actually plot TWO parallel lines with different y intercepts!\n",
    "\n",
    "## Check for Understanding\n",
    "    * Why will this model plot two parallel lines with different intercepts depending on sex?"
   ]
  },
  {
   "cell_type": "code",
   "execution_count": null,
   "metadata": {
    "slideshow": {
     "slide_type": "skip"
    }
   },
   "outputs": [],
   "source": []
  },
  {
   "cell_type": "code",
   "execution_count": 53,
   "metadata": {
    "slideshow": {
     "slide_type": "slide"
    }
   },
   "outputs": [],
   "source": [
    "#let's just make a convenience function for plotting the predictions for the two different sexes\n",
    "def make_insects_model_lines(ax):\n",
    "    x = np.linspace(30, 60, num=250)\n",
    "    ax.plot(x, insect_model_2.params[0] \n",
    "                 + insect_model_2.params[1] * x,\n",
    "           linewidth=2, c=\"red\")\n",
    "    ax.plot(x, insect_model_2.params[0] \n",
    "                 + insect_model_2.params[1] * x + insect_model_2.params[2],\n",
    "           linewidth=2, c=\"blue\")\n",
    "    \n",
    "    ax.set_xlim(30, 60)\n",
    "    ax.set_xlabel(\"Latitude\")\n",
    "    ax.set_ylabel(\"Wing Size\")\n",
    "    ax.set_title(\"Insect Wing Sizes at Various Latitudes\")\n",
    "    ax.legend()\n",
    "    return ax"
   ]
  },
  {
   "cell_type": "code",
   "execution_count": 54,
   "metadata": {
    "slideshow": {
     "slide_type": "slide"
    }
   },
   "outputs": [
    {
     "data": {
      "image/png": "[encoded data removed]",
      "text/plain": [
       "<Figure size 432x288 with 1 Axes>"
      ]
     },
     "metadata": {
      "needs_background": "light"
     },
     "output_type": "display_data"
    }
   ],
   "source": [
    "_, ax = plt.subplots()\n",
    "sns.scatterplot(x='latitude', y='wingsize', data=insects, marker='d', hue='sex', ax=ax)\n",
    "make_insects_model_lines(ax);"
   ]
  },
  {
   "cell_type": "markdown",
   "metadata": {
    "slideshow": {
     "slide_type": "subslide"
    }
   },
   "source": [
    "So our answer to the question:\n",
    "\n",
    "\"Is an increasing latitude associated with an increasing wing size once we take sex of the insects into account?\" appears to be yes! "
   ]
  },
  {
   "cell_type": "code",
   "execution_count": 62,
   "metadata": {
    "slideshow": {
     "slide_type": "slide"
    }
   },
   "outputs": [
    {
     "data": {
      "text/html": [
       "<table class=\"simpletable\">\n",
       "<caption>OLS Regression Results</caption>\n",
       "<tr>\n",
       "  <th>Dep. Variable:</th>        <td>wingsize</td>     <th>  R-squared:         </th> <td>   0.957</td>\n",
       "</tr>\n",
       "<tr>\n",
       "  <th>Model:</th>                   <td>OLS</td>       <th>  Adj. R-squared:    </th> <td>   0.955</td>\n",
       "</tr>\n",
       "<tr>\n",
       "  <th>Method:</th>             <td>Least Squares</td>  <th>  F-statistic:       </th> <td>   434.6</td>\n",
       "</tr>\n",
       "<tr>\n",
       "  <th>Date:</th>             <td>Fri, 09 Jul 2021</td> <th>  Prob (F-statistic):</th> <td>2.19e-27</td>\n",
       "</tr>\n",
       "<tr>\n",
       "  <th>Time:</th>                 <td>10:20:02</td>     <th>  Log-Likelihood:    </th> <td> -159.16</td>\n",
       "</tr>\n",
       "<tr>\n",
       "  <th>No. Observations:</th>      <td>    42</td>      <th>  AIC:               </th> <td>   324.3</td>\n",
       "</tr>\n",
       "<tr>\n",
       "  <th>Df Residuals:</th>          <td>    39</td>      <th>  BIC:               </th> <td>   329.5</td>\n",
       "</tr>\n",
       "<tr>\n",
       "  <th>Df Model:</th>              <td>     2</td>      <th>                     </th>     <td> </td>   \n",
       "</tr>\n",
       "<tr>\n",
       "  <th>Covariance Type:</th>      <td>nonrobust</td>    <th>                     </th>     <td> </td>   \n",
       "</tr>\n",
       "</table>\n",
       "<table class=\"simpletable\">\n",
       "<tr>\n",
       "       <td></td>          <th>coef</th>     <th>std err</th>      <th>t</th>      <th>P>|t|</th>  <th>[0.025</th>    <th>0.975]</th>  \n",
       "</tr>\n",
       "<tr>\n",
       "  <th>Intercept</th>   <td>  829.9603</td> <td>   13.935</td> <td>   59.558</td> <td> 0.000</td> <td>  801.773</td> <td>  858.147</td>\n",
       "</tr>\n",
       "<tr>\n",
       "  <th>C(sex)[T.1]</th> <td>  -98.8571</td> <td>    3.428</td> <td>  -28.841</td> <td> 0.000</td> <td> -105.790</td> <td>  -91.924</td>\n",
       "</tr>\n",
       "<tr>\n",
       "  <th>latitude</th>    <td>    1.8832</td> <td>    0.308</td> <td>    6.121</td> <td> 0.000</td> <td>    1.261</td> <td>    2.506</td>\n",
       "</tr>\n",
       "</table>\n",
       "<table class=\"simpletable\">\n",
       "<tr>\n",
       "  <th>Omnibus:</th>       <td> 4.668</td> <th>  Durbin-Watson:     </th> <td>   1.928</td>\n",
       "</tr>\n",
       "<tr>\n",
       "  <th>Prob(Omnibus):</th> <td> 0.097</td> <th>  Jarque-Bera (JB):  </th> <td>   3.601</td>\n",
       "</tr>\n",
       "<tr>\n",
       "  <th>Skew:</th>          <td> 0.466</td> <th>  Prob(JB):          </th> <td>   0.165</td>\n",
       "</tr>\n",
       "<tr>\n",
       "  <th>Kurtosis:</th>      <td> 4.090</td> <th>  Cond. No.          </th> <td>    366.</td>\n",
       "</tr>\n",
       "</table><br/><br/>Notes:<br/>[1] Standard Errors assume that the covariance matrix of the errors is correctly specified."
      ],
      "text/plain": [
       "<class 'statsmodels.iolib.summary.Summary'>\n",
       "\"\"\"\n",
       "                            OLS Regression Results                            \n",
       "==============================================================================\n",
       "Dep. Variable:               wingsize   R-squared:                       0.957\n",
       "Model:                            OLS   Adj. R-squared:                  0.955\n",
       "Method:                 Least Squares   F-statistic:                     434.6\n",
       "Date:                Fri, 09 Jul 2021   Prob (F-statistic):           2.19e-27\n",
       "Time:                        10:20:02   Log-Likelihood:                -159.16\n",
       "No. Observations:                  42   AIC:                             324.3\n",
       "Df Residuals:                      39   BIC:                             329.5\n",
       "Df Model:                           2                                         \n",
       "Covariance Type:            nonrobust                                         \n",
       "===============================================================================\n",
       "                  coef    std err          t      P>|t|      [0.025      0.975]\n",
       "-------------------------------------------------------------------------------\n",
       "Intercept     829.9603     13.935     59.558      0.000     801.773     858.147\n",
       "C(sex)[T.1]   -98.8571      3.428    -28.841      0.000    -105.790     -91.924\n",
       "latitude        1.8832      0.308      6.121      0.000       1.261       2.506\n",
       "==============================================================================\n",
       "Omnibus:                        4.668   Durbin-Watson:                   1.928\n",
       "Prob(Omnibus):                  0.097   Jarque-Bera (JB):                3.601\n",
       "Skew:                           0.466   Prob(JB):                        0.165\n",
       "Kurtosis:                       4.090   Cond. No.                         366.\n",
       "==============================================================================\n",
       "\n",
       "Notes:\n",
       "[1] Standard Errors assume that the covariance matrix of the errors is correctly specified.\n",
       "\"\"\""
      ]
     },
     "execution_count": 62,
     "metadata": {},
     "output_type": "execute_result"
    }
   ],
   "source": [
    "insect_model_2.summary()"
   ]
  },
  {
   "cell_type": "markdown",
   "metadata": {
    "slideshow": {
     "slide_type": "slide"
    }
   },
   "source": [
    "Recall that a **p-value** describes the amount of surprise that we feel when observing data, given that we are taking a skeptical stance on how that data is generated.\n",
    "\n",
    "$$ P(\\text{Observing A Statistic Equal or More Extreme than Actual} \\mid H_0) $$\n",
    "\n",
    "So to make sense of the p-values here, we need to describe the **null hypothesis** and the **statistic**."
   ]
  },
  {
   "cell_type": "markdown",
   "metadata": {
    "slideshow": {
     "slide_type": "subslide"
    }
   },
   "source": [
    "The **null hypothesis** in this case is that each value of $y$ was generated by sampling from a relationship like:\n",
    "\n",
    "$$ y \\sim N(\\beta_0 + \\beta_1 \\times \\text{Latitude} +  \\beta_2 \\times \\text{Sex}, \\sigma) $$"
   ]
  },
  {
   "cell_type": "markdown",
   "metadata": {
    "slideshow": {
     "slide_type": "subslide"
    }
   },
   "source": [
    "Given this null hypothesis, the **p-value** reported in linear regression is\n",
    "\n",
    "$$ P(\\text{Observe a Parameter Estimate for Continent More Extreme Than the Fit Model} \\mid H_0) $$"
   ]
  },
  {
   "cell_type": "markdown",
   "metadata": {
    "slideshow": {
     "slide_type": "subslide"
    }
   },
   "source": [
    "The p values for the latitude and sex coefficients are significant at the 1% level, and the F statistic for the model as a whole is also significant at the 1% level.\n",
    "\n",
    "    * So latitude and sex together can account for the variance in wingsize for these insects.\n",
    "\n",
    "Note: The simplistic R-squared metric shows the model can account for a large amount of the variation. (We'll talk more about R-squared in a bit.)"
   ]
  },
  {
   "cell_type": "code",
   "execution_count": null,
   "metadata": {
    "slideshow": {
     "slide_type": "skip"
    }
   },
   "outputs": [],
   "source": []
  },
  {
   "cell_type": "markdown",
   "metadata": {
    "slideshow": {
     "slide_type": "slide"
    }
   },
   "source": [
    "This is the first example we've encountered of **inferential vs. predictive statistics**:\n",
    "\n",
    "- **Inferential Statistics** views the role of the model as a **summary of the data**.  We can then ask it questions like \"is knowing the `continent` useful for producing an accurate summary of the data\"?\n",
    "\n",
    "- **Predictive Statistics** views the role of the model as a tool for **making predictions**.  We can ask the model questions like \"What would I expect the value of `wingspan` to be for a value of `latitude` I have not yet observed\"?\n",
    "\n",
    "These are clearly related.  In the authors opinion, a model must be useful for making predictions to be meaningful for inference."
   ]
  },
  {
   "cell_type": "code",
   "execution_count": null,
   "metadata": {
    "slideshow": {
     "slide_type": "skip"
    }
   },
   "outputs": [],
   "source": []
  },
  {
   "cell_type": "markdown",
   "metadata": {
    "slideshow": {
     "slide_type": "slide"
    }
   },
   "source": [
    "## # Check for Understanding  - Multiple Regression\n",
    "    Using filename = 'admissions.csv'\n",
    "    and filepath = './data'\n",
    "    \n",
    "    * Use pandas to load the admissions file into a dataframe called *admissions*\n",
    "    * Make a linear regression model with 'gpa' as the target and 'gre' and 'rank' as features\n",
    "    * What are the model coefficients?\n",
    "    "
   ]
  },
  {
   "cell_type": "code",
   "execution_count": null,
   "metadata": {
    "slideshow": {
     "slide_type": "skip"
    }
   },
   "outputs": [],
   "source": []
  },
  {
   "cell_type": "markdown",
   "metadata": {
    "slideshow": {
     "slide_type": "slide"
    }
   },
   "source": [
    "## Returning to our simple goodness of fit measurement: $R^2$ : The \"proportion of variance explained\""
   ]
  },
  {
   "cell_type": "markdown",
   "metadata": {
    "slideshow": {
     "slide_type": "subslide"
    }
   },
   "source": [
    "Let's return to talking about our simplistic goodness of fit. We said that R-squared existed, and we showed you how to use it, but we never showed you the calculation over dived into its meaning.\n",
    "\n",
    "* R-squared evaluates the scatter of the data points around the fitted regression line. It is also called the coefficient of determination, or the coefficient of multiple determination for multiple regression. \n",
    "\n",
    "* For the same data set, higher R-squared values represent smaller differences between the observed data and the fitted values.\n",
    "\n",
    "* R-squared is the percentage of the dependent variable variation that a linear model explains.\n"
   ]
  },
  {
   "cell_type": "markdown",
   "metadata": {
    "slideshow": {
     "slide_type": "subslide"
    }
   },
   "source": [
    "R-squared is usually between 0 and 100% although it CAN occassionally be negative for truly horrible models.  \n",
    "\n",
    "* 0% represents a model that does not explain any of the variation in the response variable around its mean. The mean of the dependent variable predicts the dependent variable as well as the regression model.\n",
    "\n",
    "* 100% represents a model that explains all the variation in the response variable around its mean. Usually, the larger the R2, the better the regression model fits your observations."
   ]
  },
  {
   "cell_type": "markdown",
   "metadata": {
    "slideshow": {
     "slide_type": "slide"
    }
   },
   "source": [
    "Let's for a moment refer to the variance of $y$ as \"the total sum of squares\"\n",
    "$$ SST = \\sum_i^N (y_i - \\bar{y})^2 $$\n",
    "\n",
    "Then we define $R^2$ as the percentage of that variance that has been \"captured\" by the regression line\n",
    "$$\n",
    "\\begin{align}\n",
    "    R^2 &= 1 - \\frac{SSR}{SST} \\\\ \\\\\n",
    "    &= 1 - \\frac{\\sum_{i=1}^n (y_i - \\hat{y}_i)^2}{\\sum_{i=1}^n (y_i - \\bar{y})^2}\n",
    "\\end{align}    \n",
    "$$"
   ]
  },
  {
   "cell_type": "markdown",
   "metadata": {
    "slideshow": {
     "slide_type": "slide"
    }
   },
   "source": [
    "### Are Low R-squared Values Always a Problem?\n",
    "No! Regression models with low R-squared values can be perfectly good models for several reasons.\n",
    "\n",
    "Some fields of study have an inherently greater amount of unexplainable variation. In these areas, your R2 values are bound to be lower. For example, studies that try to explain human behavior generally have R2 values less than 50%. People are just harder to predict than things like physical processes.\n",
    "\n",
    "Fortunately, if you have a low R-squared value but the independent variables are statistically significant, you can still draw important conclusions about the relationships between the variables.\n",
    "\n",
    "source: https://statisticsbyjim.com/regression/interpret-r-squared-regression/"
   ]
  },
  {
   "cell_type": "markdown",
   "metadata": {
    "slideshow": {
     "slide_type": "slide"
    }
   },
   "source": [
    "### Check for Understanding  - Multiple Regression\n",
    "    * What is the r-squared value for the multiple linear regression model you made earlier?"
   ]
  },
  {
   "cell_type": "code",
   "execution_count": null,
   "metadata": {
    "slideshow": {
     "slide_type": "skip"
    }
   },
   "outputs": [],
   "source": []
  },
  {
   "cell_type": "markdown",
   "metadata": {
    "slideshow": {
     "slide_type": "slide"
    }
   },
   "source": [
    "## Summary: Predictive Linear Regression vs. Inferential Linear Regression"
   ]
  },
  {
   "cell_type": "markdown",
   "metadata": {
    "slideshow": {
     "slide_type": "subslide"
    }
   },
   "source": [
    "Sometimes it turns out we don't just want to make a prediction of new data we haven't seen given the data we have. We also might want to make **statistical claims** about this linear relationship. \n",
    "\n",
    "This is Inferential Linear Regression.\n"
   ]
  },
  {
   "cell_type": "markdown",
   "metadata": {
    "slideshow": {
     "slide_type": "slide"
    }
   },
   "source": [
    "### What types of statistical claims might we want to make? \n",
    "\n",
    "Well, suppose we want some kind of a confidence interval around our predicted estimate? Or, more commonly, suppose we want a confidence interval around the value of some or all of our beta coefficients? That requires statistical inference, and also requires more assumptions than simple predictive regression."
   ]
  },
  {
   "cell_type": "markdown",
   "metadata": {
    "slideshow": {
     "slide_type": "slide"
    }
   },
   "source": [
    "In order to do that, we need to assume a distribution, so here we go.\n",
    "\n",
    "$$ y = \\beta X + \\epsilon $$\n",
    "where\n",
    "$$ \\epsilon \\sim Normal(0, \\sigma^2) $$\n",
    "\n",
    "Equivalently, we can write\n",
    "$$ y \\sim Normal(\\beta X, \\sigma^2) $$"
   ]
  },
  {
   "cell_type": "markdown",
   "metadata": {
    "slideshow": {
     "slide_type": "slide"
    }
   },
   "source": [
    "With some work, you can show the following:\n",
    " - Given a set of $N$ observations $\\{(x_i, y_i)\\}$, where $x_i$ is a $p$-dimensional vector, the maximum likelihood estimate for $\\beta$ is the same as the least-squares estimate: $$\\hat{\\beta} = (X^TX)^{-1}X^Ty$$"
   ]
  },
  {
   "cell_type": "markdown",
   "metadata": {
    "slideshow": {
     "slide_type": "slide"
    }
   },
   "source": [
    "Our model is $\\hat{y} = \\hat{\\beta}X$\n",
    " - The sampling distribution of $\\beta$ is: $$ \\hat{\\beta} \\sim Normal(\\beta, (X^T X)^{-1}\\sigma^2)$$"
   ]
  },
  {
   "cell_type": "markdown",
   "metadata": {
    "slideshow": {
     "slide_type": "subslide"
    }
   },
   "source": [
    "Now all our null hypotheses have the form \"Does $\\beta_i = 0$ ?\"\n",
    "\n",
    "###### References:\n",
    "- [ISLR 3.1.2](http://www-bcf.usc.edu/~gareth/ISL/ISLR%20Sixth%20Printing.pdf)\n",
    "- [here](http://home.cc.umanitoba.ca/~godwinrt/4042/material/part3.pdf)\n",
    "- [here](http://www.stat.cmu.edu/~hseltman/309/Book/chapter9.pdf)"
   ]
  },
  {
   "cell_type": "code",
   "execution_count": null,
   "metadata": {},
   "outputs": [],
   "source": []
  },
  {
   "cell_type": "markdown",
   "metadata": {
    "slideshow": {
     "slide_type": "notes"
    }
   },
   "source": [
    "# APPENDIX"
   ]
  },
  {
   "cell_type": "markdown",
   "metadata": {
    "slideshow": {
     "slide_type": "notes"
    }
   },
   "source": [
    "## What is regression in more than one dimension?\n",
    "\n",
    "Let's plot `mpg` against `weight` and `acceleration`"
   ]
  },
  {
   "cell_type": "code",
   "execution_count": null,
   "metadata": {
    "slideshow": {
     "slide_type": "notes"
    }
   },
   "outputs": [],
   "source": [
    "# 3D Plot - Two Features (weight and acceleration) and One Target (mpg)\n",
    "import matplotlib.pyplot as plt\n",
    "from mpl_toolkits.mplot3d import Axes3D\n",
    "%matplotlib notebook\n",
    "%matplotlib inline\n",
    "fig = plt.figure(figsize=(12,6))\n",
    "ax = fig.add_subplot(111, projection='3d')\n",
    "ax.scatter(cars['weight'], cars['acceleration'], cars['mpg'])\n",
    "ax.set_zlabel('mpg')\n",
    "ax.set_xlabel('weight')\n",
    "ax.set_ylabel('acceleration');"
   ]
  },
  {
   "cell_type": "markdown",
   "metadata": {
    "slideshow": {
     "slide_type": "notes"
    }
   },
   "source": [
    "Linear regression then finds the **plane** that minimizes SSR."
   ]
  },
  {
   "cell_type": "code",
   "execution_count": null,
   "metadata": {
    "slideshow": {
     "slide_type": "notes"
    }
   },
   "outputs": [],
   "source": [
    "fig = plt.figure(figsize=(12,6))\n",
    "ax = fig.add_subplot(111, projection='3d')\n",
    "ax.scatter(cars['weight'], cars['acceleration'], cars['mpg']);\n",
    "ax.set_zlabel('mpg')\n",
    "ax.set_xlabel('weight')\n",
    "ax.set_ylabel('acceleration');\n",
    "\n",
    "xx1 = np.linspace(cars['weight'].min(), cars['weight'].max(), 20)\n",
    "xx2 = np.linspace(cars['acceleration'].min(), cars['acceleration'].max(), 20)\n",
    "xx1, xx2 = np.meshgrid(xx1, xx2)\n",
    "best_plane = (results.params['const'] +\n",
    "              results.params['weight']*xx1 +\n",
    "              results.params['acceleration']*xx2)\n",
    "\n",
    "# Plot the surface.\n",
    "surf = ax.plot_surface(xx1, xx2, best_plane, color='k', alpha=.6, cmap='viridis')\n"
   ]
  },
  {
   "cell_type": "code",
   "execution_count": null,
   "metadata": {
    "slideshow": {
     "slide_type": "notes"
    }
   },
   "outputs": [],
   "source": []
  },
  {
   "cell_type": "markdown",
   "metadata": {
    "slideshow": {
     "slide_type": "notes"
    }
   },
   "source": [
    "## What assumptions must hold in order to make these statistical statements?\n",
    "Test your assumptions by **plotting your residuals**: $y_{actual} - y_{predicted}$\n",
    "\n",
    "It is useful to plot your residuals against various features as well as plotting residuals vs predicted y-values."
   ]
  },
  {
   "cell_type": "markdown",
   "metadata": {
    "slideshow": {
     "slide_type": "notes"
    }
   },
   "source": [
    "### Linearity: violated when you see nonlinear trends in your data /  residuals"
   ]
  },
  {
   "cell_type": "code",
   "execution_count": null,
   "metadata": {
    "slideshow": {
     "slide_type": "notes"
    }
   },
   "outputs": [],
   "source": [
    "fig, axs = plt.subplots(1,2, figsize=(12,6))\n",
    "\n",
    "axs[0].scatter(X['weight'],y, color='k', s=20)\n",
    "axs[0].set_xlabel('weight')\n",
    "axs[0].set_ylabel('mpg')\n",
    "\n",
    "axs[1].scatter(X['acceleration'],y, color='k', s=20)\n",
    "axs[1].set_xlabel('acceleration')\n",
    "axs[1].set_ylabel('mpg');"
   ]
  },
  {
   "cell_type": "code",
   "execution_count": null,
   "metadata": {
    "slideshow": {
     "slide_type": "notes"
    }
   },
   "outputs": [],
   "source": [
    "fig, axs = plt.subplots(3,1, figsize=(8,20))\n",
    "\n",
    "axs[0].scatter(X['weight'], results.resid)\n",
    "axs[0].hlines(0,\n",
    "              X['weight'].min(), \n",
    "              X['weight'].max(), \n",
    "              'k', linestyle='dashed')\n",
    "axs[0].set_xlabel('weight')\n",
    "axs[0].set_ylabel('residuals');\n",
    "\n",
    "axs[1].scatter(X['acceleration'], results.resid)\n",
    "axs[1].hlines(0,\n",
    "              X['acceleration'].min(), \n",
    "              X['acceleration'].max(), \n",
    "              'k', linestyle='dashed')\n",
    "axs[1].set_xlabel('acceleration')\n",
    "axs[1].set_ylabel('residuals');\n",
    "\n",
    "axs[2].scatter(results.fittedvalues, results.resid)\n",
    "axs[2].hlines(0,\n",
    "              results.fittedvalues.min(), \n",
    "              results.fittedvalues.max(),\n",
    "              'k', linestyle='dashed')\n",
    "axs[2].set_xlabel('predicted mpg')\n",
    "axs[2].set_ylabel('residuals');"
   ]
  },
  {
   "cell_type": "markdown",
   "metadata": {
    "slideshow": {
     "slide_type": "notes"
    }
   },
   "source": [
    "### Homoscedasticity: violated when the variance of your residuals isn't constant"
   ]
  },
  {
   "cell_type": "markdown",
   "metadata": {
    "slideshow": {
     "slide_type": "notes"
    }
   },
   "source": [
    "### Normality: violated when the residuals are not normally distributed"
   ]
  },
  {
   "cell_type": "markdown",
   "metadata": {
    "slideshow": {
     "slide_type": "notes"
    }
   },
   "source": [
    "The tools for this are the [Q-Q plot](https://en.wikipedia.org/wiki/Q%E2%80%93Q_plot) and the [Jarque-Bera test](https://en.wikipedia.org/wiki/Jarque%E2%80%93Bera_test) (the null hypothesis for the JB test is \"the residuals come from a distribution with zero skewness and zero excess kurtosis\", which are both properties of the normal distribution)."
   ]
  },
  {
   "cell_type": "markdown",
   "metadata": {
    "slideshow": {
     "slide_type": "notes"
    }
   },
   "source": [
    "### Multicollinearity: strictly violated when one feature is a linear combination of others, loosely violated when one feature is highly correlated with others"
   ]
  }
 ],
 "metadata": {
  "celltoolbar": "Slideshow",
  "kernelspec": {
   "display_name": "Python 3",
   "language": "python",
   "name": "python3"
  },
  "language_info": {
   "codemirror_mode": {
    "name": "ipython",
    "version": 3
   },
   "file_extension": ".py",
   "mimetype": "text/x-python",
   "name": "python",
   "nbconvert_exporter": "python",
   "pygments_lexer": "ipython3",
   "version": "3.9.2"
  }
 },
 "nbformat": 4,
 "nbformat_minor": 4
}
